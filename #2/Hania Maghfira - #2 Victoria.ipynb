{
 "cells": [
  {
   "cell_type": "markdown",
   "metadata": {},
   "source": [
    "# BUSINESS UNDERSTANDING"
   ]
  },
  {
   "cell_type": "markdown",
   "metadata": {},
   "source": [
    "Tony who has profession as a broker wants to predict apartment price in Victoria based on living area environment and apartment conservation status. Determine **the best model to predict and redefine new conservation variable in 3 level, A = 1A, B = 2A, C = 2B and 3A**.<br>\n",
    "\n",
    "The step that should be done :\n",
    "1. Import Dataset: Load the dataset.\n",
    "2. Exploratory Data Analysis: Create summary of the dataset, with python function. (mean, median, modus, max, min, range)\n",
    "3. Data Visualization: Create any kind suitable plot of dataset, it will provide a lot of insight into the problem.\n",
    "4. Variable Selection: Choose the variable and its reason.\n",
    "5. Modelling: Create models using Regression\n",
    "6. Accuracy or Error: Calculate the Error using the helper function from the library, from dataset only"
   ]
  },
  {
   "cell_type": "markdown",
   "metadata": {},
   "source": [
    "# DATA UNDERSTANDING"
   ]
  },
  {
   "cell_type": "markdown",
   "metadata": {},
   "source": [
    "The steps of this section :<br>\n",
    "1. Import Library\n",
    "2. Load Dataset\n",
    "3. **Exploratory Data Analysis (EDA) of dataset**"
   ]
  },
  {
   "cell_type": "markdown",
   "metadata": {},
   "source": [
    "### IMPORT LIBRARY"
   ]
  },
  {
   "cell_type": "code",
   "execution_count": 55,
   "metadata": {},
   "outputs": [],
   "source": [
    "import pandas as pd\n",
    "import numpy as np\n",
    "\n",
    "import matplotlib.pyplot as plt\n",
    "import seaborn as sns\n",
    "\n",
    "from sklearn.linear_model import LinearRegression\n",
    "from sklearn.model_selection import train_test_split\n",
    "from sklearn.metrics import mean_absolute_error\n",
    "from sklearn.metrics import mean_squared_error\n",
    "\n",
    "import warnings\n",
    "warnings.filterwarnings('ignore')"
   ]
  },
  {
   "cell_type": "markdown",
   "metadata": {},
   "source": [
    "### LOAD DATASET"
   ]
  },
  {
   "cell_type": "code",
   "execution_count": 56,
   "metadata": {},
   "outputs": [],
   "source": [
    "df = pd.read_csv('victoria.csv')"
   ]
  },
  {
   "cell_type": "markdown",
   "metadata": {},
   "source": [
    "### EXPLORATORY DATA ANALYSIS"
   ]
  },
  {
   "cell_type": "code",
   "execution_count": 57,
   "metadata": {},
   "outputs": [
    {
     "data": {
      "text/html": [
       "<div>\n",
       "<style scoped>\n",
       "    .dataframe tbody tr th:only-of-type {\n",
       "        vertical-align: middle;\n",
       "    }\n",
       "\n",
       "    .dataframe tbody tr th {\n",
       "        vertical-align: top;\n",
       "    }\n",
       "\n",
       "    .dataframe thead th {\n",
       "        text-align: right;\n",
       "    }\n",
       "</style>\n",
       "<table border=\"1\" class=\"dataframe\">\n",
       "  <thead>\n",
       "    <tr style=\"text-align: right;\">\n",
       "      <th></th>\n",
       "      <th>row.labels</th>\n",
       "      <th>totalprice</th>\n",
       "      <th>area</th>\n",
       "      <th>zone</th>\n",
       "      <th>category</th>\n",
       "      <th>age</th>\n",
       "      <th>floor</th>\n",
       "      <th>rooms</th>\n",
       "      <th>out</th>\n",
       "      <th>conservation</th>\n",
       "      <th>toilets</th>\n",
       "      <th>garage</th>\n",
       "      <th>elevator</th>\n",
       "      <th>streetcategory</th>\n",
       "      <th>heating</th>\n",
       "      <th>tras</th>\n",
       "    </tr>\n",
       "  </thead>\n",
       "  <tbody>\n",
       "    <tr>\n",
       "      <th>0</th>\n",
       "      <td>1</td>\n",
       "      <td>228000</td>\n",
       "      <td>7530999756</td>\n",
       "      <td>Z45</td>\n",
       "      <td>4B</td>\n",
       "      <td>33</td>\n",
       "      <td>3</td>\n",
       "      <td>5</td>\n",
       "      <td>E100</td>\n",
       "      <td>2B</td>\n",
       "      <td>1</td>\n",
       "      <td>0</td>\n",
       "      <td>1</td>\n",
       "      <td>S3</td>\n",
       "      <td>3A</td>\n",
       "      <td>0</td>\n",
       "    </tr>\n",
       "    <tr>\n",
       "      <th>1</th>\n",
       "      <td>2</td>\n",
       "      <td>409000</td>\n",
       "      <td>1006500015</td>\n",
       "      <td>Z31</td>\n",
       "      <td>3B</td>\n",
       "      <td>5</td>\n",
       "      <td>7</td>\n",
       "      <td>5</td>\n",
       "      <td>E50</td>\n",
       "      <td>1A</td>\n",
       "      <td>2</td>\n",
       "      <td>1</td>\n",
       "      <td>1</td>\n",
       "      <td>S5</td>\n",
       "      <td>4A</td>\n",
       "      <td>1</td>\n",
       "    </tr>\n",
       "    <tr>\n",
       "      <th>2</th>\n",
       "      <td>3</td>\n",
       "      <td>200000</td>\n",
       "      <td>8887000275</td>\n",
       "      <td>Z52</td>\n",
       "      <td>3A</td>\n",
       "      <td>14</td>\n",
       "      <td>8</td>\n",
       "      <td>5</td>\n",
       "      <td>E50</td>\n",
       "      <td>1A</td>\n",
       "      <td>2</td>\n",
       "      <td>0</td>\n",
       "      <td>1</td>\n",
       "      <td>S2</td>\n",
       "      <td>3A</td>\n",
       "      <td>0</td>\n",
       "    </tr>\n",
       "    <tr>\n",
       "      <th>3</th>\n",
       "      <td>4</td>\n",
       "      <td>180000</td>\n",
       "      <td>6261000061</td>\n",
       "      <td>Z62</td>\n",
       "      <td>4A</td>\n",
       "      <td>41</td>\n",
       "      <td>3</td>\n",
       "      <td>4</td>\n",
       "      <td>E50</td>\n",
       "      <td>2A</td>\n",
       "      <td>1</td>\n",
       "      <td>0</td>\n",
       "      <td>0</td>\n",
       "      <td>S3</td>\n",
       "      <td>1A</td>\n",
       "      <td>0</td>\n",
       "    </tr>\n",
       "    <tr>\n",
       "      <th>4</th>\n",
       "      <td>5</td>\n",
       "      <td>443600</td>\n",
       "      <td>1461499939</td>\n",
       "      <td>Z31</td>\n",
       "      <td>3A</td>\n",
       "      <td>22</td>\n",
       "      <td>6</td>\n",
       "      <td>7</td>\n",
       "      <td>E100</td>\n",
       "      <td>1A</td>\n",
       "      <td>2</td>\n",
       "      <td>0</td>\n",
       "      <td>1</td>\n",
       "      <td>S4</td>\n",
       "      <td>4A</td>\n",
       "      <td>1</td>\n",
       "    </tr>\n",
       "  </tbody>\n",
       "</table>\n",
       "</div>"
      ],
      "text/plain": [
       "   row.labels totalprice        area zone category  age  floor  rooms   out  \\\n",
       "0           1     228000  7530999756  Z45       4B   33      3      5  E100   \n",
       "1           2     409000  1006500015  Z31       3B    5      7      5   E50   \n",
       "2           3     200000  8887000275  Z52       3A   14      8      5   E50   \n",
       "3           4     180000  6261000061  Z62       4A   41      3      4   E50   \n",
       "4           5     443600  1461499939  Z31       3A   22      6      7  E100   \n",
       "\n",
       "  conservation  toilets  garage  elevator streetcategory heating  tras  \n",
       "0           2B        1       0         1             S3      3A     0  \n",
       "1           1A        2       1         1             S5      4A     1  \n",
       "2           1A        2       0         1             S2      3A     0  \n",
       "3           2A        1       0         0             S3      1A     0  \n",
       "4           1A        2       0         1             S4      4A     1  "
      ]
     },
     "execution_count": 57,
     "metadata": {},
     "output_type": "execute_result"
    }
   ],
   "source": [
    "df.head()"
   ]
  },
  {
   "cell_type": "markdown",
   "metadata": {},
   "source": [
    "##### The dimension of dataset (row,column)"
   ]
  },
  {
   "cell_type": "code",
   "execution_count": 58,
   "metadata": {},
   "outputs": [
    {
     "data": {
      "text/plain": [
       "(218, 16)"
      ]
     },
     "execution_count": 58,
     "metadata": {},
     "output_type": "execute_result"
    }
   ],
   "source": [
    "df.shape"
   ]
  },
  {
   "cell_type": "markdown",
   "metadata": {},
   "source": [
    "##### The summary of dataset"
   ]
  },
  {
   "cell_type": "code",
   "execution_count": 59,
   "metadata": {
    "scrolled": true
   },
   "outputs": [
    {
     "data": {
      "text/html": [
       "<div>\n",
       "<style scoped>\n",
       "    .dataframe tbody tr th:only-of-type {\n",
       "        vertical-align: middle;\n",
       "    }\n",
       "\n",
       "    .dataframe tbody tr th {\n",
       "        vertical-align: top;\n",
       "    }\n",
       "\n",
       "    .dataframe thead th {\n",
       "        text-align: right;\n",
       "    }\n",
       "</style>\n",
       "<table border=\"1\" class=\"dataframe\">\n",
       "  <thead>\n",
       "    <tr style=\"text-align: right;\">\n",
       "      <th></th>\n",
       "      <th>row.labels</th>\n",
       "      <th>age</th>\n",
       "      <th>floor</th>\n",
       "      <th>rooms</th>\n",
       "      <th>toilets</th>\n",
       "      <th>garage</th>\n",
       "      <th>elevator</th>\n",
       "      <th>tras</th>\n",
       "    </tr>\n",
       "  </thead>\n",
       "  <tbody>\n",
       "    <tr>\n",
       "      <th>count</th>\n",
       "      <td>218.000000</td>\n",
       "      <td>218.000000</td>\n",
       "      <td>218.000000</td>\n",
       "      <td>218.000000</td>\n",
       "      <td>218.000000</td>\n",
       "      <td>218.000000</td>\n",
       "      <td>218.000000</td>\n",
       "      <td>218.000000</td>\n",
       "    </tr>\n",
       "    <tr>\n",
       "      <th>mean</th>\n",
       "      <td>109.500000</td>\n",
       "      <td>19.899083</td>\n",
       "      <td>4.440367</td>\n",
       "      <td>4.853211</td>\n",
       "      <td>1.467890</td>\n",
       "      <td>0.243119</td>\n",
       "      <td>0.798165</td>\n",
       "      <td>0.807339</td>\n",
       "    </tr>\n",
       "    <tr>\n",
       "      <th>std</th>\n",
       "      <td>63.075352</td>\n",
       "      <td>14.595590</td>\n",
       "      <td>2.126988</td>\n",
       "      <td>0.634285</td>\n",
       "      <td>0.500116</td>\n",
       "      <td>0.450881</td>\n",
       "      <td>0.402293</td>\n",
       "      <td>0.406787</td>\n",
       "    </tr>\n",
       "    <tr>\n",
       "      <th>min</th>\n",
       "      <td>1.000000</td>\n",
       "      <td>1.000000</td>\n",
       "      <td>1.000000</td>\n",
       "      <td>3.000000</td>\n",
       "      <td>1.000000</td>\n",
       "      <td>0.000000</td>\n",
       "      <td>0.000000</td>\n",
       "      <td>0.000000</td>\n",
       "    </tr>\n",
       "    <tr>\n",
       "      <th>25%</th>\n",
       "      <td>55.250000</td>\n",
       "      <td>11.000000</td>\n",
       "      <td>3.000000</td>\n",
       "      <td>5.000000</td>\n",
       "      <td>1.000000</td>\n",
       "      <td>0.000000</td>\n",
       "      <td>1.000000</td>\n",
       "      <td>1.000000</td>\n",
       "    </tr>\n",
       "    <tr>\n",
       "      <th>50%</th>\n",
       "      <td>109.500000</td>\n",
       "      <td>16.000000</td>\n",
       "      <td>4.000000</td>\n",
       "      <td>5.000000</td>\n",
       "      <td>1.000000</td>\n",
       "      <td>0.000000</td>\n",
       "      <td>1.000000</td>\n",
       "      <td>1.000000</td>\n",
       "    </tr>\n",
       "    <tr>\n",
       "      <th>75%</th>\n",
       "      <td>163.750000</td>\n",
       "      <td>24.000000</td>\n",
       "      <td>5.000000</td>\n",
       "      <td>5.000000</td>\n",
       "      <td>2.000000</td>\n",
       "      <td>0.000000</td>\n",
       "      <td>1.000000</td>\n",
       "      <td>1.000000</td>\n",
       "    </tr>\n",
       "    <tr>\n",
       "      <th>max</th>\n",
       "      <td>218.000000</td>\n",
       "      <td>118.000000</td>\n",
       "      <td>12.000000</td>\n",
       "      <td>7.000000</td>\n",
       "      <td>2.000000</td>\n",
       "      <td>2.000000</td>\n",
       "      <td>1.000000</td>\n",
       "      <td>2.000000</td>\n",
       "    </tr>\n",
       "  </tbody>\n",
       "</table>\n",
       "</div>"
      ],
      "text/plain": [
       "       row.labels         age       floor       rooms     toilets      garage  \\\n",
       "count  218.000000  218.000000  218.000000  218.000000  218.000000  218.000000   \n",
       "mean   109.500000   19.899083    4.440367    4.853211    1.467890    0.243119   \n",
       "std     63.075352   14.595590    2.126988    0.634285    0.500116    0.450881   \n",
       "min      1.000000    1.000000    1.000000    3.000000    1.000000    0.000000   \n",
       "25%     55.250000   11.000000    3.000000    5.000000    1.000000    0.000000   \n",
       "50%    109.500000   16.000000    4.000000    5.000000    1.000000    0.000000   \n",
       "75%    163.750000   24.000000    5.000000    5.000000    2.000000    0.000000   \n",
       "max    218.000000  118.000000   12.000000    7.000000    2.000000    2.000000   \n",
       "\n",
       "         elevator        tras  \n",
       "count  218.000000  218.000000  \n",
       "mean     0.798165    0.807339  \n",
       "std      0.402293    0.406787  \n",
       "min      0.000000    0.000000  \n",
       "25%      1.000000    1.000000  \n",
       "50%      1.000000    1.000000  \n",
       "75%      1.000000    1.000000  \n",
       "max      1.000000    2.000000  "
      ]
     },
     "execution_count": 59,
     "metadata": {},
     "output_type": "execute_result"
    }
   ],
   "source": [
    "df.describe()"
   ]
  },
  {
   "cell_type": "markdown",
   "metadata": {},
   "source": [
    "##### The information of dataset"
   ]
  },
  {
   "cell_type": "code",
   "execution_count": 60,
   "metadata": {},
   "outputs": [
    {
     "name": "stdout",
     "output_type": "stream",
     "text": [
      "<class 'pandas.core.frame.DataFrame'>\n",
      "RangeIndex: 218 entries, 0 to 217\n",
      "Data columns (total 16 columns):\n",
      "row.labels        218 non-null int64\n",
      "totalprice        218 non-null object\n",
      "area              218 non-null object\n",
      "zone              218 non-null object\n",
      "category          218 non-null object\n",
      "age               218 non-null int64\n",
      "floor             218 non-null int64\n",
      "rooms             218 non-null int64\n",
      "out               218 non-null object\n",
      "conservation      218 non-null object\n",
      "toilets           218 non-null int64\n",
      "garage            218 non-null int64\n",
      "elevator          218 non-null int64\n",
      "streetcategory    218 non-null object\n",
      "heating           218 non-null object\n",
      "tras              218 non-null int64\n",
      "dtypes: int64(8), object(8)\n",
      "memory usage: 27.3+ KB\n"
     ]
    }
   ],
   "source": [
    "df.info()"
   ]
  },
  {
   "cell_type": "markdown",
   "metadata": {},
   "source": [
    "Dataset have 218 rows and 16 columns with 8 integer data type and 8 categorical data type."
   ]
  },
  {
   "cell_type": "markdown",
   "metadata": {},
   "source": [
    "# DATA PREPARATION\n",
    "In this section, I will prepare the data by dropping unused columns, handling the missing values, visualizing each data to see the correlation, handling outlier, and choosing the feature importance."
   ]
  },
  {
   "cell_type": "markdown",
   "metadata": {},
   "source": [
    "### DROP UNUSED COLUMNS"
   ]
  },
  {
   "cell_type": "code",
   "execution_count": 61,
   "metadata": {},
   "outputs": [
    {
     "data": {
      "text/html": [
       "<div>\n",
       "<style scoped>\n",
       "    .dataframe tbody tr th:only-of-type {\n",
       "        vertical-align: middle;\n",
       "    }\n",
       "\n",
       "    .dataframe tbody tr th {\n",
       "        vertical-align: top;\n",
       "    }\n",
       "\n",
       "    .dataframe thead th {\n",
       "        text-align: right;\n",
       "    }\n",
       "</style>\n",
       "<table border=\"1\" class=\"dataframe\">\n",
       "  <thead>\n",
       "    <tr style=\"text-align: right;\">\n",
       "      <th></th>\n",
       "      <th>totalprice</th>\n",
       "      <th>area</th>\n",
       "      <th>zone</th>\n",
       "      <th>category</th>\n",
       "      <th>age</th>\n",
       "      <th>floor</th>\n",
       "      <th>rooms</th>\n",
       "      <th>out</th>\n",
       "      <th>conservation</th>\n",
       "      <th>toilets</th>\n",
       "      <th>garage</th>\n",
       "      <th>elevator</th>\n",
       "      <th>streetcategory</th>\n",
       "      <th>heating</th>\n",
       "      <th>tras</th>\n",
       "    </tr>\n",
       "  </thead>\n",
       "  <tbody>\n",
       "    <tr>\n",
       "      <th>0</th>\n",
       "      <td>228000</td>\n",
       "      <td>7530999756</td>\n",
       "      <td>Z45</td>\n",
       "      <td>4B</td>\n",
       "      <td>33</td>\n",
       "      <td>3</td>\n",
       "      <td>5</td>\n",
       "      <td>E100</td>\n",
       "      <td>2B</td>\n",
       "      <td>1</td>\n",
       "      <td>0</td>\n",
       "      <td>1</td>\n",
       "      <td>S3</td>\n",
       "      <td>3A</td>\n",
       "      <td>0</td>\n",
       "    </tr>\n",
       "    <tr>\n",
       "      <th>1</th>\n",
       "      <td>409000</td>\n",
       "      <td>1006500015</td>\n",
       "      <td>Z31</td>\n",
       "      <td>3B</td>\n",
       "      <td>5</td>\n",
       "      <td>7</td>\n",
       "      <td>5</td>\n",
       "      <td>E50</td>\n",
       "      <td>1A</td>\n",
       "      <td>2</td>\n",
       "      <td>1</td>\n",
       "      <td>1</td>\n",
       "      <td>S5</td>\n",
       "      <td>4A</td>\n",
       "      <td>1</td>\n",
       "    </tr>\n",
       "    <tr>\n",
       "      <th>2</th>\n",
       "      <td>200000</td>\n",
       "      <td>8887000275</td>\n",
       "      <td>Z52</td>\n",
       "      <td>3A</td>\n",
       "      <td>14</td>\n",
       "      <td>8</td>\n",
       "      <td>5</td>\n",
       "      <td>E50</td>\n",
       "      <td>1A</td>\n",
       "      <td>2</td>\n",
       "      <td>0</td>\n",
       "      <td>1</td>\n",
       "      <td>S2</td>\n",
       "      <td>3A</td>\n",
       "      <td>0</td>\n",
       "    </tr>\n",
       "    <tr>\n",
       "      <th>3</th>\n",
       "      <td>180000</td>\n",
       "      <td>6261000061</td>\n",
       "      <td>Z62</td>\n",
       "      <td>4A</td>\n",
       "      <td>41</td>\n",
       "      <td>3</td>\n",
       "      <td>4</td>\n",
       "      <td>E50</td>\n",
       "      <td>2A</td>\n",
       "      <td>1</td>\n",
       "      <td>0</td>\n",
       "      <td>0</td>\n",
       "      <td>S3</td>\n",
       "      <td>1A</td>\n",
       "      <td>0</td>\n",
       "    </tr>\n",
       "    <tr>\n",
       "      <th>4</th>\n",
       "      <td>443600</td>\n",
       "      <td>1461499939</td>\n",
       "      <td>Z31</td>\n",
       "      <td>3A</td>\n",
       "      <td>22</td>\n",
       "      <td>6</td>\n",
       "      <td>7</td>\n",
       "      <td>E100</td>\n",
       "      <td>1A</td>\n",
       "      <td>2</td>\n",
       "      <td>0</td>\n",
       "      <td>1</td>\n",
       "      <td>S4</td>\n",
       "      <td>4A</td>\n",
       "      <td>1</td>\n",
       "    </tr>\n",
       "  </tbody>\n",
       "</table>\n",
       "</div>"
      ],
      "text/plain": [
       "  totalprice        area zone category  age  floor  rooms   out conservation  \\\n",
       "0     228000  7530999756  Z45       4B   33      3      5  E100           2B   \n",
       "1     409000  1006500015  Z31       3B    5      7      5   E50           1A   \n",
       "2     200000  8887000275  Z52       3A   14      8      5   E50           1A   \n",
       "3     180000  6261000061  Z62       4A   41      3      4   E50           2A   \n",
       "4     443600  1461499939  Z31       3A   22      6      7  E100           1A   \n",
       "\n",
       "   toilets  garage  elevator streetcategory heating  tras  \n",
       "0        1       0         1             S3      3A     0  \n",
       "1        2       1         1             S5      4A     1  \n",
       "2        2       0         1             S2      3A     0  \n",
       "3        1       0         0             S3      1A     0  \n",
       "4        2       0         1             S4      4A     1  "
      ]
     },
     "execution_count": 61,
     "metadata": {},
     "output_type": "execute_result"
    }
   ],
   "source": [
    "# row labels represents the number of row, so I will drop it because it won't give any insight\n",
    "df=df.drop(columns=['row.labels'])\n",
    "df.head()"
   ]
  },
  {
   "cell_type": "markdown",
   "metadata": {},
   "source": [
    "### MISSING VALUES HANDLING"
   ]
  },
  {
   "cell_type": "code",
   "execution_count": 62,
   "metadata": {},
   "outputs": [
    {
     "name": "stdout",
     "output_type": "stream",
     "text": [
      "tras              0.0\n",
      "heating           0.0\n",
      "streetcategory    0.0\n",
      "elevator          0.0\n",
      "garage            0.0\n",
      "toilets           0.0\n",
      "conservation      0.0\n",
      "out               0.0\n",
      "rooms             0.0\n",
      "floor             0.0\n",
      "age               0.0\n",
      "category          0.0\n",
      "zone              0.0\n",
      "area              0.0\n",
      "totalprice        0.0\n",
      "dtype: float64\n"
     ]
    }
   ],
   "source": [
    "# count_missing = data.isnull().sum().sort_values(ascending = False)\n",
    "percentage_missing=round(df.isnull().sum()/len(df)*100,2).sort_values(ascending = False)\n",
    "print(percentage_missing)"
   ]
  },
  {
   "cell_type": "markdown",
   "metadata": {},
   "source": [
    "All columns have no missing values."
   ]
  },
  {
   "cell_type": "markdown",
   "metadata": {},
   "source": [
    "### DATA CLEANSING\n",
    "In this section, I will change data type of total price and area into numeric, so I can use them to create visualization."
   ]
  },
  {
   "cell_type": "code",
   "execution_count": 63,
   "metadata": {},
   "outputs": [],
   "source": [
    "#Data Cleansing\n",
    "df['totalprice'] = df['totalprice'].replace(r'[,]','', regex=True)\n",
    "df['area'] = df['area'].replace(r'[,]','', regex=True)"
   ]
  },
  {
   "cell_type": "code",
   "execution_count": 64,
   "metadata": {},
   "outputs": [],
   "source": [
    "#Change data type\n",
    "df['totalprice'] = pd.to_numeric(df['totalprice'])\n",
    "df['area'] = pd.to_numeric(df['area'])"
   ]
  },
  {
   "cell_type": "markdown",
   "metadata": {},
   "source": [
    "# DATA VISUALIZATION\n",
    "In this section, I will plot the dataset into graph using univariate and bivariate analysis."
   ]
  },
  {
   "cell_type": "markdown",
   "metadata": {},
   "source": [
    "### Univariate Analysis\n",
    "Univariate analysis will visualize one feature into graph."
   ]
  },
  {
   "cell_type": "code",
   "execution_count": 65,
   "metadata": {},
   "outputs": [
    {
     "name": "stdout",
     "output_type": "stream",
     "text": [
      "<class 'pandas.core.frame.DataFrame'>\n",
      "RangeIndex: 218 entries, 0 to 217\n",
      "Data columns (total 15 columns):\n",
      "totalprice        218 non-null int64\n",
      "area              218 non-null int64\n",
      "zone              218 non-null object\n",
      "category          218 non-null object\n",
      "age               218 non-null int64\n",
      "floor             218 non-null int64\n",
      "rooms             218 non-null int64\n",
      "out               218 non-null object\n",
      "conservation      218 non-null object\n",
      "toilets           218 non-null int64\n",
      "garage            218 non-null int64\n",
      "elevator          218 non-null int64\n",
      "streetcategory    218 non-null object\n",
      "heating           218 non-null object\n",
      "tras              218 non-null int64\n",
      "dtypes: int64(9), object(6)\n",
      "memory usage: 25.6+ KB\n"
     ]
    }
   ],
   "source": [
    "df.info()"
   ]
  },
  {
   "cell_type": "code",
   "execution_count": 66,
   "metadata": {},
   "outputs": [
    {
     "data": {
      "text/plain": [
       "<matplotlib.axes._subplots.AxesSubplot at 0x20bc02935f8>"
      ]
     },
     "execution_count": 66,
     "metadata": {},
     "output_type": "execute_result"
    },
    {
     "data": {
      "image/png": "[encoded data removed]",
      "text/plain": [
       "<matplotlib.figure.Figure at 0x20bbfcca860>"
      ]
     },
     "metadata": {},
     "output_type": "display_data"
    }
   ],
   "source": [
    "#Visualization for numeric fields\n",
    "f=plt.figure(figsize=(13,12))\n",
    "f.add_subplot(3,3,1)\n",
    "sns.distplot(df['totalprice'])\n",
    "f.add_subplot(3,3,2)\n",
    "sns.distplot(df['age'])"
   ]
  },
  {
   "cell_type": "markdown",
   "metadata": {},
   "source": [
    "From the above, we can know that :\n",
    "- Total price is centralized around 250000\n",
    "- The age of building is centralized around 20"
   ]
  },
  {
   "cell_type": "code",
   "execution_count": 67,
   "metadata": {},
   "outputs": [
    {
     "data": {
      "text/plain": [
       "<matplotlib.axes._subplots.AxesSubplot at 0x20bc0f264e0>"
      ]
     },
     "execution_count": 67,
     "metadata": {},
     "output_type": "execute_result"
    },
    {
     "data": {
      "image/png": "[encoded data removed]",
      "text/plain": [
       "<matplotlib.figure.Figure at 0x20bc0d59358>"
      ]
     },
     "metadata": {},
     "output_type": "display_data"
    }
   ],
   "source": [
    "# visualization for categoric variable\n",
    "\n",
    "f=plt.figure(figsize=(13,12))\n",
    "f.add_subplot(3,2,1)\n",
    "sns.countplot(df['category'],orient = \"h\")\n",
    "f.add_subplot(3,2,2)\n",
    "sns.countplot(df['floor'],orient = \"h\")\n",
    "f.add_subplot(3,2,3)\n",
    "sns.countplot(df['rooms'],orient = \"h\")\n",
    "f.add_subplot(3,2,4)\n",
    "sns.countplot(df['toilets'],orient = \"h\")\n",
    "f.add_subplot(3,2,5)\n",
    "sns.countplot(df['garage'],orient = \"h\")\n",
    "f.add_subplot(3,2,6)\n",
    "sns.countplot(df['elevator'],orient = \"h\")"
   ]
  },
  {
   "cell_type": "markdown",
   "metadata": {},
   "source": [
    "From the above, we can know that :\n",
    "- The apartment has 7 type of categories : 2A, 2B, 3A, 3B, 4A, 4B, and 5B category. And most of the apartment is 3B category.\n",
    "- The apartment has 12 type of floors : from 1 to 12 floors.\n",
    "- The apartment has 5 type of rooms : has 3 rooms - 7 rooms. And most of the apartment has 5 rooms.\n",
    "- The apartment has 2 type of toilets : has 1 toilet and 2 toilets. And most of the apartment has 1 toilet.\n",
    "- The apartment has 3 type of garages : has 0 garage - 2 garages. And most of the apartment has no garage.\n",
    "- The apartment has 2 type of elevators : has 0 elevator and 1 elevator. And most of the apartment has 1 elevator."
   ]
  },
  {
   "cell_type": "markdown",
   "metadata": {},
   "source": [
    "### Bivariate Analysis\n",
    "Bivariate analysis will visualize more than one feature into graph."
   ]
  },
  {
   "cell_type": "code",
   "execution_count": 68,
   "metadata": {},
   "outputs": [
    {
     "data": {
      "text/html": [
       "<style  type=\"text/css\" >\n",
       "    #T_e089df50_eb2d_11e9_8535_c8d9d2880f86row0_col0 {\n",
       "            background-color:  #023858;\n",
       "        }    #T_e089df50_eb2d_11e9_8535_c8d9d2880f86row0_col1 {\n",
       "            background-color:  #f5eef6;\n",
       "        }    #T_e089df50_eb2d_11e9_8535_c8d9d2880f86row0_col2 {\n",
       "            background-color:  #d3d4e7;\n",
       "        }    #T_e089df50_eb2d_11e9_8535_c8d9d2880f86row0_col3 {\n",
       "            background-color:  #eee9f3;\n",
       "        }    #T_e089df50_eb2d_11e9_8535_c8d9d2880f86row0_col4 {\n",
       "            background-color:  #a7bddb;\n",
       "        }    #T_e089df50_eb2d_11e9_8535_c8d9d2880f86row0_col5 {\n",
       "            background-color:  #83afd3;\n",
       "        }    #T_e089df50_eb2d_11e9_8535_c8d9d2880f86row0_col6 {\n",
       "            background-color:  #a4bcda;\n",
       "        }    #T_e089df50_eb2d_11e9_8535_c8d9d2880f86row0_col7 {\n",
       "            background-color:  #9cb9d9;\n",
       "        }    #T_e089df50_eb2d_11e9_8535_c8d9d2880f86row0_col8 {\n",
       "            background-color:  #b0c2de;\n",
       "        }    #T_e089df50_eb2d_11e9_8535_c8d9d2880f86row1_col0 {\n",
       "            background-color:  #fff7fb;\n",
       "        }    #T_e089df50_eb2d_11e9_8535_c8d9d2880f86row1_col1 {\n",
       "            background-color:  #023858;\n",
       "        }    #T_e089df50_eb2d_11e9_8535_c8d9d2880f86row1_col2 {\n",
       "            background-color:  #dedcec;\n",
       "        }    #T_e089df50_eb2d_11e9_8535_c8d9d2880f86row1_col3 {\n",
       "            background-color:  #f1ebf5;\n",
       "        }    #T_e089df50_eb2d_11e9_8535_c8d9d2880f86row1_col4 {\n",
       "            background-color:  #fff7fb;\n",
       "        }    #T_e089df50_eb2d_11e9_8535_c8d9d2880f86row1_col5 {\n",
       "            background-color:  #fef6fb;\n",
       "        }    #T_e089df50_eb2d_11e9_8535_c8d9d2880f86row1_col6 {\n",
       "            background-color:  #fbf3f9;\n",
       "        }    #T_e089df50_eb2d_11e9_8535_c8d9d2880f86row1_col7 {\n",
       "            background-color:  #c2cbe2;\n",
       "        }    #T_e089df50_eb2d_11e9_8535_c8d9d2880f86row1_col8 {\n",
       "            background-color:  #d9d8ea;\n",
       "        }    #T_e089df50_eb2d_11e9_8535_c8d9d2880f86row2_col0 {\n",
       "            background-color:  #f1ebf4;\n",
       "        }    #T_e089df50_eb2d_11e9_8535_c8d9d2880f86row2_col1 {\n",
       "            background-color:  #efe9f3;\n",
       "        }    #T_e089df50_eb2d_11e9_8535_c8d9d2880f86row2_col2 {\n",
       "            background-color:  #023858;\n",
       "        }    #T_e089df50_eb2d_11e9_8535_c8d9d2880f86row2_col3 {\n",
       "            background-color:  #faf3f9;\n",
       "        }    #T_e089df50_eb2d_11e9_8535_c8d9d2880f86row2_col4 {\n",
       "            background-color:  #e7e3f0;\n",
       "        }    #T_e089df50_eb2d_11e9_8535_c8d9d2880f86row2_col5 {\n",
       "            background-color:  #fff7fb;\n",
       "        }    #T_e089df50_eb2d_11e9_8535_c8d9d2880f86row2_col6 {\n",
       "            background-color:  #fff7fb;\n",
       "        }    #T_e089df50_eb2d_11e9_8535_c8d9d2880f86row2_col7 {\n",
       "            background-color:  #fff7fb;\n",
       "        }    #T_e089df50_eb2d_11e9_8535_c8d9d2880f86row2_col8 {\n",
       "            background-color:  #fff7fb;\n",
       "        }    #T_e089df50_eb2d_11e9_8535_c8d9d2880f86row3_col0 {\n",
       "            background-color:  #e4e1ef;\n",
       "        }    #T_e089df50_eb2d_11e9_8535_c8d9d2880f86row3_col1 {\n",
       "            background-color:  #dbdaeb;\n",
       "        }    #T_e089df50_eb2d_11e9_8535_c8d9d2880f86row3_col2 {\n",
       "            background-color:  #d4d4e8;\n",
       "        }    #T_e089df50_eb2d_11e9_8535_c8d9d2880f86row3_col3 {\n",
       "            background-color:  #023858;\n",
       "        }    #T_e089df50_eb2d_11e9_8535_c8d9d2880f86row3_col4 {\n",
       "            background-color:  #b9c6e0;\n",
       "        }    #T_e089df50_eb2d_11e9_8535_c8d9d2880f86row3_col5 {\n",
       "            background-color:  #c0c9e2;\n",
       "        }    #T_e089df50_eb2d_11e9_8535_c8d9d2880f86row3_col6 {\n",
       "            background-color:  #e7e3f0;\n",
       "        }    #T_e089df50_eb2d_11e9_8535_c8d9d2880f86row3_col7 {\n",
       "            background-color:  #8fb4d6;\n",
       "        }    #T_e089df50_eb2d_11e9_8535_c8d9d2880f86row3_col8 {\n",
       "            background-color:  #eee8f3;\n",
       "        }    #T_e089df50_eb2d_11e9_8535_c8d9d2880f86row4_col0 {\n",
       "            background-color:  #b7c5df;\n",
       "        }    #T_e089df50_eb2d_11e9_8535_c8d9d2880f86row4_col1 {\n",
       "            background-color:  #fff7fb;\n",
       "        }    #T_e089df50_eb2d_11e9_8535_c8d9d2880f86row4_col2 {\n",
       "            background-color:  #d4d4e8;\n",
       "        }    #T_e089df50_eb2d_11e9_8535_c8d9d2880f86row4_col3 {\n",
       "            background-color:  #d6d6e9;\n",
       "        }    #T_e089df50_eb2d_11e9_8535_c8d9d2880f86row4_col4 {\n",
       "            background-color:  #023858;\n",
       "        }    #T_e089df50_eb2d_11e9_8535_c8d9d2880f86row4_col5 {\n",
       "            background-color:  #5c9fc9;\n",
       "        }    #T_e089df50_eb2d_11e9_8535_c8d9d2880f86row4_col6 {\n",
       "            background-color:  #b0c2de;\n",
       "        }    #T_e089df50_eb2d_11e9_8535_c8d9d2880f86row4_col7 {\n",
       "            background-color:  #60a1ca;\n",
       "        }    #T_e089df50_eb2d_11e9_8535_c8d9d2880f86row4_col8 {\n",
       "            background-color:  #d3d4e7;\n",
       "        }    #T_e089df50_eb2d_11e9_8535_c8d9d2880f86row5_col0 {\n",
       "            background-color:  #93b5d6;\n",
       "        }    #T_e089df50_eb2d_11e9_8535_c8d9d2880f86row5_col1 {\n",
       "            background-color:  #fff7fb;\n",
       "        }    #T_e089df50_eb2d_11e9_8535_c8d9d2880f86row5_col2 {\n",
       "            background-color:  #f1ebf5;\n",
       "        }    #T_e089df50_eb2d_11e9_8535_c8d9d2880f86row5_col3 {\n",
       "            background-color:  #dbdaeb;\n",
       "        }    #T_e089df50_eb2d_11e9_8535_c8d9d2880f86row5_col4 {\n",
       "            background-color:  #5ea0ca;\n",
       "        }    #T_e089df50_eb2d_11e9_8535_c8d9d2880f86row5_col5 {\n",
       "            background-color:  #023858;\n",
       "        }    #T_e089df50_eb2d_11e9_8535_c8d9d2880f86row5_col6 {\n",
       "            background-color:  #5c9fc9;\n",
       "        }    #T_e089df50_eb2d_11e9_8535_c8d9d2880f86row5_col7 {\n",
       "            background-color:  #3f93c2;\n",
       "        }    #T_e089df50_eb2d_11e9_8535_c8d9d2880f86row5_col8 {\n",
       "            background-color:  #a2bcda;\n",
       "        }    #T_e089df50_eb2d_11e9_8535_c8d9d2880f86row6_col0 {\n",
       "            background-color:  #a8bedc;\n",
       "        }    #T_e089df50_eb2d_11e9_8535_c8d9d2880f86row6_col1 {\n",
       "            background-color:  #f4edf6;\n",
       "        }    #T_e089df50_eb2d_11e9_8535_c8d9d2880f86row6_col2 {\n",
       "            background-color:  #e9e5f1;\n",
       "        }    #T_e089df50_eb2d_11e9_8535_c8d9d2880f86row6_col3 {\n",
       "            background-color:  #f3edf5;\n",
       "        }    #T_e089df50_eb2d_11e9_8535_c8d9d2880f86row6_col4 {\n",
       "            background-color:  #a5bddb;\n",
       "        }    #T_e089df50_eb2d_11e9_8535_c8d9d2880f86row6_col5 {\n",
       "            background-color:  #509ac6;\n",
       "        }    #T_e089df50_eb2d_11e9_8535_c8d9d2880f86row6_col6 {\n",
       "            background-color:  #023858;\n",
       "        }    #T_e089df50_eb2d_11e9_8535_c8d9d2880f86row6_col7 {\n",
       "            background-color:  #7bacd1;\n",
       "        }    #T_e089df50_eb2d_11e9_8535_c8d9d2880f86row6_col8 {\n",
       "            background-color:  #b4c4df;\n",
       "        }    #T_e089df50_eb2d_11e9_8535_c8d9d2880f86row7_col0 {\n",
       "            background-color:  #c4cbe3;\n",
       "        }    #T_e089df50_eb2d_11e9_8535_c8d9d2880f86row7_col1 {\n",
       "            background-color:  #d8d7e9;\n",
       "        }    #T_e089df50_eb2d_11e9_8535_c8d9d2880f86row7_col2 {\n",
       "            background-color:  #fff7fb;\n",
       "        }    #T_e089df50_eb2d_11e9_8535_c8d9d2880f86row7_col3 {\n",
       "            background-color:  #c4cbe3;\n",
       "        }    #T_e089df50_eb2d_11e9_8535_c8d9d2880f86row7_col4 {\n",
       "            background-color:  #76aad0;\n",
       "        }    #T_e089df50_eb2d_11e9_8535_c8d9d2880f86row7_col5 {\n",
       "            background-color:  #529bc7;\n",
       "        }    #T_e089df50_eb2d_11e9_8535_c8d9d2880f86row7_col6 {\n",
       "            background-color:  #9cb9d9;\n",
       "        }    #T_e089df50_eb2d_11e9_8535_c8d9d2880f86row7_col7 {\n",
       "            background-color:  #023858;\n",
       "        }    #T_e089df50_eb2d_11e9_8535_c8d9d2880f86row7_col8 {\n",
       "            background-color:  #a5bddb;\n",
       "        }    #T_e089df50_eb2d_11e9_8535_c8d9d2880f86row8_col0 {\n",
       "            background-color:  #bfc9e1;\n",
       "        }    #T_e089df50_eb2d_11e9_8535_c8d9d2880f86row8_col1 {\n",
       "            background-color:  #d7d6e9;\n",
       "        }    #T_e089df50_eb2d_11e9_8535_c8d9d2880f86row8_col2 {\n",
       "            background-color:  #f0eaf4;\n",
       "        }    #T_e089df50_eb2d_11e9_8535_c8d9d2880f86row8_col3 {\n",
       "            background-color:  #fff7fb;\n",
       "        }    #T_e089df50_eb2d_11e9_8535_c8d9d2880f86row8_col4 {\n",
       "            background-color:  #d2d3e7;\n",
       "        }    #T_e089df50_eb2d_11e9_8535_c8d9d2880f86row8_col5 {\n",
       "            background-color:  #a1bbda;\n",
       "        }    #T_e089df50_eb2d_11e9_8535_c8d9d2880f86row8_col6 {\n",
       "            background-color:  #bdc8e1;\n",
       "        }    #T_e089df50_eb2d_11e9_8535_c8d9d2880f86row8_col7 {\n",
       "            background-color:  #8cb3d5;\n",
       "        }    #T_e089df50_eb2d_11e9_8535_c8d9d2880f86row8_col8 {\n",
       "            background-color:  #023858;\n",
       "        }</style>  \n",
       "<table id=\"T_e089df50_eb2d_11e9_8535_c8d9d2880f86\" > \n",
       "<thead>    <tr> \n",
       "        <th class=\"blank level0\" ></th> \n",
       "        <th class=\"col_heading level0 col0\" >totalprice</th> \n",
       "        <th class=\"col_heading level0 col1\" >area</th> \n",
       "        <th class=\"col_heading level0 col2\" >age</th> \n",
       "        <th class=\"col_heading level0 col3\" >floor</th> \n",
       "        <th class=\"col_heading level0 col4\" >rooms</th> \n",
       "        <th class=\"col_heading level0 col5\" >toilets</th> \n",
       "        <th class=\"col_heading level0 col6\" >garage</th> \n",
       "        <th class=\"col_heading level0 col7\" >elevator</th> \n",
       "        <th class=\"col_heading level0 col8\" >tras</th> \n",
       "    </tr></thead> \n",
       "<tbody>    <tr> \n",
       "        <th id=\"T_e089df50_eb2d_11e9_8535_c8d9d2880f86level0_row0\" class=\"row_heading level0 row0\" >totalprice</th> \n",
       "        <td id=\"T_e089df50_eb2d_11e9_8535_c8d9d2880f86row0_col0\" class=\"data row0 col0\" >1</td> \n",
       "        <td id=\"T_e089df50_eb2d_11e9_8535_c8d9d2880f86row0_col1\" class=\"data row0 col1\" >-0.19</td> \n",
       "        <td id=\"T_e089df50_eb2d_11e9_8535_c8d9d2880f86row0_col2\" class=\"data row0 col2\" >-0.075</td> \n",
       "        <td id=\"T_e089df50_eb2d_11e9_8535_c8d9d2880f86row0_col3\" class=\"data row0 col3\" >0.0031</td> \n",
       "        <td id=\"T_e089df50_eb2d_11e9_8535_c8d9d2880f86row0_col4\" class=\"data row0 col4\" >0.2</td> \n",
       "        <td id=\"T_e089df50_eb2d_11e9_8535_c8d9d2880f86row0_col5\" class=\"data row0 col5\" >0.31</td> \n",
       "        <td id=\"T_e089df50_eb2d_11e9_8535_c8d9d2880f86row0_col6\" class=\"data row0 col6\" >0.25</td> \n",
       "        <td id=\"T_e089df50_eb2d_11e9_8535_c8d9d2880f86row0_col7\" class=\"data row0 col7\" >0.15</td> \n",
       "        <td id=\"T_e089df50_eb2d_11e9_8535_c8d9d2880f86row0_col8\" class=\"data row0 col8\" >0.17</td> \n",
       "    </tr>    <tr> \n",
       "        <th id=\"T_e089df50_eb2d_11e9_8535_c8d9d2880f86level0_row1\" class=\"row_heading level0 row1\" >area</th> \n",
       "        <td id=\"T_e089df50_eb2d_11e9_8535_c8d9d2880f86row1_col0\" class=\"data row1 col0\" >-0.19</td> \n",
       "        <td id=\"T_e089df50_eb2d_11e9_8535_c8d9d2880f86row1_col1\" class=\"data row1 col1\" >1</td> \n",
       "        <td id=\"T_e089df50_eb2d_11e9_8535_c8d9d2880f86row1_col2\" class=\"data row1 col2\" >-0.14</td> \n",
       "        <td id=\"T_e089df50_eb2d_11e9_8535_c8d9d2880f86row1_col3\" class=\"data row1 col3\" >-0.018</td> \n",
       "        <td id=\"T_e089df50_eb2d_11e9_8535_c8d9d2880f86row1_col4\" class=\"data row1 col4\" >-0.28</td> \n",
       "        <td id=\"T_e089df50_eb2d_11e9_8535_c8d9d2880f86row1_col5\" class=\"data row1 col5\" >-0.28</td> \n",
       "        <td id=\"T_e089df50_eb2d_11e9_8535_c8d9d2880f86row1_col6\" class=\"data row1 col6\" >-0.18</td> \n",
       "        <td id=\"T_e089df50_eb2d_11e9_8535_c8d9d2880f86row1_col7\" class=\"data row1 col7\" >-3.2e-05</td> \n",
       "        <td id=\"T_e089df50_eb2d_11e9_8535_c8d9d2880f86row1_col8\" class=\"data row1 col8\" >0.0038</td> \n",
       "    </tr>    <tr> \n",
       "        <th id=\"T_e089df50_eb2d_11e9_8535_c8d9d2880f86level0_row2\" class=\"row_heading level0 row2\" >age</th> \n",
       "        <td id=\"T_e089df50_eb2d_11e9_8535_c8d9d2880f86row2_col0\" class=\"data row2 col0\" >-0.075</td> \n",
       "        <td id=\"T_e089df50_eb2d_11e9_8535_c8d9d2880f86row2_col1\" class=\"data row2 col1\" >-0.14</td> \n",
       "        <td id=\"T_e089df50_eb2d_11e9_8535_c8d9d2880f86row2_col2\" class=\"data row2 col2\" >1</td> \n",
       "        <td id=\"T_e089df50_eb2d_11e9_8535_c8d9d2880f86row2_col3\" class=\"data row2 col3\" >-0.081</td> \n",
       "        <td id=\"T_e089df50_eb2d_11e9_8535_c8d9d2880f86row2_col4\" class=\"data row2 col4\" >-0.083</td> \n",
       "        <td id=\"T_e089df50_eb2d_11e9_8535_c8d9d2880f86row2_col5\" class=\"data row2 col5\" >-0.28</td> \n",
       "        <td id=\"T_e089df50_eb2d_11e9_8535_c8d9d2880f86row2_col6\" class=\"data row2 col6\" >-0.21</td> \n",
       "        <td id=\"T_e089df50_eb2d_11e9_8535_c8d9d2880f86row2_col7\" class=\"data row2 col7\" >-0.41</td> \n",
       "        <td id=\"T_e089df50_eb2d_11e9_8535_c8d9d2880f86row2_col8\" class=\"data row2 col8\" >-0.27</td> \n",
       "    </tr>    <tr> \n",
       "        <th id=\"T_e089df50_eb2d_11e9_8535_c8d9d2880f86level0_row3\" class=\"row_heading level0 row3\" >floor</th> \n",
       "        <td id=\"T_e089df50_eb2d_11e9_8535_c8d9d2880f86row3_col0\" class=\"data row3 col0\" >0.0031</td> \n",
       "        <td id=\"T_e089df50_eb2d_11e9_8535_c8d9d2880f86row3_col1\" class=\"data row3 col1\" >-0.018</td> \n",
       "        <td id=\"T_e089df50_eb2d_11e9_8535_c8d9d2880f86row3_col2\" class=\"data row3 col2\" >-0.081</td> \n",
       "        <td id=\"T_e089df50_eb2d_11e9_8535_c8d9d2880f86row3_col3\" class=\"data row3 col3\" >1</td> \n",
       "        <td id=\"T_e089df50_eb2d_11e9_8535_c8d9d2880f86row3_col4\" class=\"data row3 col4\" >0.13</td> \n",
       "        <td id=\"T_e089df50_eb2d_11e9_8535_c8d9d2880f86row3_col5\" class=\"data row3 col5\" >0.1</td> \n",
       "        <td id=\"T_e089df50_eb2d_11e9_8535_c8d9d2880f86row3_col6\" class=\"data row3 col6\" >-0.03</td> \n",
       "        <td id=\"T_e089df50_eb2d_11e9_8535_c8d9d2880f86row3_col7\" class=\"data row3 col7\" >0.2</td> \n",
       "        <td id=\"T_e089df50_eb2d_11e9_8535_c8d9d2880f86row3_col8\" class=\"data row3 col8\" >-0.12</td> \n",
       "    </tr>    <tr> \n",
       "        <th id=\"T_e089df50_eb2d_11e9_8535_c8d9d2880f86level0_row4\" class=\"row_heading level0 row4\" >rooms</th> \n",
       "        <td id=\"T_e089df50_eb2d_11e9_8535_c8d9d2880f86row4_col0\" class=\"data row4 col0\" >0.2</td> \n",
       "        <td id=\"T_e089df50_eb2d_11e9_8535_c8d9d2880f86row4_col1\" class=\"data row4 col1\" >-0.28</td> \n",
       "        <td id=\"T_e089df50_eb2d_11e9_8535_c8d9d2880f86row4_col2\" class=\"data row4 col2\" >-0.083</td> \n",
       "        <td id=\"T_e089df50_eb2d_11e9_8535_c8d9d2880f86row4_col3\" class=\"data row4 col3\" >0.13</td> \n",
       "        <td id=\"T_e089df50_eb2d_11e9_8535_c8d9d2880f86row4_col4\" class=\"data row4 col4\" >1</td> \n",
       "        <td id=\"T_e089df50_eb2d_11e9_8535_c8d9d2880f86row4_col5\" class=\"data row4 col5\" >0.42</td> \n",
       "        <td id=\"T_e089df50_eb2d_11e9_8535_c8d9d2880f86row4_col6\" class=\"data row4 col6\" >0.21</td> \n",
       "        <td id=\"T_e089df50_eb2d_11e9_8535_c8d9d2880f86row4_col7\" class=\"data row4 col7\" >0.35</td> \n",
       "        <td id=\"T_e089df50_eb2d_11e9_8535_c8d9d2880f86row4_col8\" class=\"data row4 col8\" >0.033</td> \n",
       "    </tr>    <tr> \n",
       "        <th id=\"T_e089df50_eb2d_11e9_8535_c8d9d2880f86level0_row5\" class=\"row_heading level0 row5\" >toilets</th> \n",
       "        <td id=\"T_e089df50_eb2d_11e9_8535_c8d9d2880f86row5_col0\" class=\"data row5 col0\" >0.31</td> \n",
       "        <td id=\"T_e089df50_eb2d_11e9_8535_c8d9d2880f86row5_col1\" class=\"data row5 col1\" >-0.28</td> \n",
       "        <td id=\"T_e089df50_eb2d_11e9_8535_c8d9d2880f86row5_col2\" class=\"data row5 col2\" >-0.28</td> \n",
       "        <td id=\"T_e089df50_eb2d_11e9_8535_c8d9d2880f86row5_col3\" class=\"data row5 col3\" >0.1</td> \n",
       "        <td id=\"T_e089df50_eb2d_11e9_8535_c8d9d2880f86row5_col4\" class=\"data row5 col4\" >0.42</td> \n",
       "        <td id=\"T_e089df50_eb2d_11e9_8535_c8d9d2880f86row5_col5\" class=\"data row5 col5\" >1</td> \n",
       "        <td id=\"T_e089df50_eb2d_11e9_8535_c8d9d2880f86row5_col6\" class=\"data row5 col6\" >0.45</td> \n",
       "        <td id=\"T_e089df50_eb2d_11e9_8535_c8d9d2880f86row5_col7\" class=\"data row5 col7\" >0.45</td> \n",
       "        <td id=\"T_e089df50_eb2d_11e9_8535_c8d9d2880f86row5_col8\" class=\"data row5 col8\" >0.22</td> \n",
       "    </tr>    <tr> \n",
       "        <th id=\"T_e089df50_eb2d_11e9_8535_c8d9d2880f86level0_row6\" class=\"row_heading level0 row6\" >garage</th> \n",
       "        <td id=\"T_e089df50_eb2d_11e9_8535_c8d9d2880f86row6_col0\" class=\"data row6 col0\" >0.25</td> \n",
       "        <td id=\"T_e089df50_eb2d_11e9_8535_c8d9d2880f86row6_col1\" class=\"data row6 col1\" >-0.18</td> \n",
       "        <td id=\"T_e089df50_eb2d_11e9_8535_c8d9d2880f86row6_col2\" class=\"data row6 col2\" >-0.21</td> \n",
       "        <td id=\"T_e089df50_eb2d_11e9_8535_c8d9d2880f86row6_col3\" class=\"data row6 col3\" >-0.03</td> \n",
       "        <td id=\"T_e089df50_eb2d_11e9_8535_c8d9d2880f86row6_col4\" class=\"data row6 col4\" >0.21</td> \n",
       "        <td id=\"T_e089df50_eb2d_11e9_8535_c8d9d2880f86row6_col5\" class=\"data row6 col5\" >0.45</td> \n",
       "        <td id=\"T_e089df50_eb2d_11e9_8535_c8d9d2880f86row6_col6\" class=\"data row6 col6\" >1</td> \n",
       "        <td id=\"T_e089df50_eb2d_11e9_8535_c8d9d2880f86row6_col7\" class=\"data row6 col7\" >0.27</td> \n",
       "        <td id=\"T_e089df50_eb2d_11e9_8535_c8d9d2880f86row6_col8\" class=\"data row6 col8\" >0.16</td> \n",
       "    </tr>    <tr> \n",
       "        <th id=\"T_e089df50_eb2d_11e9_8535_c8d9d2880f86level0_row7\" class=\"row_heading level0 row7\" >elevator</th> \n",
       "        <td id=\"T_e089df50_eb2d_11e9_8535_c8d9d2880f86row7_col0\" class=\"data row7 col0\" >0.15</td> \n",
       "        <td id=\"T_e089df50_eb2d_11e9_8535_c8d9d2880f86row7_col1\" class=\"data row7 col1\" >-3.2e-05</td> \n",
       "        <td id=\"T_e089df50_eb2d_11e9_8535_c8d9d2880f86row7_col2\" class=\"data row7 col2\" >-0.41</td> \n",
       "        <td id=\"T_e089df50_eb2d_11e9_8535_c8d9d2880f86row7_col3\" class=\"data row7 col3\" >0.2</td> \n",
       "        <td id=\"T_e089df50_eb2d_11e9_8535_c8d9d2880f86row7_col4\" class=\"data row7 col4\" >0.35</td> \n",
       "        <td id=\"T_e089df50_eb2d_11e9_8535_c8d9d2880f86row7_col5\" class=\"data row7 col5\" >0.45</td> \n",
       "        <td id=\"T_e089df50_eb2d_11e9_8535_c8d9d2880f86row7_col6\" class=\"data row7 col6\" >0.27</td> \n",
       "        <td id=\"T_e089df50_eb2d_11e9_8535_c8d9d2880f86row7_col7\" class=\"data row7 col7\" >1</td> \n",
       "        <td id=\"T_e089df50_eb2d_11e9_8535_c8d9d2880f86row7_col8\" class=\"data row7 col8\" >0.21</td> \n",
       "    </tr>    <tr> \n",
       "        <th id=\"T_e089df50_eb2d_11e9_8535_c8d9d2880f86level0_row8\" class=\"row_heading level0 row8\" >tras</th> \n",
       "        <td id=\"T_e089df50_eb2d_11e9_8535_c8d9d2880f86row8_col0\" class=\"data row8 col0\" >0.17</td> \n",
       "        <td id=\"T_e089df50_eb2d_11e9_8535_c8d9d2880f86row8_col1\" class=\"data row8 col1\" >0.0038</td> \n",
       "        <td id=\"T_e089df50_eb2d_11e9_8535_c8d9d2880f86row8_col2\" class=\"data row8 col2\" >-0.27</td> \n",
       "        <td id=\"T_e089df50_eb2d_11e9_8535_c8d9d2880f86row8_col3\" class=\"data row8 col3\" >-0.12</td> \n",
       "        <td id=\"T_e089df50_eb2d_11e9_8535_c8d9d2880f86row8_col4\" class=\"data row8 col4\" >0.033</td> \n",
       "        <td id=\"T_e089df50_eb2d_11e9_8535_c8d9d2880f86row8_col5\" class=\"data row8 col5\" >0.22</td> \n",
       "        <td id=\"T_e089df50_eb2d_11e9_8535_c8d9d2880f86row8_col6\" class=\"data row8 col6\" >0.16</td> \n",
       "        <td id=\"T_e089df50_eb2d_11e9_8535_c8d9d2880f86row8_col7\" class=\"data row8 col7\" >0.21</td> \n",
       "        <td id=\"T_e089df50_eb2d_11e9_8535_c8d9d2880f86row8_col8\" class=\"data row8 col8\" >1</td> \n",
       "    </tr></tbody> \n",
       "</table> "
      ],
      "text/plain": [
       "<pandas.io.formats.style.Styler at 0x20bc02bfe80>"
      ]
     },
     "execution_count": 68,
     "metadata": {},
     "output_type": "execute_result"
    }
   ],
   "source": [
    "#Correlation of each feature\n",
    "df.corr().style.background_gradient().set_precision(2)"
   ]
  },
  {
   "cell_type": "markdown",
   "metadata": {},
   "source": [
    "From the heatmap above, we can see the correlation between variables :\n",
    "- totalprice - toilets : 0,31\n",
    "- totalprice - garage : 0,25\n",
    "- totalprice - rooms : 0,2"
   ]
  },
  {
   "cell_type": "code",
   "execution_count": 69,
   "metadata": {},
   "outputs": [
    {
     "data": {
      "text/plain": [
       "<matplotlib.axes._subplots.AxesSubplot at 0x20bc0f091d0>"
      ]
     },
     "execution_count": 69,
     "metadata": {},
     "output_type": "execute_result"
    },
    {
     "data": {
      "image/png": "[encoded data removed]",
      "text/plain": [
       "<matplotlib.figure.Figure at 0x20bc0f7d080>"
      ]
     },
     "metadata": {},
     "output_type": "display_data"
    }
   ],
   "source": [
    "#Bivariate Analysis totalprice - toilets\n",
    "sns.barplot(data=df, x=df['toilets'], y=df['totalprice'], color='blue')"
   ]
  },
  {
   "cell_type": "markdown",
   "metadata": {},
   "source": [
    "From the barplot above, we can know that :\n",
    "- The higher number of toilet that apartment has, the more expensive the price of apartment."
   ]
  },
  {
   "cell_type": "code",
   "execution_count": 70,
   "metadata": {},
   "outputs": [
    {
     "data": {
      "text/plain": [
       "<matplotlib.axes._subplots.AxesSubplot at 0x20bc108e080>"
      ]
     },
     "execution_count": 70,
     "metadata": {},
     "output_type": "execute_result"
    },
    {
     "data": {
      "image/png": "[encoded data removed]",
      "text/plain": [
       "<matplotlib.figure.Figure at 0x20bc026fc88>"
      ]
     },
     "metadata": {},
     "output_type": "display_data"
    }
   ],
   "source": [
    "#Bivariate Analysis totalprice - garages\n",
    "sns.barplot(data=df, x=df['garage'], y=df['totalprice'], color='yellow')"
   ]
  },
  {
   "cell_type": "markdown",
   "metadata": {},
   "source": [
    "From the barplot above, we can know that :\n",
    "- The higher number of garage that apartment has, the more expensive the price of apartment."
   ]
  },
  {
   "cell_type": "code",
   "execution_count": 71,
   "metadata": {},
   "outputs": [
    {
     "data": {
      "text/plain": [
       "<matplotlib.axes._subplots.AxesSubplot at 0x20bc10e7fd0>"
      ]
     },
     "execution_count": 71,
     "metadata": {},
     "output_type": "execute_result"
    },
    {
     "data": {
      "image/png": "[encoded data removed]",
      "text/plain": [
       "<matplotlib.figure.Figure at 0x20bc1021748>"
      ]
     },
     "metadata": {},
     "output_type": "display_data"
    }
   ],
   "source": [
    "#Bivariate Analysis totalprice - rooms\n",
    "sns.barplot(data=df, x=df['rooms'], y=df['totalprice'], color='green')"
   ]
  },
  {
   "cell_type": "markdown",
   "metadata": {},
   "source": [
    "From the barplot above, we can know that :\n",
    "- The higher number of rooms that apartment has, the more expensive the price of apartment."
   ]
  },
  {
   "cell_type": "markdown",
   "metadata": {},
   "source": [
    "# FEATURE SELECTION"
   ]
  },
  {
   "cell_type": "markdown",
   "metadata": {},
   "source": [
    "- I will choose numeric variable only because machine learning model only available for numeric data type.\n",
    "- Specially for conservation, I will change the data type into numeric."
   ]
  },
  {
   "cell_type": "code",
   "execution_count": 72,
   "metadata": {},
   "outputs": [],
   "source": [
    "# Change conservation data type into numeric\n",
    "# A = 1A, B = 2A, C = 2B and 3A\n",
    "dicti = {\n",
    "    '2B':3,\n",
    "    '3A':3,\n",
    "    '2A':2,\n",
    "    '1A':1\n",
    "}\n",
    "df['conservation'] = df['conservation'].replace(dicti)"
   ]
  },
  {
   "cell_type": "code",
   "execution_count": 76,
   "metadata": {},
   "outputs": [],
   "source": [
    "data = df.copy()"
   ]
  },
  {
   "cell_type": "code",
   "execution_count": 77,
   "metadata": {},
   "outputs": [],
   "source": [
    "# Drop columns that won't be used\n",
    "drop = ['zone', 'category', 'out', 'streetcategory', 'heating']\n",
    "data.drop(columns=drop, inplace=True)"
   ]
  },
  {
   "cell_type": "code",
   "execution_count": 78,
   "metadata": {},
   "outputs": [],
   "source": [
    "# Create one hot encoding for conservation feature\n",
    "data['conservation'] = pd.Categorical(data['conservation'])\n",
    "data = pd.get_dummies(data)"
   ]
  },
  {
   "cell_type": "code",
   "execution_count": 79,
   "metadata": {},
   "outputs": [
    {
     "data": {
      "text/html": [
       "<div>\n",
       "<style scoped>\n",
       "    .dataframe tbody tr th:only-of-type {\n",
       "        vertical-align: middle;\n",
       "    }\n",
       "\n",
       "    .dataframe tbody tr th {\n",
       "        vertical-align: top;\n",
       "    }\n",
       "\n",
       "    .dataframe thead th {\n",
       "        text-align: right;\n",
       "    }\n",
       "</style>\n",
       "<table border=\"1\" class=\"dataframe\">\n",
       "  <thead>\n",
       "    <tr style=\"text-align: right;\">\n",
       "      <th></th>\n",
       "      <th>totalprice</th>\n",
       "      <th>area</th>\n",
       "      <th>age</th>\n",
       "      <th>floor</th>\n",
       "      <th>rooms</th>\n",
       "      <th>toilets</th>\n",
       "      <th>garage</th>\n",
       "      <th>elevator</th>\n",
       "      <th>tras</th>\n",
       "      <th>conservation_1</th>\n",
       "      <th>conservation_2</th>\n",
       "      <th>conservation_3</th>\n",
       "    </tr>\n",
       "  </thead>\n",
       "  <tbody>\n",
       "    <tr>\n",
       "      <th>0</th>\n",
       "      <td>228000</td>\n",
       "      <td>7530999756</td>\n",
       "      <td>33</td>\n",
       "      <td>3</td>\n",
       "      <td>5</td>\n",
       "      <td>1</td>\n",
       "      <td>0</td>\n",
       "      <td>1</td>\n",
       "      <td>0</td>\n",
       "      <td>0</td>\n",
       "      <td>0</td>\n",
       "      <td>1</td>\n",
       "    </tr>\n",
       "    <tr>\n",
       "      <th>1</th>\n",
       "      <td>409000</td>\n",
       "      <td>1006500015</td>\n",
       "      <td>5</td>\n",
       "      <td>7</td>\n",
       "      <td>5</td>\n",
       "      <td>2</td>\n",
       "      <td>1</td>\n",
       "      <td>1</td>\n",
       "      <td>1</td>\n",
       "      <td>1</td>\n",
       "      <td>0</td>\n",
       "      <td>0</td>\n",
       "    </tr>\n",
       "    <tr>\n",
       "      <th>2</th>\n",
       "      <td>200000</td>\n",
       "      <td>8887000275</td>\n",
       "      <td>14</td>\n",
       "      <td>8</td>\n",
       "      <td>5</td>\n",
       "      <td>2</td>\n",
       "      <td>0</td>\n",
       "      <td>1</td>\n",
       "      <td>0</td>\n",
       "      <td>1</td>\n",
       "      <td>0</td>\n",
       "      <td>0</td>\n",
       "    </tr>\n",
       "    <tr>\n",
       "      <th>3</th>\n",
       "      <td>180000</td>\n",
       "      <td>6261000061</td>\n",
       "      <td>41</td>\n",
       "      <td>3</td>\n",
       "      <td>4</td>\n",
       "      <td>1</td>\n",
       "      <td>0</td>\n",
       "      <td>0</td>\n",
       "      <td>0</td>\n",
       "      <td>0</td>\n",
       "      <td>1</td>\n",
       "      <td>0</td>\n",
       "    </tr>\n",
       "    <tr>\n",
       "      <th>4</th>\n",
       "      <td>443600</td>\n",
       "      <td>1461499939</td>\n",
       "      <td>22</td>\n",
       "      <td>6</td>\n",
       "      <td>7</td>\n",
       "      <td>2</td>\n",
       "      <td>0</td>\n",
       "      <td>1</td>\n",
       "      <td>1</td>\n",
       "      <td>1</td>\n",
       "      <td>0</td>\n",
       "      <td>0</td>\n",
       "    </tr>\n",
       "  </tbody>\n",
       "</table>\n",
       "</div>"
      ],
      "text/plain": [
       "   totalprice        area  age  floor  rooms  toilets  garage  elevator  tras  \\\n",
       "0      228000  7530999756   33      3      5        1       0         1     0   \n",
       "1      409000  1006500015    5      7      5        2       1         1     1   \n",
       "2      200000  8887000275   14      8      5        2       0         1     0   \n",
       "3      180000  6261000061   41      3      4        1       0         0     0   \n",
       "4      443600  1461499939   22      6      7        2       0         1     1   \n",
       "\n",
       "   conservation_1  conservation_2  conservation_3  \n",
       "0               0               0               1  \n",
       "1               1               0               0  \n",
       "2               1               0               0  \n",
       "3               0               1               0  \n",
       "4               1               0               0  "
      ]
     },
     "execution_count": 79,
     "metadata": {},
     "output_type": "execute_result"
    }
   ],
   "source": [
    "data.head()"
   ]
  },
  {
   "cell_type": "code",
   "execution_count": 138,
   "metadata": {},
   "outputs": [
    {
     "name": "stdout",
     "output_type": "stream",
     "text": [
      "<class 'pandas.core.frame.DataFrame'>\n",
      "RangeIndex: 218 entries, 0 to 217\n",
      "Data columns (total 12 columns):\n",
      "totalprice        218 non-null int64\n",
      "area              218 non-null int64\n",
      "age               218 non-null int64\n",
      "floor             218 non-null int64\n",
      "rooms             218 non-null int64\n",
      "toilets           218 non-null int64\n",
      "garage            218 non-null int64\n",
      "elevator          218 non-null int64\n",
      "tras              218 non-null int64\n",
      "conservation_1    218 non-null uint8\n",
      "conservation_2    218 non-null uint8\n",
      "conservation_3    218 non-null uint8\n",
      "dtypes: int64(9), uint8(3)\n",
      "memory usage: 16.0 KB\n"
     ]
    }
   ],
   "source": [
    "data.info()"
   ]
  },
  {
   "cell_type": "markdown",
   "metadata": {},
   "source": [
    "# MODELLING\n",
    "In this modelling, I will use Linear Regression and Random Forest Algorithm."
   ]
  },
  {
   "cell_type": "code",
   "execution_count": 127,
   "metadata": {},
   "outputs": [],
   "source": [
    "# Create x and y variable\n",
    "X = data.drop(columns = ['totalprice'])\n",
    "y = data['totalprice']\n",
    "\n",
    "# X=data[['floor','rooms', 'toilets', 'garage', 'conservation_1', 'conservation_2', 'conservation_3']]  # Features\n",
    "# y=data['totalprice'] #Target"
   ]
  },
  {
   "cell_type": "code",
   "execution_count": 128,
   "metadata": {},
   "outputs": [],
   "source": [
    "# split data\n",
    "X_train, X_test, y_train, y_test = train_test_split(X, y, test_size=0.2)"
   ]
  },
  {
   "cell_type": "markdown",
   "metadata": {},
   "source": [
    "### RANDOM FOREST"
   ]
  },
  {
   "cell_type": "code",
   "execution_count": 144,
   "metadata": {},
   "outputs": [],
   "source": [
    "# # Import Library\n",
    "# from sklearn.ensemble import RandomForestClassifier\n",
    "# from sklearn.model_selection import train_test_split\n",
    "# from sklearn.metrics import confusion_matrix, roc_auc_score, roc_curve\n",
    "# from sklearn import metrics"
   ]
  },
  {
   "cell_type": "code",
   "execution_count": 145,
   "metadata": {},
   "outputs": [],
   "source": [
    "# # Compile Algorithm\n",
    "# clf=RandomForestClassifier(random_state=20) #pick random sample"
   ]
  },
  {
   "cell_type": "code",
   "execution_count": 146,
   "metadata": {},
   "outputs": [],
   "source": [
    "# #Train the model using the training sets y_pred=clf.predict(X_test)\n",
    "# clf.fit(X_train,y_train)"
   ]
  },
  {
   "cell_type": "code",
   "execution_count": 147,
   "metadata": {},
   "outputs": [],
   "source": [
    "# # Get the result\n",
    "# y_pred=clf.predict(X_test)\n",
    "# y_pred"
   ]
  },
  {
   "cell_type": "code",
   "execution_count": 148,
   "metadata": {},
   "outputs": [],
   "source": [
    "# def mean_absolute_percentage_error(y_true, y_pred): \n",
    "#     y_true, y_pred = np.array(y_true), np.array(y_pred)\n",
    "#     return np.mean(np.abs((y_true - y_pred) / y_true)) * 100"
   ]
  },
  {
   "cell_type": "code",
   "execution_count": 149,
   "metadata": {},
   "outputs": [],
   "source": [
    "# #check error\n",
    "# print(f'Nilai MAE {mean_absolute_error(y_pred, y_test)}')\n",
    "# print(f'Nilai MAPE {mean_absolute_percentage_error(y_test, y_pred)}')"
   ]
  },
  {
   "cell_type": "markdown",
   "metadata": {},
   "source": [
    "### LINEAR REGRESSION"
   ]
  },
  {
   "cell_type": "code",
   "execution_count": 129,
   "metadata": {},
   "outputs": [],
   "source": [
    "# Linear regression Object\n",
    "lin_reg = LinearRegression()"
   ]
  },
  {
   "cell_type": "code",
   "execution_count": 130,
   "metadata": {},
   "outputs": [
    {
     "data": {
      "text/plain": [
       "LinearRegression(copy_X=True, fit_intercept=True, n_jobs=1, normalize=False)"
      ]
     },
     "execution_count": 130,
     "metadata": {},
     "output_type": "execute_result"
    }
   ],
   "source": [
    "#Train the model using the training sets y_pred=clf.predict(X_test)\n",
    "lin_reg.fit(X_train,y_train)"
   ]
  },
  {
   "cell_type": "code",
   "execution_count": 131,
   "metadata": {},
   "outputs": [],
   "source": [
    "#predict the result\n",
    "y_pred = lin_reg.predict(X_test)"
   ]
  },
  {
   "cell_type": "code",
   "execution_count": 132,
   "metadata": {},
   "outputs": [],
   "source": [
    "def mean_absolute_percentage_error(y_true, y_pred): \n",
    "    y_true, y_pred = np.array(y_true), np.array(y_pred)\n",
    "    return np.mean(np.abs((y_true - y_pred) / y_true)) * 100"
   ]
  },
  {
   "cell_type": "code",
   "execution_count": 133,
   "metadata": {},
   "outputs": [
    {
     "name": "stdout",
     "output_type": "stream",
     "text": [
      "Nilai MAE 33661.59748685641\n",
      "Nilai MAPE 13.657026931117706)\n"
     ]
    }
   ],
   "source": [
    "#check error\n",
    "print(f'Nilai MAE {mean_absolute_error(y_pred, y_test)}')\n",
    "print(f'Nilai MAPE {mean_absolute_percentage_error(y_test, y_pred)})')"
   ]
  },
  {
   "cell_type": "markdown",
   "metadata": {},
   "source": [
    "The result of prediction price has error around 33K with MAPE 13%."
   ]
  },
  {
   "cell_type": "markdown",
   "metadata": {},
   "source": [
    "### DECISION TREE"
   ]
  },
  {
   "cell_type": "code",
   "execution_count": 150,
   "metadata": {},
   "outputs": [],
   "source": [
    "# from sklearn.tree import DecisionTreeClassifier"
   ]
  },
  {
   "cell_type": "code",
   "execution_count": 152,
   "metadata": {},
   "outputs": [],
   "source": [
    "# tree = DecisionTreeClassifier(criterion=\"entropy\", max_depth=5)\n",
    "# tree = tree.fit(X_train,y_train)"
   ]
  },
  {
   "cell_type": "code",
   "execution_count": 136,
   "metadata": {},
   "outputs": [],
   "source": [
    "# y_pred = tree.predict(X_test)"
   ]
  },
  {
   "cell_type": "code",
   "execution_count": 153,
   "metadata": {},
   "outputs": [],
   "source": [
    "# # Model Accuracy, how often is the classifier correct?\n",
    "# print(\"Accuracy: %.2f\" % metrics.accuracy_score(y_test, y_pred))\n",
    "# print(\"Precission: %.2f\" % metrics.precision_score(y_test, y_pred)) #precision : true positive\n",
    "# print(\"Recall: %.2f\" % metrics.recall_score(y_test, y_pred)) #recall : false positive\n",
    "# print(\"AUC: %.2f\" % metrics.roc_auc_score(y_test, y_pred))"
   ]
  }
 ],
 "metadata": {
  "kernelspec": {
   "display_name": "Python 3",
   "language": "python",
   "name": "python3"
  },
  "language_info": {
   "codemirror_mode": {
    "name": "ipython",
    "version": 3
   },
   "file_extension": ".py",
   "mimetype": "text/x-python",
   "name": "python",
   "nbconvert_exporter": "python",
   "pygments_lexer": "ipython3",
   "version": "3.6.4"
  }
 },
 "nbformat": 4,
 "nbformat_minor": 2
}
