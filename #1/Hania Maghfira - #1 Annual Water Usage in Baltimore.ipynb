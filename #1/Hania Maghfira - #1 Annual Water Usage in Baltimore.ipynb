{
 "cells": [
  {
   "cell_type": "markdown",
   "metadata": {},
   "source": [
    "# BUSINESS UNDERSTANDING"
   ]
  },
  {
   "cell_type": "markdown",
   "metadata": {},
   "source": [
    "**Background** : The Dataset provides the annual water usage in Baltimore from 1885 to 1963, or 79 years of data.\n",
    "The values are in the units of liters per capita per day, and there are 79 observations.\n",
    "\n",
    "**Objective** : Create a python script for the Use Case below, please upload the script after you finish.\n",
    "The Problem is to predict annual water usage.\n",
    "\n",
    "**Instructions** :\n",
    "1. Load the dataset as a Pandas Series and split into two, one for model development (dataset.csv) and the other for validation (validation.csv).\n",
    "2. Create summary of the dataset, with python function.\n",
    "3. Create A line plot of a time series dataset, it will provide a lot of insight into the problem.\n",
    "4. Group the annual data by decade and get an idea of the spread of observations for each decade and how this may be changing.\n",
    "5. Create models using ARIMA\n",
    "   - Split the dataset into train and test sets directly\n",
    "   - The first 50% of the dataset will be held back to train the model.\n",
    "   - The remaining 50% of the dataset will be iterated and test the model.\n",
    "   - The ARIMA(p,d,q) model requires three parameters and is traditionally configured manually.\n",
    "   - Use an ARIMA(0,1,0) on the raw data may be a good starting point.\n",
    "   - When model trained, a one-step prediction made ang the prediction stored for later evaluation.\n",
    "   - The actual observation from the test dataset woll be added to the training dataset for the next iteration.\n",
    "   - The predictions made during the enumeration of the test dataset will be evaluated and an RMSE score reported.\n",
    "6. Calculate the RMSE using the helper function from the scikit-learn library, from dataset only\n",
    "   - Those RMSE will show you on average, how much the error/the model was wrong/gap between predection and expected value per capita per day for each prediction made."
   ]
  },
  {
   "cell_type": "markdown",
   "metadata": {},
   "source": [
    "# DATA UNDERSTANDING"
   ]
  },
  {
   "cell_type": "markdown",
   "metadata": {},
   "source": [
    "### IMPORT LIBRARY"
   ]
  },
  {
   "cell_type": "code",
   "execution_count": 3,
   "metadata": {},
   "outputs": [],
   "source": [
    "import pandas as pd\n",
    "import numpy as np\n",
    "\n",
    "import matplotlib.pyplot as plt\n",
    "from matplotlib.pyplot import rcParams\n",
    "import datetime as dt\n",
    "# import seaborn as sns\n",
    "rcParams['figure.figsize'] = 10,6\n",
    "\n",
    "import warnings\n",
    "warnings.filterwarnings('ignore')"
   ]
  },
  {
   "cell_type": "markdown",
   "metadata": {},
   "source": [
    "### LOAD DATASET"
   ]
  },
  {
   "cell_type": "code",
   "execution_count": 43,
   "metadata": {},
   "outputs": [
    {
     "name": "stderr",
     "output_type": "stream",
     "text": [
      "b'Skipping line 82: expected 2 fields, saw 3\\n'\n"
     ]
    }
   ],
   "source": [
    "df = pd.read_csv('water.csv', error_bad_lines=False)"
   ]
  },
  {
   "cell_type": "code",
   "execution_count": 44,
   "metadata": {},
   "outputs": [
    {
     "data": {
      "text/html": [
       "<div>\n",
       "<style scoped>\n",
       "    .dataframe tbody tr th:only-of-type {\n",
       "        vertical-align: middle;\n",
       "    }\n",
       "\n",
       "    .dataframe tbody tr th {\n",
       "        vertical-align: top;\n",
       "    }\n",
       "\n",
       "    .dataframe thead th {\n",
       "        text-align: right;\n",
       "    }\n",
       "</style>\n",
       "<table border=\"1\" class=\"dataframe\">\n",
       "  <thead>\n",
       "    <tr style=\"text-align: right;\">\n",
       "      <th></th>\n",
       "      <th>Year</th>\n",
       "      <th>Baltmore city annual water use, liters per capita per day, 1885-1968</th>\n",
       "    </tr>\n",
       "  </thead>\n",
       "  <tbody>\n",
       "    <tr>\n",
       "      <th>0</th>\n",
       "      <td>1885</td>\n",
       "      <td>356</td>\n",
       "    </tr>\n",
       "    <tr>\n",
       "      <th>1</th>\n",
       "      <td>1886</td>\n",
       "      <td>386</td>\n",
       "    </tr>\n",
       "    <tr>\n",
       "      <th>2</th>\n",
       "      <td>1887</td>\n",
       "      <td>397</td>\n",
       "    </tr>\n",
       "    <tr>\n",
       "      <th>3</th>\n",
       "      <td>1888</td>\n",
       "      <td>397</td>\n",
       "    </tr>\n",
       "    <tr>\n",
       "      <th>4</th>\n",
       "      <td>1889</td>\n",
       "      <td>413</td>\n",
       "    </tr>\n",
       "  </tbody>\n",
       "</table>\n",
       "</div>"
      ],
      "text/plain": [
       "   Year  Baltmore city annual water use, liters per capita per day, 1885-1968\n",
       "0  1885                                                356                   \n",
       "1  1886                                                386                   \n",
       "2  1887                                                397                   \n",
       "3  1888                                                397                   \n",
       "4  1889                                                413                   "
      ]
     },
     "execution_count": 44,
     "metadata": {},
     "output_type": "execute_result"
    }
   ],
   "source": [
    "df.head()"
   ]
  },
  {
   "cell_type": "code",
   "execution_count": 45,
   "metadata": {},
   "outputs": [
    {
     "name": "stdout",
     "output_type": "stream",
     "text": [
      "<class 'pandas.core.frame.DataFrame'>\n",
      "RangeIndex: 79 entries, 0 to 78\n",
      "Data columns (total 2 columns):\n",
      "Year                                                                    79 non-null int64\n",
      "Baltmore city annual water use, liters per capita per day, 1885-1968    79 non-null int64\n",
      "dtypes: int64(2)\n",
      "memory usage: 1.3 KB\n"
     ]
    }
   ],
   "source": [
    "df.info()"
   ]
  },
  {
   "cell_type": "markdown",
   "metadata": {},
   "source": [
    "From the above, we can know that the dataset has 79 rows and 2 columns."
   ]
  },
  {
   "cell_type": "markdown",
   "metadata": {},
   "source": [
    "### SPLIT DATA INTO FOR MODEL DEVELOPMENT AND VALIDATION"
   ]
  },
  {
   "cell_type": "markdown",
   "metadata": {},
   "source": [
    "I will split the data for model development : validation as 8:2."
   ]
  },
  {
   "cell_type": "code",
   "execution_count": 46,
   "metadata": {},
   "outputs": [],
   "source": [
    "import math\n",
    "\n",
    "split = math.floor(len(df)*0.8)"
   ]
  },
  {
   "cell_type": "code",
   "execution_count": 47,
   "metadata": {},
   "outputs": [
    {
     "name": "stdout",
     "output_type": "stream",
     "text": [
      "Dataset 63, Validation 16\n"
     ]
    }
   ],
   "source": [
    "# dataset for modeling development\n",
    "# validation for validating model\n",
    "dataset, validation = df[0:split], df[split:]\n",
    "print('Dataset %d, Validation %d' % (len(dataset), len(validation)))\n",
    "dataset.to_csv('dataset.csv', index=False)\n",
    "validation.to_csv('validation.csv', index=False)"
   ]
  },
  {
   "cell_type": "markdown",
   "metadata": {},
   "source": [
    "In the next section, I will use *dataset* for model developing."
   ]
  },
  {
   "cell_type": "markdown",
   "metadata": {},
   "source": [
    "### EXPLORATORY DATA ANALYSIS"
   ]
  },
  {
   "cell_type": "code",
   "execution_count": 49,
   "metadata": {},
   "outputs": [
    {
     "data": {
      "text/html": [
       "<div>\n",
       "<style scoped>\n",
       "    .dataframe tbody tr th:only-of-type {\n",
       "        vertical-align: middle;\n",
       "    }\n",
       "\n",
       "    .dataframe tbody tr th {\n",
       "        vertical-align: top;\n",
       "    }\n",
       "\n",
       "    .dataframe thead th {\n",
       "        text-align: right;\n",
       "    }\n",
       "</style>\n",
       "<table border=\"1\" class=\"dataframe\">\n",
       "  <thead>\n",
       "    <tr style=\"text-align: right;\">\n",
       "      <th></th>\n",
       "      <th>Year</th>\n",
       "      <th>Baltmore city annual water use, liters per capita per day, 1885-1968</th>\n",
       "    </tr>\n",
       "  </thead>\n",
       "  <tbody>\n",
       "    <tr>\n",
       "      <th>0</th>\n",
       "      <td>1885</td>\n",
       "      <td>356</td>\n",
       "    </tr>\n",
       "    <tr>\n",
       "      <th>1</th>\n",
       "      <td>1886</td>\n",
       "      <td>386</td>\n",
       "    </tr>\n",
       "    <tr>\n",
       "      <th>2</th>\n",
       "      <td>1887</td>\n",
       "      <td>397</td>\n",
       "    </tr>\n",
       "    <tr>\n",
       "      <th>3</th>\n",
       "      <td>1888</td>\n",
       "      <td>397</td>\n",
       "    </tr>\n",
       "    <tr>\n",
       "      <th>4</th>\n",
       "      <td>1889</td>\n",
       "      <td>413</td>\n",
       "    </tr>\n",
       "  </tbody>\n",
       "</table>\n",
       "</div>"
      ],
      "text/plain": [
       "   Year  Baltmore city annual water use, liters per capita per day, 1885-1968\n",
       "0  1885                                                356                   \n",
       "1  1886                                                386                   \n",
       "2  1887                                                397                   \n",
       "3  1888                                                397                   \n",
       "4  1889                                                413                   "
      ]
     },
     "execution_count": 49,
     "metadata": {},
     "output_type": "execute_result"
    }
   ],
   "source": [
    "# original file\n",
    "df.head()"
   ]
  },
  {
   "cell_type": "code",
   "execution_count": 50,
   "metadata": {},
   "outputs": [
    {
     "data": {
      "text/html": [
       "<div>\n",
       "<style scoped>\n",
       "    .dataframe tbody tr th:only-of-type {\n",
       "        vertical-align: middle;\n",
       "    }\n",
       "\n",
       "    .dataframe tbody tr th {\n",
       "        vertical-align: top;\n",
       "    }\n",
       "\n",
       "    .dataframe thead th {\n",
       "        text-align: right;\n",
       "    }\n",
       "</style>\n",
       "<table border=\"1\" class=\"dataframe\">\n",
       "  <thead>\n",
       "    <tr style=\"text-align: right;\">\n",
       "      <th></th>\n",
       "      <th>Year</th>\n",
       "      <th>Baltmore city annual water use, liters per capita per day, 1885-1968</th>\n",
       "    </tr>\n",
       "  </thead>\n",
       "  <tbody>\n",
       "    <tr>\n",
       "      <th>0</th>\n",
       "      <td>1885</td>\n",
       "      <td>356</td>\n",
       "    </tr>\n",
       "    <tr>\n",
       "      <th>1</th>\n",
       "      <td>1886</td>\n",
       "      <td>386</td>\n",
       "    </tr>\n",
       "    <tr>\n",
       "      <th>2</th>\n",
       "      <td>1887</td>\n",
       "      <td>397</td>\n",
       "    </tr>\n",
       "    <tr>\n",
       "      <th>3</th>\n",
       "      <td>1888</td>\n",
       "      <td>397</td>\n",
       "    </tr>\n",
       "    <tr>\n",
       "      <th>4</th>\n",
       "      <td>1889</td>\n",
       "      <td>413</td>\n",
       "    </tr>\n",
       "  </tbody>\n",
       "</table>\n",
       "</div>"
      ],
      "text/plain": [
       "   Year  Baltmore city annual water use, liters per capita per day, 1885-1968\n",
       "0  1885                                                356                   \n",
       "1  1886                                                386                   \n",
       "2  1887                                                397                   \n",
       "3  1888                                                397                   \n",
       "4  1889                                                413                   "
      ]
     },
     "execution_count": 50,
     "metadata": {},
     "output_type": "execute_result"
    }
   ],
   "source": [
    "# dataset file\n",
    "dataset.head()"
   ]
  },
  {
   "cell_type": "markdown",
   "metadata": {},
   "source": [
    "##### The dimension of dataset (row,column)"
   ]
  },
  {
   "cell_type": "code",
   "execution_count": 51,
   "metadata": {},
   "outputs": [
    {
     "data": {
      "text/plain": [
       "(79, 2)"
      ]
     },
     "execution_count": 51,
     "metadata": {},
     "output_type": "execute_result"
    }
   ],
   "source": [
    "# original file\n",
    "df.shape"
   ]
  },
  {
   "cell_type": "code",
   "execution_count": 52,
   "metadata": {},
   "outputs": [
    {
     "data": {
      "text/plain": [
       "(63, 2)"
      ]
     },
     "execution_count": 52,
     "metadata": {},
     "output_type": "execute_result"
    }
   ],
   "source": [
    "# dataset file\n",
    "dataset.shape"
   ]
  },
  {
   "cell_type": "markdown",
   "metadata": {},
   "source": [
    "##### The summary of dataset"
   ]
  },
  {
   "cell_type": "code",
   "execution_count": 53,
   "metadata": {
    "scrolled": true
   },
   "outputs": [
    {
     "data": {
      "text/html": [
       "<div>\n",
       "<style scoped>\n",
       "    .dataframe tbody tr th:only-of-type {\n",
       "        vertical-align: middle;\n",
       "    }\n",
       "\n",
       "    .dataframe tbody tr th {\n",
       "        vertical-align: top;\n",
       "    }\n",
       "\n",
       "    .dataframe thead th {\n",
       "        text-align: right;\n",
       "    }\n",
       "</style>\n",
       "<table border=\"1\" class=\"dataframe\">\n",
       "  <thead>\n",
       "    <tr style=\"text-align: right;\">\n",
       "      <th></th>\n",
       "      <th>Year</th>\n",
       "      <th>Baltmore city annual water use, liters per capita per day, 1885-1968</th>\n",
       "    </tr>\n",
       "  </thead>\n",
       "  <tbody>\n",
       "    <tr>\n",
       "      <th>count</th>\n",
       "      <td>79.000000</td>\n",
       "      <td>79.000000</td>\n",
       "    </tr>\n",
       "    <tr>\n",
       "      <th>mean</th>\n",
       "      <td>1924.000000</td>\n",
       "      <td>512.025316</td>\n",
       "    </tr>\n",
       "    <tr>\n",
       "      <th>std</th>\n",
       "      <td>22.949219</td>\n",
       "      <td>75.685072</td>\n",
       "    </tr>\n",
       "    <tr>\n",
       "      <th>min</th>\n",
       "      <td>1885.000000</td>\n",
       "      <td>344.000000</td>\n",
       "    </tr>\n",
       "    <tr>\n",
       "      <th>25%</th>\n",
       "      <td>1904.500000</td>\n",
       "      <td>462.000000</td>\n",
       "    </tr>\n",
       "    <tr>\n",
       "      <th>50%</th>\n",
       "      <td>1924.000000</td>\n",
       "      <td>503.000000</td>\n",
       "    </tr>\n",
       "    <tr>\n",
       "      <th>75%</th>\n",
       "      <td>1943.500000</td>\n",
       "      <td>581.000000</td>\n",
       "    </tr>\n",
       "    <tr>\n",
       "      <th>max</th>\n",
       "      <td>1963.000000</td>\n",
       "      <td>662.000000</td>\n",
       "    </tr>\n",
       "  </tbody>\n",
       "</table>\n",
       "</div>"
      ],
      "text/plain": [
       "              Year  \\\n",
       "count    79.000000   \n",
       "mean   1924.000000   \n",
       "std      22.949219   \n",
       "min    1885.000000   \n",
       "25%    1904.500000   \n",
       "50%    1924.000000   \n",
       "75%    1943.500000   \n",
       "max    1963.000000   \n",
       "\n",
       "       Baltmore city annual water use, liters per capita per day, 1885-1968  \n",
       "count                                          79.000000                     \n",
       "mean                                          512.025316                     \n",
       "std                                            75.685072                     \n",
       "min                                           344.000000                     \n",
       "25%                                           462.000000                     \n",
       "50%                                           503.000000                     \n",
       "75%                                           581.000000                     \n",
       "max                                           662.000000                     "
      ]
     },
     "execution_count": 53,
     "metadata": {},
     "output_type": "execute_result"
    }
   ],
   "source": [
    "# original file\n",
    "df.describe()"
   ]
  },
  {
   "cell_type": "code",
   "execution_count": 55,
   "metadata": {},
   "outputs": [
    {
     "data": {
      "text/html": [
       "<div>\n",
       "<style scoped>\n",
       "    .dataframe tbody tr th:only-of-type {\n",
       "        vertical-align: middle;\n",
       "    }\n",
       "\n",
       "    .dataframe tbody tr th {\n",
       "        vertical-align: top;\n",
       "    }\n",
       "\n",
       "    .dataframe thead th {\n",
       "        text-align: right;\n",
       "    }\n",
       "</style>\n",
       "<table border=\"1\" class=\"dataframe\">\n",
       "  <thead>\n",
       "    <tr style=\"text-align: right;\">\n",
       "      <th></th>\n",
       "      <th>Year</th>\n",
       "      <th>Baltmore city annual water use, liters per capita per day, 1885-1968</th>\n",
       "    </tr>\n",
       "  </thead>\n",
       "  <tbody>\n",
       "    <tr>\n",
       "      <th>count</th>\n",
       "      <td>63.000000</td>\n",
       "      <td>63.000000</td>\n",
       "    </tr>\n",
       "    <tr>\n",
       "      <th>mean</th>\n",
       "      <td>1916.000000</td>\n",
       "      <td>493.587302</td>\n",
       "    </tr>\n",
       "    <tr>\n",
       "      <th>std</th>\n",
       "      <td>18.330303</td>\n",
       "      <td>73.272059</td>\n",
       "    </tr>\n",
       "    <tr>\n",
       "      <th>min</th>\n",
       "      <td>1885.000000</td>\n",
       "      <td>344.000000</td>\n",
       "    </tr>\n",
       "    <tr>\n",
       "      <th>25%</th>\n",
       "      <td>1900.500000</td>\n",
       "      <td>456.000000</td>\n",
       "    </tr>\n",
       "    <tr>\n",
       "      <th>50%</th>\n",
       "      <td>1916.000000</td>\n",
       "      <td>488.000000</td>\n",
       "    </tr>\n",
       "    <tr>\n",
       "      <th>75%</th>\n",
       "      <td>1931.500000</td>\n",
       "      <td>518.500000</td>\n",
       "    </tr>\n",
       "    <tr>\n",
       "      <th>max</th>\n",
       "      <td>1947.000000</td>\n",
       "      <td>662.000000</td>\n",
       "    </tr>\n",
       "  </tbody>\n",
       "</table>\n",
       "</div>"
      ],
      "text/plain": [
       "              Year  \\\n",
       "count    63.000000   \n",
       "mean   1916.000000   \n",
       "std      18.330303   \n",
       "min    1885.000000   \n",
       "25%    1900.500000   \n",
       "50%    1916.000000   \n",
       "75%    1931.500000   \n",
       "max    1947.000000   \n",
       "\n",
       "       Baltmore city annual water use, liters per capita per day, 1885-1968  \n",
       "count                                          63.000000                     \n",
       "mean                                          493.587302                     \n",
       "std                                            73.272059                     \n",
       "min                                           344.000000                     \n",
       "25%                                           456.000000                     \n",
       "50%                                           488.000000                     \n",
       "75%                                           518.500000                     \n",
       "max                                           662.000000                     "
      ]
     },
     "execution_count": 55,
     "metadata": {},
     "output_type": "execute_result"
    }
   ],
   "source": [
    "# dataset file\n",
    "dataset.describe()"
   ]
  },
  {
   "cell_type": "markdown",
   "metadata": {},
   "source": [
    "##### The information of dataset"
   ]
  },
  {
   "cell_type": "code",
   "execution_count": 56,
   "metadata": {},
   "outputs": [
    {
     "name": "stdout",
     "output_type": "stream",
     "text": [
      "<class 'pandas.core.frame.DataFrame'>\n",
      "RangeIndex: 79 entries, 0 to 78\n",
      "Data columns (total 2 columns):\n",
      "Year                                                                    79 non-null int64\n",
      "Baltmore city annual water use, liters per capita per day, 1885-1968    79 non-null int64\n",
      "dtypes: int64(2)\n",
      "memory usage: 1.3 KB\n"
     ]
    }
   ],
   "source": [
    "# original file\n",
    "df.info()"
   ]
  },
  {
   "cell_type": "markdown",
   "metadata": {},
   "source": [
    "Dataset has 79 rows and 2 columns with integer data type for all variables."
   ]
  },
  {
   "cell_type": "code",
   "execution_count": 57,
   "metadata": {},
   "outputs": [
    {
     "name": "stdout",
     "output_type": "stream",
     "text": [
      "<class 'pandas.core.frame.DataFrame'>\n",
      "RangeIndex: 63 entries, 0 to 62\n",
      "Data columns (total 2 columns):\n",
      "Year                                                                    63 non-null int64\n",
      "Baltmore city annual water use, liters per capita per day, 1885-1968    63 non-null int64\n",
      "dtypes: int64(2)\n",
      "memory usage: 1.1 KB\n"
     ]
    }
   ],
   "source": [
    "# dataset file\n",
    "dataset.info()"
   ]
  },
  {
   "cell_type": "code",
   "execution_count": 22,
   "metadata": {},
   "outputs": [],
   "source": [
    "# !pip install pandas-profiling"
   ]
  },
  {
   "cell_type": "code",
   "execution_count": 23,
   "metadata": {},
   "outputs": [],
   "source": [
    "# import pandas_profiling\n",
    "# pandas_profiling.ProfileReport(df)"
   ]
  },
  {
   "cell_type": "markdown",
   "metadata": {},
   "source": [
    "# DATA PREPARATION\n",
    "In this section, I will prepare the data by changing year to index and handling the missing values."
   ]
  },
  {
   "cell_type": "markdown",
   "metadata": {},
   "source": [
    "### SET YEAR TO INDEX"
   ]
  },
  {
   "cell_type": "code",
   "execution_count": 58,
   "metadata": {},
   "outputs": [
    {
     "data": {
      "text/html": [
       "<div>\n",
       "<style scoped>\n",
       "    .dataframe tbody tr th:only-of-type {\n",
       "        vertical-align: middle;\n",
       "    }\n",
       "\n",
       "    .dataframe tbody tr th {\n",
       "        vertical-align: top;\n",
       "    }\n",
       "\n",
       "    .dataframe thead th {\n",
       "        text-align: right;\n",
       "    }\n",
       "</style>\n",
       "<table border=\"1\" class=\"dataframe\">\n",
       "  <thead>\n",
       "    <tr style=\"text-align: right;\">\n",
       "      <th></th>\n",
       "      <th>Baltmore city annual water use, liters per capita per day, 1885-1968</th>\n",
       "    </tr>\n",
       "    <tr>\n",
       "      <th>Year</th>\n",
       "      <th></th>\n",
       "    </tr>\n",
       "  </thead>\n",
       "  <tbody>\n",
       "    <tr>\n",
       "      <th>1885</th>\n",
       "      <td>356</td>\n",
       "    </tr>\n",
       "    <tr>\n",
       "      <th>1886</th>\n",
       "      <td>386</td>\n",
       "    </tr>\n",
       "    <tr>\n",
       "      <th>1887</th>\n",
       "      <td>397</td>\n",
       "    </tr>\n",
       "    <tr>\n",
       "      <th>1888</th>\n",
       "      <td>397</td>\n",
       "    </tr>\n",
       "    <tr>\n",
       "      <th>1889</th>\n",
       "      <td>413</td>\n",
       "    </tr>\n",
       "  </tbody>\n",
       "</table>\n",
       "</div>"
      ],
      "text/plain": [
       "      Baltmore city annual water use, liters per capita per day, 1885-1968\n",
       "Year                                                                      \n",
       "1885                                                356                   \n",
       "1886                                                386                   \n",
       "1887                                                397                   \n",
       "1888                                                397                   \n",
       "1889                                                413                   "
      ]
     },
     "execution_count": 58,
     "metadata": {},
     "output_type": "execute_result"
    }
   ],
   "source": [
    "# set year to index (time series needs index to be analyzed)\n",
    "datas=dataset.set_index(['Year'])\n",
    "datas.head()"
   ]
  },
  {
   "cell_type": "markdown",
   "metadata": {},
   "source": [
    "### MISSING VALUES HANDLING"
   ]
  },
  {
   "cell_type": "code",
   "execution_count": 59,
   "metadata": {},
   "outputs": [
    {
     "name": "stdout",
     "output_type": "stream",
     "text": [
      "Baltmore city annual water use, liters per capita per day, 1885-1968    0.0\n",
      "Year                                                                    0.0\n",
      "dtype: float64\n"
     ]
    }
   ],
   "source": [
    "# count_missing = data.isnull().sum().sort_values(ascending = False)\n",
    "percentage_missing=round(df.isnull().sum()/len(df)*100,2).sort_values(ascending = False)\n",
    "print(percentage_missing)"
   ]
  },
  {
   "cell_type": "markdown",
   "metadata": {},
   "source": [
    "The column has no missing values."
   ]
  },
  {
   "cell_type": "markdown",
   "metadata": {},
   "source": [
    "### STEP ARIMA\n",
    "In this section, I will do ARIMA step."
   ]
  },
  {
   "cell_type": "markdown",
   "metadata": {},
   "source": [
    "### PLOT TO SEE THE STATIONARY"
   ]
  },
  {
   "cell_type": "code",
   "execution_count": 62,
   "metadata": {},
   "outputs": [
    {
     "data": {
      "text/plain": [
       "[<matplotlib.lines.Line2D at 0x159dd8f4da0>]"
      ]
     },
     "execution_count": 62,
     "metadata": {},
     "output_type": "execute_result"
    },
    {
     "data": {
      "image/png": "[encoded data removed]",
      "text/plain": [
       "<matplotlib.figure.Figure at 0x159dd5e7358>"
      ]
     },
     "metadata": {},
     "output_type": "display_data"
    }
   ],
   "source": [
    "## line plot\n",
    "plt.xlabel(\"Year\")\n",
    "plt.ylabel(\"Water Usage\")\n",
    "plt.plot(datas)"
   ]
  },
  {
   "cell_type": "markdown",
   "metadata": {},
   "source": [
    "From the plot above, we can know that :\n",
    "- There is increasing trend in water usage over time.\n",
    "- There exists fluctuations, but it doesn't appear any outliers.\n",
    "- There is a downward trend for the last few years of the series."
   ]
  },
  {
   "cell_type": "code",
   "execution_count": 65,
   "metadata": {},
   "outputs": [
    {
     "data": {
      "text/plain": [
       "<matplotlib.axes._subplots.AxesSubplot at 0x159df3d0198>"
      ]
     },
     "execution_count": 65,
     "metadata": {},
     "output_type": "execute_result"
    },
    {
     "data": {
      "image/png": "[encoded data removed]",
      "text/plain": [
       "<matplotlib.figure.Figure at 0x159df5702b0>"
      ]
     },
     "metadata": {},
     "output_type": "display_data"
    }
   ],
   "source": [
    "# histogram graph\n",
    "datas.plot.hist(bins=12, alpha=0.5)"
   ]
  },
  {
   "cell_type": "code",
   "execution_count": 67,
   "metadata": {},
   "outputs": [
    {
     "data": {
      "text/plain": [
       "<matplotlib.axes._subplots.AxesSubplot at 0x159df8c2c18>"
      ]
     },
     "execution_count": 67,
     "metadata": {},
     "output_type": "execute_result"
    },
    {
     "data": {
      "image/png": "[encoded data removed]",
      "text/plain": [
       "<matplotlib.figure.Figure at 0x159df7522e8>"
      ]
     },
     "metadata": {},
     "output_type": "display_data"
    }
   ],
   "source": [
    "# subplot graph\n",
    "datas.plot(kind='kde')"
   ]
  },
  {
   "cell_type": "markdown",
   "metadata": {},
   "source": [
    "From the plot above, we can know that :\n",
    "- The distribution is not Gaussian, but it is pretty close."
   ]
  },
  {
   "cell_type": "markdown",
   "metadata": {},
   "source": [
    "### GROUP DATA BY DECADE"
   ]
  },
  {
   "cell_type": "code",
   "execution_count": 60,
   "metadata": {},
   "outputs": [
    {
     "data": {
      "text/html": [
       "<div>\n",
       "<style scoped>\n",
       "    .dataframe tbody tr th:only-of-type {\n",
       "        vertical-align: middle;\n",
       "    }\n",
       "\n",
       "    .dataframe tbody tr th {\n",
       "        vertical-align: top;\n",
       "    }\n",
       "\n",
       "    .dataframe thead th {\n",
       "        text-align: right;\n",
       "    }\n",
       "</style>\n",
       "<table border=\"1\" class=\"dataframe\">\n",
       "  <thead>\n",
       "    <tr style=\"text-align: right;\">\n",
       "      <th></th>\n",
       "      <th>Baltmore city annual water use, liters per capita per day, 1885-1968</th>\n",
       "    </tr>\n",
       "    <tr>\n",
       "      <th>Year</th>\n",
       "      <th></th>\n",
       "    </tr>\n",
       "  </thead>\n",
       "  <tbody>\n",
       "    <tr>\n",
       "      <th>1885</th>\n",
       "      <td>356</td>\n",
       "    </tr>\n",
       "    <tr>\n",
       "      <th>1886</th>\n",
       "      <td>386</td>\n",
       "    </tr>\n",
       "    <tr>\n",
       "      <th>1887</th>\n",
       "      <td>397</td>\n",
       "    </tr>\n",
       "    <tr>\n",
       "      <th>1888</th>\n",
       "      <td>397</td>\n",
       "    </tr>\n",
       "    <tr>\n",
       "      <th>1889</th>\n",
       "      <td>413</td>\n",
       "    </tr>\n",
       "  </tbody>\n",
       "</table>\n",
       "</div>"
      ],
      "text/plain": [
       "      Baltmore city annual water use, liters per capita per day, 1885-1968\n",
       "Year                                                                      \n",
       "1885                                                356                   \n",
       "1886                                                386                   \n",
       "1887                                                397                   \n",
       "1888                                                397                   \n",
       "1889                                                413                   "
      ]
     },
     "execution_count": 60,
     "metadata": {},
     "output_type": "execute_result"
    }
   ],
   "source": [
    "datas.index"
   ]
  },
  {
   "cell_type": "code",
   "execution_count": 69,
   "metadata": {},
   "outputs": [
    {
     "data": {
      "text/plain": [
       "1947"
      ]
     },
     "execution_count": 69,
     "metadata": {},
     "output_type": "execute_result"
    }
   ],
   "source": [
    "datas.index.max()"
   ]
  },
  {
   "cell_type": "markdown",
   "metadata": {},
   "source": [
    "### Univariate Analysis\n",
    "Univariate analysis will visualize one feature into graph."
   ]
  },
  {
   "cell_type": "code",
   "execution_count": 65,
   "metadata": {},
   "outputs": [
    {
     "name": "stdout",
     "output_type": "stream",
     "text": [
      "<class 'pandas.core.frame.DataFrame'>\n",
      "RangeIndex: 218 entries, 0 to 217\n",
      "Data columns (total 15 columns):\n",
      "totalprice        218 non-null int64\n",
      "area              218 non-null int64\n",
      "zone              218 non-null object\n",
      "category          218 non-null object\n",
      "age               218 non-null int64\n",
      "floor             218 non-null int64\n",
      "rooms             218 non-null int64\n",
      "out               218 non-null object\n",
      "conservation      218 non-null object\n",
      "toilets           218 non-null int64\n",
      "garage            218 non-null int64\n",
      "elevator          218 non-null int64\n",
      "streetcategory    218 non-null object\n",
      "heating           218 non-null object\n",
      "tras              218 non-null int64\n",
      "dtypes: int64(9), object(6)\n",
      "memory usage: 25.6+ KB\n"
     ]
    }
   ],
   "source": [
    "df.info()"
   ]
  },
  {
   "cell_type": "code",
   "execution_count": 66,
   "metadata": {},
   "outputs": [
    {
     "data": {
      "text/plain": [
       "<matplotlib.axes._subplots.AxesSubplot at 0x20bc02935f8>"
      ]
     },
     "execution_count": 66,
     "metadata": {},
     "output_type": "execute_result"
    },
    {
     "data": {
      "image/png": "[encoded data removed]",
      "text/plain": [
       "<matplotlib.figure.Figure at 0x20bbfcca860>"
      ]
     },
     "metadata": {},
     "output_type": "display_data"
    }
   ],
   "source": [
    "#Visualization for numeric fields\n",
    "f=plt.figure(figsize=(13,12))\n",
    "f.add_subplot(3,3,1)\n",
    "sns.distplot(df['totalprice'])\n",
    "f.add_subplot(3,3,2)\n",
    "sns.distplot(df['age'])"
   ]
  },
  {
   "cell_type": "markdown",
   "metadata": {},
   "source": [
    "From the above, we can know that :\n",
    "- Total price is centralized around 250000\n",
    "- The age of building is centralized around 20"
   ]
  },
  {
   "cell_type": "code",
   "execution_count": 67,
   "metadata": {},
   "outputs": [
    {
     "data": {
      "text/plain": [
       "<matplotlib.axes._subplots.AxesSubplot at 0x20bc0f264e0>"
      ]
     },
     "execution_count": 67,
     "metadata": {},
     "output_type": "execute_result"
    },
    {
     "data": {
      "image/png": "[encoded data removed]",
      "text/plain": [
       "<matplotlib.figure.Figure at 0x20bc0d59358>"
      ]
     },
     "metadata": {},
     "output_type": "display_data"
    }
   ],
   "source": [
    "# visualization for categoric variable\n",
    "\n",
    "f=plt.figure(figsize=(13,12))\n",
    "f.add_subplot(3,2,1)\n",
    "sns.countplot(df['category'],orient = \"h\")\n",
    "f.add_subplot(3,2,2)\n",
    "sns.countplot(df['floor'],orient = \"h\")\n",
    "f.add_subplot(3,2,3)\n",
    "sns.countplot(df['rooms'],orient = \"h\")\n",
    "f.add_subplot(3,2,4)\n",
    "sns.countplot(df['toilets'],orient = \"h\")\n",
    "f.add_subplot(3,2,5)\n",
    "sns.countplot(df['garage'],orient = \"h\")\n",
    "f.add_subplot(3,2,6)\n",
    "sns.countplot(df['elevator'],orient = \"h\")"
   ]
  },
  {
   "cell_type": "markdown",
   "metadata": {},
   "source": [
    "From the above, we can know that :\n",
    "- The apartment has 7 type of categories : 2A, 2B, 3A, 3B, 4A, 4B, and 5B category. And most of the apartment is 3B category.\n",
    "- The apartment has 12 type of floors : from 1 to 12 floors.\n",
    "- The apartment has 5 type of rooms : has 3 rooms - 7 rooms. And most of the apartment has 5 rooms.\n",
    "- The apartment has 2 type of toilets : has 1 toilet and 2 toilets. And most of the apartment has 1 toilet.\n",
    "- The apartment has 3 type of garages : has 0 garage - 2 garages. And most of the apartment has no garage.\n",
    "- The apartment has 2 type of elevators : has 0 elevator and 1 elevator. And most of the apartment has 1 elevator."
   ]
  },
  {
   "cell_type": "markdown",
   "metadata": {},
   "source": [
    "### Bivariate Analysis\n",
    "Bivariate analysis will visualize more than one feature into graph."
   ]
  },
  {
   "cell_type": "code",
   "execution_count": 68,
   "metadata": {},
   "outputs": [
    {
     "data": {
      "text/html": [
       "<style  type=\"text/css\" >\n",
       "    #T_e089df50_eb2d_11e9_8535_c8d9d2880f86row0_col0 {\n",
       "            background-color:  #023858;\n",
       "        }    #T_e089df50_eb2d_11e9_8535_c8d9d2880f86row0_col1 {\n",
       "            background-color:  #f5eef6;\n",
       "        }    #T_e089df50_eb2d_11e9_8535_c8d9d2880f86row0_col2 {\n",
       "            background-color:  #d3d4e7;\n",
       "        }    #T_e089df50_eb2d_11e9_8535_c8d9d2880f86row0_col3 {\n",
       "            background-color:  #eee9f3;\n",
       "        }    #T_e089df50_eb2d_11e9_8535_c8d9d2880f86row0_col4 {\n",
       "            background-color:  #a7bddb;\n",
       "        }    #T_e089df50_eb2d_11e9_8535_c8d9d2880f86row0_col5 {\n",
       "            background-color:  #83afd3;\n",
       "        }    #T_e089df50_eb2d_11e9_8535_c8d9d2880f86row0_col6 {\n",
       "            background-color:  #a4bcda;\n",
       "        }    #T_e089df50_eb2d_11e9_8535_c8d9d2880f86row0_col7 {\n",
       "            background-color:  #9cb9d9;\n",
       "        }    #T_e089df50_eb2d_11e9_8535_c8d9d2880f86row0_col8 {\n",
       "            background-color:  #b0c2de;\n",
       "        }    #T_e089df50_eb2d_11e9_8535_c8d9d2880f86row1_col0 {\n",
       "            background-color:  #fff7fb;\n",
       "        }    #T_e089df50_eb2d_11e9_8535_c8d9d2880f86row1_col1 {\n",
       "            background-color:  #023858;\n",
       "        }    #T_e089df50_eb2d_11e9_8535_c8d9d2880f86row1_col2 {\n",
       "            background-color:  #dedcec;\n",
       "        }    #T_e089df50_eb2d_11e9_8535_c8d9d2880f86row1_col3 {\n",
       "            background-color:  #f1ebf5;\n",
       "        }    #T_e089df50_eb2d_11e9_8535_c8d9d2880f86row1_col4 {\n",
       "            background-color:  #fff7fb;\n",
       "        }    #T_e089df50_eb2d_11e9_8535_c8d9d2880f86row1_col5 {\n",
       "            background-color:  #fef6fb;\n",
       "        }    #T_e089df50_eb2d_11e9_8535_c8d9d2880f86row1_col6 {\n",
       "            background-color:  #fbf3f9;\n",
       "        }    #T_e089df50_eb2d_11e9_8535_c8d9d2880f86row1_col7 {\n",
       "            background-color:  #c2cbe2;\n",
       "        }    #T_e089df50_eb2d_11e9_8535_c8d9d2880f86row1_col8 {\n",
       "            background-color:  #d9d8ea;\n",
       "        }    #T_e089df50_eb2d_11e9_8535_c8d9d2880f86row2_col0 {\n",
       "            background-color:  #f1ebf4;\n",
       "        }    #T_e089df50_eb2d_11e9_8535_c8d9d2880f86row2_col1 {\n",
       "            background-color:  #efe9f3;\n",
       "        }    #T_e089df50_eb2d_11e9_8535_c8d9d2880f86row2_col2 {\n",
       "            background-color:  #023858;\n",
       "        }    #T_e089df50_eb2d_11e9_8535_c8d9d2880f86row2_col3 {\n",
       "            background-color:  #faf3f9;\n",
       "        }    #T_e089df50_eb2d_11e9_8535_c8d9d2880f86row2_col4 {\n",
       "            background-color:  #e7e3f0;\n",
       "        }    #T_e089df50_eb2d_11e9_8535_c8d9d2880f86row2_col5 {\n",
       "            background-color:  #fff7fb;\n",
       "        }    #T_e089df50_eb2d_11e9_8535_c8d9d2880f86row2_col6 {\n",
       "            background-color:  #fff7fb;\n",
       "        }    #T_e089df50_eb2d_11e9_8535_c8d9d2880f86row2_col7 {\n",
       "            background-color:  #fff7fb;\n",
       "        }    #T_e089df50_eb2d_11e9_8535_c8d9d2880f86row2_col8 {\n",
       "            background-color:  #fff7fb;\n",
       "        }    #T_e089df50_eb2d_11e9_8535_c8d9d2880f86row3_col0 {\n",
       "            background-color:  #e4e1ef;\n",
       "        }    #T_e089df50_eb2d_11e9_8535_c8d9d2880f86row3_col1 {\n",
       "            background-color:  #dbdaeb;\n",
       "        }    #T_e089df50_eb2d_11e9_8535_c8d9d2880f86row3_col2 {\n",
       "            background-color:  #d4d4e8;\n",
       "        }    #T_e089df50_eb2d_11e9_8535_c8d9d2880f86row3_col3 {\n",
       "            background-color:  #023858;\n",
       "        }    #T_e089df50_eb2d_11e9_8535_c8d9d2880f86row3_col4 {\n",
       "            background-color:  #b9c6e0;\n",
       "        }    #T_e089df50_eb2d_11e9_8535_c8d9d2880f86row3_col5 {\n",
       "            background-color:  #c0c9e2;\n",
       "        }    #T_e089df50_eb2d_11e9_8535_c8d9d2880f86row3_col6 {\n",
       "            background-color:  #e7e3f0;\n",
       "        }    #T_e089df50_eb2d_11e9_8535_c8d9d2880f86row3_col7 {\n",
       "            background-color:  #8fb4d6;\n",
       "        }    #T_e089df50_eb2d_11e9_8535_c8d9d2880f86row3_col8 {\n",
       "            background-color:  #eee8f3;\n",
       "        }    #T_e089df50_eb2d_11e9_8535_c8d9d2880f86row4_col0 {\n",
       "            background-color:  #b7c5df;\n",
       "        }    #T_e089df50_eb2d_11e9_8535_c8d9d2880f86row4_col1 {\n",
       "            background-color:  #fff7fb;\n",
       "        }    #T_e089df50_eb2d_11e9_8535_c8d9d2880f86row4_col2 {\n",
       "            background-color:  #d4d4e8;\n",
       "        }    #T_e089df50_eb2d_11e9_8535_c8d9d2880f86row4_col3 {\n",
       "            background-color:  #d6d6e9;\n",
       "        }    #T_e089df50_eb2d_11e9_8535_c8d9d2880f86row4_col4 {\n",
       "            background-color:  #023858;\n",
       "        }    #T_e089df50_eb2d_11e9_8535_c8d9d2880f86row4_col5 {\n",
       "            background-color:  #5c9fc9;\n",
       "        }    #T_e089df50_eb2d_11e9_8535_c8d9d2880f86row4_col6 {\n",
       "            background-color:  #b0c2de;\n",
       "        }    #T_e089df50_eb2d_11e9_8535_c8d9d2880f86row4_col7 {\n",
       "            background-color:  #60a1ca;\n",
       "        }    #T_e089df50_eb2d_11e9_8535_c8d9d2880f86row4_col8 {\n",
       "            background-color:  #d3d4e7;\n",
       "        }    #T_e089df50_eb2d_11e9_8535_c8d9d2880f86row5_col0 {\n",
       "            background-color:  #93b5d6;\n",
       "        }    #T_e089df50_eb2d_11e9_8535_c8d9d2880f86row5_col1 {\n",
       "            background-color:  #fff7fb;\n",
       "        }    #T_e089df50_eb2d_11e9_8535_c8d9d2880f86row5_col2 {\n",
       "            background-color:  #f1ebf5;\n",
       "        }    #T_e089df50_eb2d_11e9_8535_c8d9d2880f86row5_col3 {\n",
       "            background-color:  #dbdaeb;\n",
       "        }    #T_e089df50_eb2d_11e9_8535_c8d9d2880f86row5_col4 {\n",
       "            background-color:  #5ea0ca;\n",
       "        }    #T_e089df50_eb2d_11e9_8535_c8d9d2880f86row5_col5 {\n",
       "            background-color:  #023858;\n",
       "        }    #T_e089df50_eb2d_11e9_8535_c8d9d2880f86row5_col6 {\n",
       "            background-color:  #5c9fc9;\n",
       "        }    #T_e089df50_eb2d_11e9_8535_c8d9d2880f86row5_col7 {\n",
       "            background-color:  #3f93c2;\n",
       "        }    #T_e089df50_eb2d_11e9_8535_c8d9d2880f86row5_col8 {\n",
       "            background-color:  #a2bcda;\n",
       "        }    #T_e089df50_eb2d_11e9_8535_c8d9d2880f86row6_col0 {\n",
       "            background-color:  #a8bedc;\n",
       "        }    #T_e089df50_eb2d_11e9_8535_c8d9d2880f86row6_col1 {\n",
       "            background-color:  #f4edf6;\n",
       "        }    #T_e089df50_eb2d_11e9_8535_c8d9d2880f86row6_col2 {\n",
       "            background-color:  #e9e5f1;\n",
       "        }    #T_e089df50_eb2d_11e9_8535_c8d9d2880f86row6_col3 {\n",
       "            background-color:  #f3edf5;\n",
       "        }    #T_e089df50_eb2d_11e9_8535_c8d9d2880f86row6_col4 {\n",
       "            background-color:  #a5bddb;\n",
       "        }    #T_e089df50_eb2d_11e9_8535_c8d9d2880f86row6_col5 {\n",
       "            background-color:  #509ac6;\n",
       "        }    #T_e089df50_eb2d_11e9_8535_c8d9d2880f86row6_col6 {\n",
       "            background-color:  #023858;\n",
       "        }    #T_e089df50_eb2d_11e9_8535_c8d9d2880f86row6_col7 {\n",
       "            background-color:  #7bacd1;\n",
       "        }    #T_e089df50_eb2d_11e9_8535_c8d9d2880f86row6_col8 {\n",
       "            background-color:  #b4c4df;\n",
       "        }    #T_e089df50_eb2d_11e9_8535_c8d9d2880f86row7_col0 {\n",
       "            background-color:  #c4cbe3;\n",
       "        }    #T_e089df50_eb2d_11e9_8535_c8d9d2880f86row7_col1 {\n",
       "            background-color:  #d8d7e9;\n",
       "        }    #T_e089df50_eb2d_11e9_8535_c8d9d2880f86row7_col2 {\n",
       "            background-color:  #fff7fb;\n",
       "        }    #T_e089df50_eb2d_11e9_8535_c8d9d2880f86row7_col3 {\n",
       "            background-color:  #c4cbe3;\n",
       "        }    #T_e089df50_eb2d_11e9_8535_c8d9d2880f86row7_col4 {\n",
       "            background-color:  #76aad0;\n",
       "        }    #T_e089df50_eb2d_11e9_8535_c8d9d2880f86row7_col5 {\n",
       "            background-color:  #529bc7;\n",
       "        }    #T_e089df50_eb2d_11e9_8535_c8d9d2880f86row7_col6 {\n",
       "            background-color:  #9cb9d9;\n",
       "        }    #T_e089df50_eb2d_11e9_8535_c8d9d2880f86row7_col7 {\n",
       "            background-color:  #023858;\n",
       "        }    #T_e089df50_eb2d_11e9_8535_c8d9d2880f86row7_col8 {\n",
       "            background-color:  #a5bddb;\n",
       "        }    #T_e089df50_eb2d_11e9_8535_c8d9d2880f86row8_col0 {\n",
       "            background-color:  #bfc9e1;\n",
       "        }    #T_e089df50_eb2d_11e9_8535_c8d9d2880f86row8_col1 {\n",
       "            background-color:  #d7d6e9;\n",
       "        }    #T_e089df50_eb2d_11e9_8535_c8d9d2880f86row8_col2 {\n",
       "            background-color:  #f0eaf4;\n",
       "        }    #T_e089df50_eb2d_11e9_8535_c8d9d2880f86row8_col3 {\n",
       "            background-color:  #fff7fb;\n",
       "        }    #T_e089df50_eb2d_11e9_8535_c8d9d2880f86row8_col4 {\n",
       "            background-color:  #d2d3e7;\n",
       "        }    #T_e089df50_eb2d_11e9_8535_c8d9d2880f86row8_col5 {\n",
       "            background-color:  #a1bbda;\n",
       "        }    #T_e089df50_eb2d_11e9_8535_c8d9d2880f86row8_col6 {\n",
       "            background-color:  #bdc8e1;\n",
       "        }    #T_e089df50_eb2d_11e9_8535_c8d9d2880f86row8_col7 {\n",
       "            background-color:  #8cb3d5;\n",
       "        }    #T_e089df50_eb2d_11e9_8535_c8d9d2880f86row8_col8 {\n",
       "            background-color:  #023858;\n",
       "        }</style>  \n",
       "<table id=\"T_e089df50_eb2d_11e9_8535_c8d9d2880f86\" > \n",
       "<thead>    <tr> \n",
       "        <th class=\"blank level0\" ></th> \n",
       "        <th class=\"col_heading level0 col0\" >totalprice</th> \n",
       "        <th class=\"col_heading level0 col1\" >area</th> \n",
       "        <th class=\"col_heading level0 col2\" >age</th> \n",
       "        <th class=\"col_heading level0 col3\" >floor</th> \n",
       "        <th class=\"col_heading level0 col4\" >rooms</th> \n",
       "        <th class=\"col_heading level0 col5\" >toilets</th> \n",
       "        <th class=\"col_heading level0 col6\" >garage</th> \n",
       "        <th class=\"col_heading level0 col7\" >elevator</th> \n",
       "        <th class=\"col_heading level0 col8\" >tras</th> \n",
       "    </tr></thead> \n",
       "<tbody>    <tr> \n",
       "        <th id=\"T_e089df50_eb2d_11e9_8535_c8d9d2880f86level0_row0\" class=\"row_heading level0 row0\" >totalprice</th> \n",
       "        <td id=\"T_e089df50_eb2d_11e9_8535_c8d9d2880f86row0_col0\" class=\"data row0 col0\" >1</td> \n",
       "        <td id=\"T_e089df50_eb2d_11e9_8535_c8d9d2880f86row0_col1\" class=\"data row0 col1\" >-0.19</td> \n",
       "        <td id=\"T_e089df50_eb2d_11e9_8535_c8d9d2880f86row0_col2\" class=\"data row0 col2\" >-0.075</td> \n",
       "        <td id=\"T_e089df50_eb2d_11e9_8535_c8d9d2880f86row0_col3\" class=\"data row0 col3\" >0.0031</td> \n",
       "        <td id=\"T_e089df50_eb2d_11e9_8535_c8d9d2880f86row0_col4\" class=\"data row0 col4\" >0.2</td> \n",
       "        <td id=\"T_e089df50_eb2d_11e9_8535_c8d9d2880f86row0_col5\" class=\"data row0 col5\" >0.31</td> \n",
       "        <td id=\"T_e089df50_eb2d_11e9_8535_c8d9d2880f86row0_col6\" class=\"data row0 col6\" >0.25</td> \n",
       "        <td id=\"T_e089df50_eb2d_11e9_8535_c8d9d2880f86row0_col7\" class=\"data row0 col7\" >0.15</td> \n",
       "        <td id=\"T_e089df50_eb2d_11e9_8535_c8d9d2880f86row0_col8\" class=\"data row0 col8\" >0.17</td> \n",
       "    </tr>    <tr> \n",
       "        <th id=\"T_e089df50_eb2d_11e9_8535_c8d9d2880f86level0_row1\" class=\"row_heading level0 row1\" >area</th> \n",
       "        <td id=\"T_e089df50_eb2d_11e9_8535_c8d9d2880f86row1_col0\" class=\"data row1 col0\" >-0.19</td> \n",
       "        <td id=\"T_e089df50_eb2d_11e9_8535_c8d9d2880f86row1_col1\" class=\"data row1 col1\" >1</td> \n",
       "        <td id=\"T_e089df50_eb2d_11e9_8535_c8d9d2880f86row1_col2\" class=\"data row1 col2\" >-0.14</td> \n",
       "        <td id=\"T_e089df50_eb2d_11e9_8535_c8d9d2880f86row1_col3\" class=\"data row1 col3\" >-0.018</td> \n",
       "        <td id=\"T_e089df50_eb2d_11e9_8535_c8d9d2880f86row1_col4\" class=\"data row1 col4\" >-0.28</td> \n",
       "        <td id=\"T_e089df50_eb2d_11e9_8535_c8d9d2880f86row1_col5\" class=\"data row1 col5\" >-0.28</td> \n",
       "        <td id=\"T_e089df50_eb2d_11e9_8535_c8d9d2880f86row1_col6\" class=\"data row1 col6\" >-0.18</td> \n",
       "        <td id=\"T_e089df50_eb2d_11e9_8535_c8d9d2880f86row1_col7\" class=\"data row1 col7\" >-3.2e-05</td> \n",
       "        <td id=\"T_e089df50_eb2d_11e9_8535_c8d9d2880f86row1_col8\" class=\"data row1 col8\" >0.0038</td> \n",
       "    </tr>    <tr> \n",
       "        <th id=\"T_e089df50_eb2d_11e9_8535_c8d9d2880f86level0_row2\" class=\"row_heading level0 row2\" >age</th> \n",
       "        <td id=\"T_e089df50_eb2d_11e9_8535_c8d9d2880f86row2_col0\" class=\"data row2 col0\" >-0.075</td> \n",
       "        <td id=\"T_e089df50_eb2d_11e9_8535_c8d9d2880f86row2_col1\" class=\"data row2 col1\" >-0.14</td> \n",
       "        <td id=\"T_e089df50_eb2d_11e9_8535_c8d9d2880f86row2_col2\" class=\"data row2 col2\" >1</td> \n",
       "        <td id=\"T_e089df50_eb2d_11e9_8535_c8d9d2880f86row2_col3\" class=\"data row2 col3\" >-0.081</td> \n",
       "        <td id=\"T_e089df50_eb2d_11e9_8535_c8d9d2880f86row2_col4\" class=\"data row2 col4\" >-0.083</td> \n",
       "        <td id=\"T_e089df50_eb2d_11e9_8535_c8d9d2880f86row2_col5\" class=\"data row2 col5\" >-0.28</td> \n",
       "        <td id=\"T_e089df50_eb2d_11e9_8535_c8d9d2880f86row2_col6\" class=\"data row2 col6\" >-0.21</td> \n",
       "        <td id=\"T_e089df50_eb2d_11e9_8535_c8d9d2880f86row2_col7\" class=\"data row2 col7\" >-0.41</td> \n",
       "        <td id=\"T_e089df50_eb2d_11e9_8535_c8d9d2880f86row2_col8\" class=\"data row2 col8\" >-0.27</td> \n",
       "    </tr>    <tr> \n",
       "        <th id=\"T_e089df50_eb2d_11e9_8535_c8d9d2880f86level0_row3\" class=\"row_heading level0 row3\" >floor</th> \n",
       "        <td id=\"T_e089df50_eb2d_11e9_8535_c8d9d2880f86row3_col0\" class=\"data row3 col0\" >0.0031</td> \n",
       "        <td id=\"T_e089df50_eb2d_11e9_8535_c8d9d2880f86row3_col1\" class=\"data row3 col1\" >-0.018</td> \n",
       "        <td id=\"T_e089df50_eb2d_11e9_8535_c8d9d2880f86row3_col2\" class=\"data row3 col2\" >-0.081</td> \n",
       "        <td id=\"T_e089df50_eb2d_11e9_8535_c8d9d2880f86row3_col3\" class=\"data row3 col3\" >1</td> \n",
       "        <td id=\"T_e089df50_eb2d_11e9_8535_c8d9d2880f86row3_col4\" class=\"data row3 col4\" >0.13</td> \n",
       "        <td id=\"T_e089df50_eb2d_11e9_8535_c8d9d2880f86row3_col5\" class=\"data row3 col5\" >0.1</td> \n",
       "        <td id=\"T_e089df50_eb2d_11e9_8535_c8d9d2880f86row3_col6\" class=\"data row3 col6\" >-0.03</td> \n",
       "        <td id=\"T_e089df50_eb2d_11e9_8535_c8d9d2880f86row3_col7\" class=\"data row3 col7\" >0.2</td> \n",
       "        <td id=\"T_e089df50_eb2d_11e9_8535_c8d9d2880f86row3_col8\" class=\"data row3 col8\" >-0.12</td> \n",
       "    </tr>    <tr> \n",
       "        <th id=\"T_e089df50_eb2d_11e9_8535_c8d9d2880f86level0_row4\" class=\"row_heading level0 row4\" >rooms</th> \n",
       "        <td id=\"T_e089df50_eb2d_11e9_8535_c8d9d2880f86row4_col0\" class=\"data row4 col0\" >0.2</td> \n",
       "        <td id=\"T_e089df50_eb2d_11e9_8535_c8d9d2880f86row4_col1\" class=\"data row4 col1\" >-0.28</td> \n",
       "        <td id=\"T_e089df50_eb2d_11e9_8535_c8d9d2880f86row4_col2\" class=\"data row4 col2\" >-0.083</td> \n",
       "        <td id=\"T_e089df50_eb2d_11e9_8535_c8d9d2880f86row4_col3\" class=\"data row4 col3\" >0.13</td> \n",
       "        <td id=\"T_e089df50_eb2d_11e9_8535_c8d9d2880f86row4_col4\" class=\"data row4 col4\" >1</td> \n",
       "        <td id=\"T_e089df50_eb2d_11e9_8535_c8d9d2880f86row4_col5\" class=\"data row4 col5\" >0.42</td> \n",
       "        <td id=\"T_e089df50_eb2d_11e9_8535_c8d9d2880f86row4_col6\" class=\"data row4 col6\" >0.21</td> \n",
       "        <td id=\"T_e089df50_eb2d_11e9_8535_c8d9d2880f86row4_col7\" class=\"data row4 col7\" >0.35</td> \n",
       "        <td id=\"T_e089df50_eb2d_11e9_8535_c8d9d2880f86row4_col8\" class=\"data row4 col8\" >0.033</td> \n",
       "    </tr>    <tr> \n",
       "        <th id=\"T_e089df50_eb2d_11e9_8535_c8d9d2880f86level0_row5\" class=\"row_heading level0 row5\" >toilets</th> \n",
       "        <td id=\"T_e089df50_eb2d_11e9_8535_c8d9d2880f86row5_col0\" class=\"data row5 col0\" >0.31</td> \n",
       "        <td id=\"T_e089df50_eb2d_11e9_8535_c8d9d2880f86row5_col1\" class=\"data row5 col1\" >-0.28</td> \n",
       "        <td id=\"T_e089df50_eb2d_11e9_8535_c8d9d2880f86row5_col2\" class=\"data row5 col2\" >-0.28</td> \n",
       "        <td id=\"T_e089df50_eb2d_11e9_8535_c8d9d2880f86row5_col3\" class=\"data row5 col3\" >0.1</td> \n",
       "        <td id=\"T_e089df50_eb2d_11e9_8535_c8d9d2880f86row5_col4\" class=\"data row5 col4\" >0.42</td> \n",
       "        <td id=\"T_e089df50_eb2d_11e9_8535_c8d9d2880f86row5_col5\" class=\"data row5 col5\" >1</td> \n",
       "        <td id=\"T_e089df50_eb2d_11e9_8535_c8d9d2880f86row5_col6\" class=\"data row5 col6\" >0.45</td> \n",
       "        <td id=\"T_e089df50_eb2d_11e9_8535_c8d9d2880f86row5_col7\" class=\"data row5 col7\" >0.45</td> \n",
       "        <td id=\"T_e089df50_eb2d_11e9_8535_c8d9d2880f86row5_col8\" class=\"data row5 col8\" >0.22</td> \n",
       "    </tr>    <tr> \n",
       "        <th id=\"T_e089df50_eb2d_11e9_8535_c8d9d2880f86level0_row6\" class=\"row_heading level0 row6\" >garage</th> \n",
       "        <td id=\"T_e089df50_eb2d_11e9_8535_c8d9d2880f86row6_col0\" class=\"data row6 col0\" >0.25</td> \n",
       "        <td id=\"T_e089df50_eb2d_11e9_8535_c8d9d2880f86row6_col1\" class=\"data row6 col1\" >-0.18</td> \n",
       "        <td id=\"T_e089df50_eb2d_11e9_8535_c8d9d2880f86row6_col2\" class=\"data row6 col2\" >-0.21</td> \n",
       "        <td id=\"T_e089df50_eb2d_11e9_8535_c8d9d2880f86row6_col3\" class=\"data row6 col3\" >-0.03</td> \n",
       "        <td id=\"T_e089df50_eb2d_11e9_8535_c8d9d2880f86row6_col4\" class=\"data row6 col4\" >0.21</td> \n",
       "        <td id=\"T_e089df50_eb2d_11e9_8535_c8d9d2880f86row6_col5\" class=\"data row6 col5\" >0.45</td> \n",
       "        <td id=\"T_e089df50_eb2d_11e9_8535_c8d9d2880f86row6_col6\" class=\"data row6 col6\" >1</td> \n",
       "        <td id=\"T_e089df50_eb2d_11e9_8535_c8d9d2880f86row6_col7\" class=\"data row6 col7\" >0.27</td> \n",
       "        <td id=\"T_e089df50_eb2d_11e9_8535_c8d9d2880f86row6_col8\" class=\"data row6 col8\" >0.16</td> \n",
       "    </tr>    <tr> \n",
       "        <th id=\"T_e089df50_eb2d_11e9_8535_c8d9d2880f86level0_row7\" class=\"row_heading level0 row7\" >elevator</th> \n",
       "        <td id=\"T_e089df50_eb2d_11e9_8535_c8d9d2880f86row7_col0\" class=\"data row7 col0\" >0.15</td> \n",
       "        <td id=\"T_e089df50_eb2d_11e9_8535_c8d9d2880f86row7_col1\" class=\"data row7 col1\" >-3.2e-05</td> \n",
       "        <td id=\"T_e089df50_eb2d_11e9_8535_c8d9d2880f86row7_col2\" class=\"data row7 col2\" >-0.41</td> \n",
       "        <td id=\"T_e089df50_eb2d_11e9_8535_c8d9d2880f86row7_col3\" class=\"data row7 col3\" >0.2</td> \n",
       "        <td id=\"T_e089df50_eb2d_11e9_8535_c8d9d2880f86row7_col4\" class=\"data row7 col4\" >0.35</td> \n",
       "        <td id=\"T_e089df50_eb2d_11e9_8535_c8d9d2880f86row7_col5\" class=\"data row7 col5\" >0.45</td> \n",
       "        <td id=\"T_e089df50_eb2d_11e9_8535_c8d9d2880f86row7_col6\" class=\"data row7 col6\" >0.27</td> \n",
       "        <td id=\"T_e089df50_eb2d_11e9_8535_c8d9d2880f86row7_col7\" class=\"data row7 col7\" >1</td> \n",
       "        <td id=\"T_e089df50_eb2d_11e9_8535_c8d9d2880f86row7_col8\" class=\"data row7 col8\" >0.21</td> \n",
       "    </tr>    <tr> \n",
       "        <th id=\"T_e089df50_eb2d_11e9_8535_c8d9d2880f86level0_row8\" class=\"row_heading level0 row8\" >tras</th> \n",
       "        <td id=\"T_e089df50_eb2d_11e9_8535_c8d9d2880f86row8_col0\" class=\"data row8 col0\" >0.17</td> \n",
       "        <td id=\"T_e089df50_eb2d_11e9_8535_c8d9d2880f86row8_col1\" class=\"data row8 col1\" >0.0038</td> \n",
       "        <td id=\"T_e089df50_eb2d_11e9_8535_c8d9d2880f86row8_col2\" class=\"data row8 col2\" >-0.27</td> \n",
       "        <td id=\"T_e089df50_eb2d_11e9_8535_c8d9d2880f86row8_col3\" class=\"data row8 col3\" >-0.12</td> \n",
       "        <td id=\"T_e089df50_eb2d_11e9_8535_c8d9d2880f86row8_col4\" class=\"data row8 col4\" >0.033</td> \n",
       "        <td id=\"T_e089df50_eb2d_11e9_8535_c8d9d2880f86row8_col5\" class=\"data row8 col5\" >0.22</td> \n",
       "        <td id=\"T_e089df50_eb2d_11e9_8535_c8d9d2880f86row8_col6\" class=\"data row8 col6\" >0.16</td> \n",
       "        <td id=\"T_e089df50_eb2d_11e9_8535_c8d9d2880f86row8_col7\" class=\"data row8 col7\" >0.21</td> \n",
       "        <td id=\"T_e089df50_eb2d_11e9_8535_c8d9d2880f86row8_col8\" class=\"data row8 col8\" >1</td> \n",
       "    </tr></tbody> \n",
       "</table> "
      ],
      "text/plain": [
       "<pandas.io.formats.style.Styler at 0x20bc02bfe80>"
      ]
     },
     "execution_count": 68,
     "metadata": {},
     "output_type": "execute_result"
    }
   ],
   "source": [
    "#Correlation of each feature\n",
    "df.corr().style.background_gradient().set_precision(2)"
   ]
  },
  {
   "cell_type": "markdown",
   "metadata": {},
   "source": [
    "From the heatmap above, we can see the correlation between variables :\n",
    "- totalprice - toilets : 0,31\n",
    "- totalprice - garage : 0,25\n",
    "- totalprice - rooms : 0,2"
   ]
  },
  {
   "cell_type": "code",
   "execution_count": 69,
   "metadata": {},
   "outputs": [
    {
     "data": {
      "text/plain": [
       "<matplotlib.axes._subplots.AxesSubplot at 0x20bc0f091d0>"
      ]
     },
     "execution_count": 69,
     "metadata": {},
     "output_type": "execute_result"
    },
    {
     "data": {
      "image/png": "[encoded data removed]",
      "text/plain": [
       "<matplotlib.figure.Figure at 0x20bc0f7d080>"
      ]
     },
     "metadata": {},
     "output_type": "display_data"
    }
   ],
   "source": [
    "#Bivariate Analysis totalprice - toilets\n",
    "sns.barplot(data=df, x=df['toilets'], y=df['totalprice'], color='blue')"
   ]
  },
  {
   "cell_type": "markdown",
   "metadata": {},
   "source": [
    "From the barplot above, we can know that :\n",
    "- The higher number of toilet that apartment has, the more expensive the price of apartment."
   ]
  },
  {
   "cell_type": "code",
   "execution_count": 70,
   "metadata": {},
   "outputs": [
    {
     "data": {
      "text/plain": [
       "<matplotlib.axes._subplots.AxesSubplot at 0x20bc108e080>"
      ]
     },
     "execution_count": 70,
     "metadata": {},
     "output_type": "execute_result"
    },
    {
     "data": {
      "image/png": "[encoded data removed]",
      "text/plain": [
       "<matplotlib.figure.Figure at 0x20bc026fc88>"
      ]
     },
     "metadata": {},
     "output_type": "display_data"
    }
   ],
   "source": [
    "#Bivariate Analysis totalprice - garages\n",
    "sns.barplot(data=df, x=df['garage'], y=df['totalprice'], color='yellow')"
   ]
  },
  {
   "cell_type": "markdown",
   "metadata": {},
   "source": [
    "From the barplot above, we can know that :\n",
    "- The higher number of garage that apartment has, the more expensive the price of apartment."
   ]
  },
  {
   "cell_type": "code",
   "execution_count": 71,
   "metadata": {},
   "outputs": [
    {
     "data": {
      "text/plain": [
       "<matplotlib.axes._subplots.AxesSubplot at 0x20bc10e7fd0>"
      ]
     },
     "execution_count": 71,
     "metadata": {},
     "output_type": "execute_result"
    },
    {
     "data": {
      "image/png": "[encoded data removed]",
      "text/plain": [
       "<matplotlib.figure.Figure at 0x20bc1021748>"
      ]
     },
     "metadata": {},
     "output_type": "display_data"
    }
   ],
   "source": [
    "#Bivariate Analysis totalprice - rooms\n",
    "sns.barplot(data=df, x=df['rooms'], y=df['totalprice'], color='green')"
   ]
  },
  {
   "cell_type": "markdown",
   "metadata": {},
   "source": [
    "From the barplot above, we can know that :\n",
    "- The higher number of rooms that apartment has, the more expensive the price of apartment."
   ]
  },
  {
   "cell_type": "markdown",
   "metadata": {},
   "source": [
    "# FEATURE SELECTION"
   ]
  },
  {
   "cell_type": "markdown",
   "metadata": {},
   "source": [
    "- I will choose numeric variable only because machine learning model only available for numeric data type.\n",
    "- Specially for conservation, I will change the data type into numeric."
   ]
  },
  {
   "cell_type": "code",
   "execution_count": 72,
   "metadata": {},
   "outputs": [],
   "source": [
    "# Change conservation data type into numeric\n",
    "# A = 1A, B = 2A, C = 2B and 3A\n",
    "dicti = {\n",
    "    '2B':3,\n",
    "    '3A':3,\n",
    "    '2A':2,\n",
    "    '1A':1\n",
    "}\n",
    "df['conservation'] = df['conservation'].replace(dicti)"
   ]
  },
  {
   "cell_type": "code",
   "execution_count": 76,
   "metadata": {},
   "outputs": [],
   "source": [
    "data = df.copy()"
   ]
  },
  {
   "cell_type": "code",
   "execution_count": 77,
   "metadata": {},
   "outputs": [],
   "source": [
    "# Drop columns that won't be used\n",
    "drop = ['zone', 'category', 'out', 'streetcategory', 'heating']\n",
    "data.drop(columns=drop, inplace=True)"
   ]
  },
  {
   "cell_type": "code",
   "execution_count": 78,
   "metadata": {},
   "outputs": [],
   "source": [
    "# Create one hot encoding for conservation feature\n",
    "data['conservation'] = pd.Categorical(data['conservation'])\n",
    "data = pd.get_dummies(data)"
   ]
  },
  {
   "cell_type": "code",
   "execution_count": 79,
   "metadata": {},
   "outputs": [
    {
     "data": {
      "text/html": [
       "<div>\n",
       "<style scoped>\n",
       "    .dataframe tbody tr th:only-of-type {\n",
       "        vertical-align: middle;\n",
       "    }\n",
       "\n",
       "    .dataframe tbody tr th {\n",
       "        vertical-align: top;\n",
       "    }\n",
       "\n",
       "    .dataframe thead th {\n",
       "        text-align: right;\n",
       "    }\n",
       "</style>\n",
       "<table border=\"1\" class=\"dataframe\">\n",
       "  <thead>\n",
       "    <tr style=\"text-align: right;\">\n",
       "      <th></th>\n",
       "      <th>totalprice</th>\n",
       "      <th>area</th>\n",
       "      <th>age</th>\n",
       "      <th>floor</th>\n",
       "      <th>rooms</th>\n",
       "      <th>toilets</th>\n",
       "      <th>garage</th>\n",
       "      <th>elevator</th>\n",
       "      <th>tras</th>\n",
       "      <th>conservation_1</th>\n",
       "      <th>conservation_2</th>\n",
       "      <th>conservation_3</th>\n",
       "    </tr>\n",
       "  </thead>\n",
       "  <tbody>\n",
       "    <tr>\n",
       "      <th>0</th>\n",
       "      <td>228000</td>\n",
       "      <td>7530999756</td>\n",
       "      <td>33</td>\n",
       "      <td>3</td>\n",
       "      <td>5</td>\n",
       "      <td>1</td>\n",
       "      <td>0</td>\n",
       "      <td>1</td>\n",
       "      <td>0</td>\n",
       "      <td>0</td>\n",
       "      <td>0</td>\n",
       "      <td>1</td>\n",
       "    </tr>\n",
       "    <tr>\n",
       "      <th>1</th>\n",
       "      <td>409000</td>\n",
       "      <td>1006500015</td>\n",
       "      <td>5</td>\n",
       "      <td>7</td>\n",
       "      <td>5</td>\n",
       "      <td>2</td>\n",
       "      <td>1</td>\n",
       "      <td>1</td>\n",
       "      <td>1</td>\n",
       "      <td>1</td>\n",
       "      <td>0</td>\n",
       "      <td>0</td>\n",
       "    </tr>\n",
       "    <tr>\n",
       "      <th>2</th>\n",
       "      <td>200000</td>\n",
       "      <td>8887000275</td>\n",
       "      <td>14</td>\n",
       "      <td>8</td>\n",
       "      <td>5</td>\n",
       "      <td>2</td>\n",
       "      <td>0</td>\n",
       "      <td>1</td>\n",
       "      <td>0</td>\n",
       "      <td>1</td>\n",
       "      <td>0</td>\n",
       "      <td>0</td>\n",
       "    </tr>\n",
       "    <tr>\n",
       "      <th>3</th>\n",
       "      <td>180000</td>\n",
       "      <td>6261000061</td>\n",
       "      <td>41</td>\n",
       "      <td>3</td>\n",
       "      <td>4</td>\n",
       "      <td>1</td>\n",
       "      <td>0</td>\n",
       "      <td>0</td>\n",
       "      <td>0</td>\n",
       "      <td>0</td>\n",
       "      <td>1</td>\n",
       "      <td>0</td>\n",
       "    </tr>\n",
       "    <tr>\n",
       "      <th>4</th>\n",
       "      <td>443600</td>\n",
       "      <td>1461499939</td>\n",
       "      <td>22</td>\n",
       "      <td>6</td>\n",
       "      <td>7</td>\n",
       "      <td>2</td>\n",
       "      <td>0</td>\n",
       "      <td>1</td>\n",
       "      <td>1</td>\n",
       "      <td>1</td>\n",
       "      <td>0</td>\n",
       "      <td>0</td>\n",
       "    </tr>\n",
       "  </tbody>\n",
       "</table>\n",
       "</div>"
      ],
      "text/plain": [
       "   totalprice        area  age  floor  rooms  toilets  garage  elevator  tras  \\\n",
       "0      228000  7530999756   33      3      5        1       0         1     0   \n",
       "1      409000  1006500015    5      7      5        2       1         1     1   \n",
       "2      200000  8887000275   14      8      5        2       0         1     0   \n",
       "3      180000  6261000061   41      3      4        1       0         0     0   \n",
       "4      443600  1461499939   22      6      7        2       0         1     1   \n",
       "\n",
       "   conservation_1  conservation_2  conservation_3  \n",
       "0               0               0               1  \n",
       "1               1               0               0  \n",
       "2               1               0               0  \n",
       "3               0               1               0  \n",
       "4               1               0               0  "
      ]
     },
     "execution_count": 79,
     "metadata": {},
     "output_type": "execute_result"
    }
   ],
   "source": [
    "data.head()"
   ]
  },
  {
   "cell_type": "code",
   "execution_count": 138,
   "metadata": {},
   "outputs": [
    {
     "name": "stdout",
     "output_type": "stream",
     "text": [
      "<class 'pandas.core.frame.DataFrame'>\n",
      "RangeIndex: 218 entries, 0 to 217\n",
      "Data columns (total 12 columns):\n",
      "totalprice        218 non-null int64\n",
      "area              218 non-null int64\n",
      "age               218 non-null int64\n",
      "floor             218 non-null int64\n",
      "rooms             218 non-null int64\n",
      "toilets           218 non-null int64\n",
      "garage            218 non-null int64\n",
      "elevator          218 non-null int64\n",
      "tras              218 non-null int64\n",
      "conservation_1    218 non-null uint8\n",
      "conservation_2    218 non-null uint8\n",
      "conservation_3    218 non-null uint8\n",
      "dtypes: int64(9), uint8(3)\n",
      "memory usage: 16.0 KB\n"
     ]
    }
   ],
   "source": [
    "data.info()"
   ]
  },
  {
   "cell_type": "markdown",
   "metadata": {},
   "source": [
    "# MODELLING\n",
    "In this modelling, I will use Linear Regression and Random Forest Algorithm."
   ]
  },
  {
   "cell_type": "code",
   "execution_count": 127,
   "metadata": {},
   "outputs": [],
   "source": [
    "# Create x and y variable\n",
    "X = data.drop(columns = ['totalprice'])\n",
    "y = data['totalprice']\n",
    "\n",
    "# X=data[['floor','rooms', 'toilets', 'garage', 'conservation_1', 'conservation_2', 'conservation_3']]  # Features\n",
    "# y=data['totalprice'] #Target"
   ]
  },
  {
   "cell_type": "code",
   "execution_count": 128,
   "metadata": {},
   "outputs": [],
   "source": [
    "# split data\n",
    "X_train, X_test, y_train, y_test = train_test_split(X, y, test_size=0.2)"
   ]
  },
  {
   "cell_type": "markdown",
   "metadata": {},
   "source": [
    "### RANDOM FOREST"
   ]
  },
  {
   "cell_type": "code",
   "execution_count": 84,
   "metadata": {},
   "outputs": [],
   "source": [
    "# Import Library\n",
    "from sklearn.ensemble import RandomForestClassifier\n",
    "from sklearn.model_selection import train_test_split\n",
    "from sklearn.metrics import confusion_matrix, roc_auc_score, roc_curve\n",
    "from sklearn import metrics"
   ]
  },
  {
   "cell_type": "code",
   "execution_count": 100,
   "metadata": {},
   "outputs": [],
   "source": [
    "# Compile Algorithm\n",
    "clf=RandomForestClassifier(random_state=20) #pick random sample"
   ]
  },
  {
   "cell_type": "code",
   "execution_count": 101,
   "metadata": {},
   "outputs": [
    {
     "data": {
      "text/plain": [
       "RandomForestClassifier(bootstrap=True, class_weight=None, criterion='gini',\n",
       "            max_depth=None, max_features='auto', max_leaf_nodes=None,\n",
       "            min_impurity_decrease=0.0, min_impurity_split=None,\n",
       "            min_samples_leaf=1, min_samples_split=2,\n",
       "            min_weight_fraction_leaf=0.0, n_estimators=10, n_jobs=1,\n",
       "            oob_score=False, random_state=20, verbose=0, warm_start=False)"
      ]
     },
     "execution_count": 101,
     "metadata": {},
     "output_type": "execute_result"
    }
   ],
   "source": [
    "#Train the model using the training sets y_pred=clf.predict(X_test)\n",
    "clf.fit(X_train,y_train)"
   ]
  },
  {
   "cell_type": "code",
   "execution_count": 102,
   "metadata": {},
   "outputs": [
    {
     "data": {
      "text/plain": [
       "array([330000, 265000, 271000, 360000, 225000, 250000, 270000, 210000,\n",
       "       340000, 249000, 250000, 220000, 270000, 340000, 294000, 333000,\n",
       "       391000, 340000, 250000, 225000, 250000, 270000, 225000, 250000,\n",
       "       249000, 249000, 249000, 340000, 240000, 250000, 340000, 270000,\n",
       "       240000, 249000, 270000, 249000, 250000, 265000, 340000, 270000,\n",
       "       270000, 270000, 340000, 225000], dtype=int64)"
      ]
     },
     "execution_count": 102,
     "metadata": {},
     "output_type": "execute_result"
    }
   ],
   "source": [
    "# Get the result\n",
    "y_pred=clf.predict(X_test)\n",
    "y_pred"
   ]
  },
  {
   "cell_type": "code",
   "execution_count": 104,
   "metadata": {},
   "outputs": [],
   "source": [
    "def mean_absolute_percentage_error(y_true, y_pred): \n",
    "    y_true, y_pred = np.array(y_true), np.array(y_pred)\n",
    "    return np.mean(np.abs((y_true - y_pred) / y_true)) * 100"
   ]
  },
  {
   "cell_type": "code",
   "execution_count": 105,
   "metadata": {},
   "outputs": [
    {
     "name": "stdout",
     "output_type": "stream",
     "text": [
      "Nilai MAE 36371.13636363636\n",
      "Nilai MAPE 13.648740923166446\n"
     ]
    }
   ],
   "source": [
    "#check error\n",
    "print(f'Nilai MAE {mean_absolute_error(y_pred, y_test)}')\n",
    "print(f'Nilai MAPE {mean_absolute_percentage_error(y_test, y_pred)}')"
   ]
  },
  {
   "cell_type": "markdown",
   "metadata": {},
   "source": [
    "### LINEAR REGRESSION"
   ]
  },
  {
   "cell_type": "code",
   "execution_count": 129,
   "metadata": {},
   "outputs": [],
   "source": [
    "# Linear regression Object\n",
    "lin_reg = LinearRegression()"
   ]
  },
  {
   "cell_type": "code",
   "execution_count": 130,
   "metadata": {},
   "outputs": [
    {
     "data": {
      "text/plain": [
       "LinearRegression(copy_X=True, fit_intercept=True, n_jobs=1, normalize=False)"
      ]
     },
     "execution_count": 130,
     "metadata": {},
     "output_type": "execute_result"
    }
   ],
   "source": [
    "#Train the model using the training sets y_pred=clf.predict(X_test)\n",
    "lin_reg.fit(X_train,y_train)"
   ]
  },
  {
   "cell_type": "code",
   "execution_count": 131,
   "metadata": {},
   "outputs": [],
   "source": [
    "#predict the result\n",
    "y_pred = lin_reg.predict(X_test)"
   ]
  },
  {
   "cell_type": "code",
   "execution_count": 132,
   "metadata": {},
   "outputs": [],
   "source": [
    "def mean_absolute_percentage_error(y_true, y_pred): \n",
    "    y_true, y_pred = np.array(y_true), np.array(y_pred)\n",
    "    return np.mean(np.abs((y_true - y_pred) / y_true)) * 100"
   ]
  },
  {
   "cell_type": "code",
   "execution_count": 133,
   "metadata": {},
   "outputs": [
    {
     "name": "stdout",
     "output_type": "stream",
     "text": [
      "Nilai MAE 33661.59748685641\n",
      "Nilai MAPE 13.657026931117706)\n"
     ]
    }
   ],
   "source": [
    "#check error\n",
    "print(f'Nilai MAE {mean_absolute_error(y_pred, y_test)}')\n",
    "print(f'Nilai MAPE {mean_absolute_percentage_error(y_test, y_pred)})')"
   ]
  },
  {
   "cell_type": "markdown",
   "metadata": {},
   "source": [
    "The result of prediction price has error around 33K with MAPE 13%."
   ]
  },
  {
   "cell_type": "markdown",
   "metadata": {},
   "source": [
    "### DECISION TREE"
   ]
  },
  {
   "cell_type": "code",
   "execution_count": 134,
   "metadata": {},
   "outputs": [],
   "source": [
    "from sklearn.tree import DecisionTreeClassifier"
   ]
  },
  {
   "cell_type": "code",
   "execution_count": 135,
   "metadata": {},
   "outputs": [],
   "source": [
    "tree = DecisionTreeClassifier(criterion=\"entropy\", max_depth=5)\n",
    "tree = tree.fit(X_train,y_train)"
   ]
  },
  {
   "cell_type": "code",
   "execution_count": 136,
   "metadata": {},
   "outputs": [],
   "source": [
    "y_pred = tree.predict(X_test)"
   ]
  },
  {
   "cell_type": "code",
   "execution_count": 137,
   "metadata": {},
   "outputs": [
    {
     "name": "stdout",
     "output_type": "stream",
     "text": [
      "Accuracy: 0.02\n"
     ]
    },
    {
     "ename": "ValueError",
     "evalue": "Target is multiclass but average='binary'. Please choose another average setting.",
     "output_type": "error",
     "traceback": [
      "\u001b[1;31m---------------------------------------------------------------------------\u001b[0m",
      "\u001b[1;31mValueError\u001b[0m                                Traceback (most recent call last)",
      "\u001b[1;32m<ipython-input-137-d0f57d4f2dd2>\u001b[0m in \u001b[0;36m<module>\u001b[1;34m()\u001b[0m\n\u001b[0;32m      1\u001b[0m \u001b[1;31m# Model Accuracy, how often is the classifier correct?\u001b[0m\u001b[1;33m\u001b[0m\u001b[1;33m\u001b[0m\u001b[0m\n\u001b[0;32m      2\u001b[0m \u001b[0mprint\u001b[0m\u001b[1;33m(\u001b[0m\u001b[1;34m\"Accuracy: %.2f\"\u001b[0m \u001b[1;33m%\u001b[0m \u001b[0mmetrics\u001b[0m\u001b[1;33m.\u001b[0m\u001b[0maccuracy_score\u001b[0m\u001b[1;33m(\u001b[0m\u001b[0my_test\u001b[0m\u001b[1;33m,\u001b[0m \u001b[0my_pred\u001b[0m\u001b[1;33m)\u001b[0m\u001b[1;33m)\u001b[0m\u001b[1;33m\u001b[0m\u001b[0m\n\u001b[1;32m----> 3\u001b[1;33m \u001b[0mprint\u001b[0m\u001b[1;33m(\u001b[0m\u001b[1;34m\"Precission: %.2f\"\u001b[0m \u001b[1;33m%\u001b[0m \u001b[0mmetrics\u001b[0m\u001b[1;33m.\u001b[0m\u001b[0mprecision_score\u001b[0m\u001b[1;33m(\u001b[0m\u001b[0my_test\u001b[0m\u001b[1;33m,\u001b[0m \u001b[0my_pred\u001b[0m\u001b[1;33m)\u001b[0m\u001b[1;33m)\u001b[0m \u001b[1;31m#precision : true positive\u001b[0m\u001b[1;33m\u001b[0m\u001b[0m\n\u001b[0m\u001b[0;32m      4\u001b[0m \u001b[0mprint\u001b[0m\u001b[1;33m(\u001b[0m\u001b[1;34m\"Recall: %.2f\"\u001b[0m \u001b[1;33m%\u001b[0m \u001b[0mmetrics\u001b[0m\u001b[1;33m.\u001b[0m\u001b[0mrecall_score\u001b[0m\u001b[1;33m(\u001b[0m\u001b[0my_test\u001b[0m\u001b[1;33m,\u001b[0m \u001b[0my_pred\u001b[0m\u001b[1;33m)\u001b[0m\u001b[1;33m)\u001b[0m \u001b[1;31m#recall : false positive\u001b[0m\u001b[1;33m\u001b[0m\u001b[0m\n\u001b[0;32m      5\u001b[0m \u001b[0mprint\u001b[0m\u001b[1;33m(\u001b[0m\u001b[1;34m\"AUC: %.2f\"\u001b[0m \u001b[1;33m%\u001b[0m \u001b[0mmetrics\u001b[0m\u001b[1;33m.\u001b[0m\u001b[0mroc_auc_score\u001b[0m\u001b[1;33m(\u001b[0m\u001b[0my_test\u001b[0m\u001b[1;33m,\u001b[0m \u001b[0my_pred\u001b[0m\u001b[1;33m)\u001b[0m\u001b[1;33m)\u001b[0m\u001b[1;33m\u001b[0m\u001b[0m\n",
      "\u001b[1;32mC:\\ProgramData\\Anaconda3\\lib\\site-packages\\sklearn\\metrics\\classification.py\u001b[0m in \u001b[0;36mprecision_score\u001b[1;34m(y_true, y_pred, labels, pos_label, average, sample_weight)\u001b[0m\n\u001b[0;32m   1259\u001b[0m                                                  \u001b[0maverage\u001b[0m\u001b[1;33m=\u001b[0m\u001b[0maverage\u001b[0m\u001b[1;33m,\u001b[0m\u001b[1;33m\u001b[0m\u001b[0m\n\u001b[0;32m   1260\u001b[0m                                                  \u001b[0mwarn_for\u001b[0m\u001b[1;33m=\u001b[0m\u001b[1;33m(\u001b[0m\u001b[1;34m'precision'\u001b[0m\u001b[1;33m,\u001b[0m\u001b[1;33m)\u001b[0m\u001b[1;33m,\u001b[0m\u001b[1;33m\u001b[0m\u001b[0m\n\u001b[1;32m-> 1261\u001b[1;33m                                                  sample_weight=sample_weight)\n\u001b[0m\u001b[0;32m   1262\u001b[0m     \u001b[1;32mreturn\u001b[0m \u001b[0mp\u001b[0m\u001b[1;33m\u001b[0m\u001b[0m\n\u001b[0;32m   1263\u001b[0m \u001b[1;33m\u001b[0m\u001b[0m\n",
      "\u001b[1;32mC:\\ProgramData\\Anaconda3\\lib\\site-packages\\sklearn\\metrics\\classification.py\u001b[0m in \u001b[0;36mprecision_recall_fscore_support\u001b[1;34m(y_true, y_pred, beta, labels, pos_label, average, warn_for, sample_weight)\u001b[0m\n\u001b[0;32m   1038\u001b[0m         \u001b[1;32melse\u001b[0m\u001b[1;33m:\u001b[0m\u001b[1;33m\u001b[0m\u001b[0m\n\u001b[0;32m   1039\u001b[0m             raise ValueError(\"Target is %s but average='binary'. Please \"\n\u001b[1;32m-> 1040\u001b[1;33m                              \"choose another average setting.\" % y_type)\n\u001b[0m\u001b[0;32m   1041\u001b[0m     \u001b[1;32melif\u001b[0m \u001b[0mpos_label\u001b[0m \u001b[1;32mnot\u001b[0m \u001b[1;32min\u001b[0m \u001b[1;33m(\u001b[0m\u001b[1;32mNone\u001b[0m\u001b[1;33m,\u001b[0m \u001b[1;36m1\u001b[0m\u001b[1;33m)\u001b[0m\u001b[1;33m:\u001b[0m\u001b[1;33m\u001b[0m\u001b[0m\n\u001b[0;32m   1042\u001b[0m         warnings.warn(\"Note that pos_label (set to %r) is ignored when \"\n",
      "\u001b[1;31mValueError\u001b[0m: Target is multiclass but average='binary'. Please choose another average setting."
     ]
    }
   ],
   "source": [
    "# Model Accuracy, how often is the classifier correct?\n",
    "print(\"Accuracy: %.2f\" % metrics.accuracy_score(y_test, y_pred))\n",
    "print(\"Precission: %.2f\" % metrics.precision_score(y_test, y_pred)) #precision : true positive\n",
    "print(\"Recall: %.2f\" % metrics.recall_score(y_test, y_pred)) #recall : false positive\n",
    "print(\"AUC: %.2f\" % metrics.roc_auc_score(y_test, y_pred))"
   ]
  },
  {
   "cell_type": "markdown",
   "metadata": {},
   "source": [
    "### LOGISTIC REGRESSION"
   ]
  },
  {
   "cell_type": "code",
   "execution_count": 139,
   "metadata": {},
   "outputs": [],
   "source": [
    "# IMPORT LIBRARY\n",
    "from sklearn.linear_model import LogisticRegression"
   ]
  }
 ],
 "metadata": {
  "kernelspec": {
   "display_name": "Python 3",
   "language": "python",
   "name": "python3"
  },
  "language_info": {
   "codemirror_mode": {
    "name": "ipython",
    "version": 3
   },
   "file_extension": ".py",
   "mimetype": "text/x-python",
   "name": "python",
   "nbconvert_exporter": "python",
   "pygments_lexer": "ipython3",
   "version": "3.6.4"
  }
 },
 "nbformat": 4,
 "nbformat_minor": 2
}
