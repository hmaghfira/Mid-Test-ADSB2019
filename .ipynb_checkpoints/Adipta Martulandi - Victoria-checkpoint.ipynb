{
 "cells": [
  {
   "cell_type": "markdown",
   "metadata": {},
   "source": [
    "## 0. Load Library"
   ]
  },
  {
   "cell_type": "code",
   "execution_count": 61,
   "metadata": {},
   "outputs": [],
   "source": [
    "import pandas as pd\n",
    "import numpy as np\n",
    "\n",
    "import matplotlib.pyplot as plt\n",
    "import seaborn as sns\n",
    "\n",
    "from sklearn.linear_model import LinearRegression\n",
    "from sklearn.model_selection import train_test_split\n",
    "from sklearn.metrics import mean_absolute_error\n",
    "from sklearn.metrics import mean_squared_error\n",
    "\n",
    "import warnings\n",
    "warnings.filterwarnings('ignore')"
   ]
  },
  {
   "cell_type": "markdown",
   "metadata": {},
   "source": [
    "## 1. Load the Datasets"
   ]
  },
  {
   "cell_type": "code",
   "execution_count": 3,
   "metadata": {},
   "outputs": [],
   "source": [
    "df = pd.read_csv('victoria.csv')"
   ]
  },
  {
   "cell_type": "markdown",
   "metadata": {},
   "source": [
    "## 2. Exploratory Data Analysis"
   ]
  },
  {
   "cell_type": "code",
   "execution_count": 5,
   "metadata": {},
   "outputs": [
    {
     "data": {
      "text/html": [
       "<div>\n",
       "<style scoped>\n",
       "    .dataframe tbody tr th:only-of-type {\n",
       "        vertical-align: middle;\n",
       "    }\n",
       "\n",
       "    .dataframe tbody tr th {\n",
       "        vertical-align: top;\n",
       "    }\n",
       "\n",
       "    .dataframe thead th {\n",
       "        text-align: right;\n",
       "    }\n",
       "</style>\n",
       "<table border=\"1\" class=\"dataframe\">\n",
       "  <thead>\n",
       "    <tr style=\"text-align: right;\">\n",
       "      <th></th>\n",
       "      <th>row.labels</th>\n",
       "      <th>totalprice</th>\n",
       "      <th>area</th>\n",
       "      <th>zone</th>\n",
       "      <th>category</th>\n",
       "      <th>age</th>\n",
       "      <th>floor</th>\n",
       "      <th>rooms</th>\n",
       "      <th>out</th>\n",
       "      <th>conservation</th>\n",
       "      <th>toilets</th>\n",
       "      <th>garage</th>\n",
       "      <th>elevator</th>\n",
       "      <th>streetcategory</th>\n",
       "      <th>heating</th>\n",
       "      <th>tras</th>\n",
       "    </tr>\n",
       "  </thead>\n",
       "  <tbody>\n",
       "    <tr>\n",
       "      <th>0</th>\n",
       "      <td>1</td>\n",
       "      <td>228000</td>\n",
       "      <td>7530999756</td>\n",
       "      <td>Z45</td>\n",
       "      <td>4B</td>\n",
       "      <td>33</td>\n",
       "      <td>3</td>\n",
       "      <td>5</td>\n",
       "      <td>E100</td>\n",
       "      <td>2B</td>\n",
       "      <td>1</td>\n",
       "      <td>0</td>\n",
       "      <td>1</td>\n",
       "      <td>S3</td>\n",
       "      <td>3A</td>\n",
       "      <td>0</td>\n",
       "    </tr>\n",
       "    <tr>\n",
       "      <th>1</th>\n",
       "      <td>2</td>\n",
       "      <td>409000</td>\n",
       "      <td>1006500015</td>\n",
       "      <td>Z31</td>\n",
       "      <td>3B</td>\n",
       "      <td>5</td>\n",
       "      <td>7</td>\n",
       "      <td>5</td>\n",
       "      <td>E50</td>\n",
       "      <td>1A</td>\n",
       "      <td>2</td>\n",
       "      <td>1</td>\n",
       "      <td>1</td>\n",
       "      <td>S5</td>\n",
       "      <td>4A</td>\n",
       "      <td>1</td>\n",
       "    </tr>\n",
       "    <tr>\n",
       "      <th>2</th>\n",
       "      <td>3</td>\n",
       "      <td>200000</td>\n",
       "      <td>8887000275</td>\n",
       "      <td>Z52</td>\n",
       "      <td>3A</td>\n",
       "      <td>14</td>\n",
       "      <td>8</td>\n",
       "      <td>5</td>\n",
       "      <td>E50</td>\n",
       "      <td>1A</td>\n",
       "      <td>2</td>\n",
       "      <td>0</td>\n",
       "      <td>1</td>\n",
       "      <td>S2</td>\n",
       "      <td>3A</td>\n",
       "      <td>0</td>\n",
       "    </tr>\n",
       "    <tr>\n",
       "      <th>3</th>\n",
       "      <td>4</td>\n",
       "      <td>180000</td>\n",
       "      <td>6261000061</td>\n",
       "      <td>Z62</td>\n",
       "      <td>4A</td>\n",
       "      <td>41</td>\n",
       "      <td>3</td>\n",
       "      <td>4</td>\n",
       "      <td>E50</td>\n",
       "      <td>2A</td>\n",
       "      <td>1</td>\n",
       "      <td>0</td>\n",
       "      <td>0</td>\n",
       "      <td>S3</td>\n",
       "      <td>1A</td>\n",
       "      <td>0</td>\n",
       "    </tr>\n",
       "    <tr>\n",
       "      <th>4</th>\n",
       "      <td>5</td>\n",
       "      <td>443600</td>\n",
       "      <td>1461499939</td>\n",
       "      <td>Z31</td>\n",
       "      <td>3A</td>\n",
       "      <td>22</td>\n",
       "      <td>6</td>\n",
       "      <td>7</td>\n",
       "      <td>E100</td>\n",
       "      <td>1A</td>\n",
       "      <td>2</td>\n",
       "      <td>0</td>\n",
       "      <td>1</td>\n",
       "      <td>S4</td>\n",
       "      <td>4A</td>\n",
       "      <td>1</td>\n",
       "    </tr>\n",
       "  </tbody>\n",
       "</table>\n",
       "</div>"
      ],
      "text/plain": [
       "   row.labels totalprice        area zone category  age  floor  rooms   out  \\\n",
       "0           1     228000  7530999756  Z45       4B   33      3      5  E100   \n",
       "1           2     409000  1006500015  Z31       3B    5      7      5   E50   \n",
       "2           3     200000  8887000275  Z52       3A   14      8      5   E50   \n",
       "3           4     180000  6261000061  Z62       4A   41      3      4   E50   \n",
       "4           5     443600  1461499939  Z31       3A   22      6      7  E100   \n",
       "\n",
       "  conservation  toilets  garage  elevator streetcategory heating  tras  \n",
       "0           2B        1       0         1             S3      3A     0  \n",
       "1           1A        2       1         1             S5      4A     1  \n",
       "2           1A        2       0         1             S2      3A     0  \n",
       "3           2A        1       0         0             S3      1A     0  \n",
       "4           1A        2       0         1             S4      4A     1  "
      ]
     },
     "execution_count": 5,
     "metadata": {},
     "output_type": "execute_result"
    }
   ],
   "source": [
    "df.head()"
   ]
  },
  {
   "cell_type": "code",
   "execution_count": 6,
   "metadata": {},
   "outputs": [
    {
     "data": {
      "text/plain": [
       "(218, 16)"
      ]
     },
     "execution_count": 6,
     "metadata": {},
     "output_type": "execute_result"
    }
   ],
   "source": [
    "df.shape"
   ]
  },
  {
   "cell_type": "code",
   "execution_count": 7,
   "metadata": {
    "scrolled": true
   },
   "outputs": [
    {
     "data": {
      "text/html": [
       "<div>\n",
       "<style scoped>\n",
       "    .dataframe tbody tr th:only-of-type {\n",
       "        vertical-align: middle;\n",
       "    }\n",
       "\n",
       "    .dataframe tbody tr th {\n",
       "        vertical-align: top;\n",
       "    }\n",
       "\n",
       "    .dataframe thead th {\n",
       "        text-align: right;\n",
       "    }\n",
       "</style>\n",
       "<table border=\"1\" class=\"dataframe\">\n",
       "  <thead>\n",
       "    <tr style=\"text-align: right;\">\n",
       "      <th></th>\n",
       "      <th>row.labels</th>\n",
       "      <th>age</th>\n",
       "      <th>floor</th>\n",
       "      <th>rooms</th>\n",
       "      <th>toilets</th>\n",
       "      <th>garage</th>\n",
       "      <th>elevator</th>\n",
       "      <th>tras</th>\n",
       "    </tr>\n",
       "  </thead>\n",
       "  <tbody>\n",
       "    <tr>\n",
       "      <th>count</th>\n",
       "      <td>218.000000</td>\n",
       "      <td>218.000000</td>\n",
       "      <td>218.000000</td>\n",
       "      <td>218.000000</td>\n",
       "      <td>218.000000</td>\n",
       "      <td>218.000000</td>\n",
       "      <td>218.000000</td>\n",
       "      <td>218.000000</td>\n",
       "    </tr>\n",
       "    <tr>\n",
       "      <th>mean</th>\n",
       "      <td>109.500000</td>\n",
       "      <td>19.899083</td>\n",
       "      <td>4.440367</td>\n",
       "      <td>4.853211</td>\n",
       "      <td>1.467890</td>\n",
       "      <td>0.243119</td>\n",
       "      <td>0.798165</td>\n",
       "      <td>0.807339</td>\n",
       "    </tr>\n",
       "    <tr>\n",
       "      <th>std</th>\n",
       "      <td>63.075352</td>\n",
       "      <td>14.595590</td>\n",
       "      <td>2.126988</td>\n",
       "      <td>0.634285</td>\n",
       "      <td>0.500116</td>\n",
       "      <td>0.450881</td>\n",
       "      <td>0.402293</td>\n",
       "      <td>0.406787</td>\n",
       "    </tr>\n",
       "    <tr>\n",
       "      <th>min</th>\n",
       "      <td>1.000000</td>\n",
       "      <td>1.000000</td>\n",
       "      <td>1.000000</td>\n",
       "      <td>3.000000</td>\n",
       "      <td>1.000000</td>\n",
       "      <td>0.000000</td>\n",
       "      <td>0.000000</td>\n",
       "      <td>0.000000</td>\n",
       "    </tr>\n",
       "    <tr>\n",
       "      <th>25%</th>\n",
       "      <td>55.250000</td>\n",
       "      <td>11.000000</td>\n",
       "      <td>3.000000</td>\n",
       "      <td>5.000000</td>\n",
       "      <td>1.000000</td>\n",
       "      <td>0.000000</td>\n",
       "      <td>1.000000</td>\n",
       "      <td>1.000000</td>\n",
       "    </tr>\n",
       "    <tr>\n",
       "      <th>50%</th>\n",
       "      <td>109.500000</td>\n",
       "      <td>16.000000</td>\n",
       "      <td>4.000000</td>\n",
       "      <td>5.000000</td>\n",
       "      <td>1.000000</td>\n",
       "      <td>0.000000</td>\n",
       "      <td>1.000000</td>\n",
       "      <td>1.000000</td>\n",
       "    </tr>\n",
       "    <tr>\n",
       "      <th>75%</th>\n",
       "      <td>163.750000</td>\n",
       "      <td>24.000000</td>\n",
       "      <td>5.000000</td>\n",
       "      <td>5.000000</td>\n",
       "      <td>2.000000</td>\n",
       "      <td>0.000000</td>\n",
       "      <td>1.000000</td>\n",
       "      <td>1.000000</td>\n",
       "    </tr>\n",
       "    <tr>\n",
       "      <th>max</th>\n",
       "      <td>218.000000</td>\n",
       "      <td>118.000000</td>\n",
       "      <td>12.000000</td>\n",
       "      <td>7.000000</td>\n",
       "      <td>2.000000</td>\n",
       "      <td>2.000000</td>\n",
       "      <td>1.000000</td>\n",
       "      <td>2.000000</td>\n",
       "    </tr>\n",
       "  </tbody>\n",
       "</table>\n",
       "</div>"
      ],
      "text/plain": [
       "       row.labels         age       floor       rooms     toilets      garage  \\\n",
       "count  218.000000  218.000000  218.000000  218.000000  218.000000  218.000000   \n",
       "mean   109.500000   19.899083    4.440367    4.853211    1.467890    0.243119   \n",
       "std     63.075352   14.595590    2.126988    0.634285    0.500116    0.450881   \n",
       "min      1.000000    1.000000    1.000000    3.000000    1.000000    0.000000   \n",
       "25%     55.250000   11.000000    3.000000    5.000000    1.000000    0.000000   \n",
       "50%    109.500000   16.000000    4.000000    5.000000    1.000000    0.000000   \n",
       "75%    163.750000   24.000000    5.000000    5.000000    2.000000    0.000000   \n",
       "max    218.000000  118.000000   12.000000    7.000000    2.000000    2.000000   \n",
       "\n",
       "         elevator        tras  \n",
       "count  218.000000  218.000000  \n",
       "mean     0.798165    0.807339  \n",
       "std      0.402293    0.406787  \n",
       "min      0.000000    0.000000  \n",
       "25%      1.000000    1.000000  \n",
       "50%      1.000000    1.000000  \n",
       "75%      1.000000    1.000000  \n",
       "max      1.000000    2.000000  "
      ]
     },
     "execution_count": 7,
     "metadata": {},
     "output_type": "execute_result"
    }
   ],
   "source": [
    "df.describe()"
   ]
  },
  {
   "cell_type": "code",
   "execution_count": 31,
   "metadata": {},
   "outputs": [
    {
     "data": {
      "text/plain": [
       "row.labels         int64\n",
       "totalprice         int64\n",
       "area               int64\n",
       "zone              object\n",
       "category          object\n",
       "age                int64\n",
       "floor              int64\n",
       "rooms              int64\n",
       "out               object\n",
       "conservation      object\n",
       "toilets            int64\n",
       "garage             int64\n",
       "elevator           int64\n",
       "streetcategory    object\n",
       "heating           object\n",
       "tras               int64\n",
       "dtype: object"
      ]
     },
     "execution_count": 31,
     "metadata": {},
     "output_type": "execute_result"
    }
   ],
   "source": [
    "df.dtypes"
   ]
  },
  {
   "cell_type": "code",
   "execution_count": 15,
   "metadata": {},
   "outputs": [],
   "source": [
    "#Data Cleansing\n",
    "df['totalprice'] = df['totalprice'].replace(r'[,]','', regex=True)\n",
    "df['area'] = df['area'].replace(r'[,]','', regex=True)"
   ]
  },
  {
   "cell_type": "code",
   "execution_count": 18,
   "metadata": {},
   "outputs": [],
   "source": [
    "#Mengubah ke data numerik\n",
    "df['totalprice'] = pd.to_numeric(df['totalprice'])\n",
    "df['area'] = pd.to_numeric(df['area'])"
   ]
  },
  {
   "cell_type": "markdown",
   "metadata": {},
   "source": [
    "## 3. Data Visualization"
   ]
  },
  {
   "cell_type": "code",
   "execution_count": 19,
   "metadata": {},
   "outputs": [
    {
     "data": {
      "text/plain": [
       "<matplotlib.axes._subplots.AxesSubplot at 0x1ab5465f4a8>"
      ]
     },
     "execution_count": 19,
     "metadata": {},
     "output_type": "execute_result"
    },
    {
     "data": {
      "image/png": "[encoded data removed]",
      "text/plain": [
       "<Figure size 432x288 with 1 Axes>"
      ]
     },
     "metadata": {
      "needs_background": "light"
     },
     "output_type": "display_data"
    }
   ],
   "source": [
    "#Univariate Analysis Price\n",
    "sns.distplot(df['totalprice'])"
   ]
  },
  {
   "cell_type": "markdown",
   "metadata": {},
   "source": [
    "- Dapat dilihat bahwa harga dari apartment terpusat di kisaran harga 250000"
   ]
  },
  {
   "cell_type": "code",
   "execution_count": 22,
   "metadata": {},
   "outputs": [
    {
     "data": {
      "text/html": [
       "<style  type=\"text/css\" >\n",
       "    #T_dc3fdc10_e91c_11e9_88d7_309c23131503row0_col0 {\n",
       "            background-color:  #023858;\n",
       "            color:  #f1f1f1;\n",
       "        }    #T_dc3fdc10_e91c_11e9_88d7_309c23131503row0_col1 {\n",
       "            background-color:  #faf3f9;\n",
       "            color:  #000000;\n",
       "        }    #T_dc3fdc10_e91c_11e9_88d7_309c23131503row0_col2 {\n",
       "            background-color:  #b4c4df;\n",
       "            color:  #000000;\n",
       "        }    #T_dc3fdc10_e91c_11e9_88d7_309c23131503row0_col3 {\n",
       "            background-color:  #c6cce3;\n",
       "            color:  #000000;\n",
       "        }    #T_dc3fdc10_e91c_11e9_88d7_309c23131503row0_col4 {\n",
       "            background-color:  #f0eaf4;\n",
       "            color:  #000000;\n",
       "        }    #T_dc3fdc10_e91c_11e9_88d7_309c23131503row0_col5 {\n",
       "            background-color:  #ede8f3;\n",
       "            color:  #000000;\n",
       "        }    #T_dc3fdc10_e91c_11e9_88d7_309c23131503row0_col6 {\n",
       "            background-color:  #e2dfee;\n",
       "            color:  #000000;\n",
       "        }    #T_dc3fdc10_e91c_11e9_88d7_309c23131503row0_col7 {\n",
       "            background-color:  #efe9f3;\n",
       "            color:  #000000;\n",
       "        }    #T_dc3fdc10_e91c_11e9_88d7_309c23131503row0_col8 {\n",
       "            background-color:  #b3c3de;\n",
       "            color:  #000000;\n",
       "        }    #T_dc3fdc10_e91c_11e9_88d7_309c23131503row0_col9 {\n",
       "            background-color:  #dad9ea;\n",
       "            color:  #000000;\n",
       "        }    #T_dc3fdc10_e91c_11e9_88d7_309c23131503row1_col0 {\n",
       "            background-color:  #fff7fb;\n",
       "            color:  #000000;\n",
       "        }    #T_dc3fdc10_e91c_11e9_88d7_309c23131503row1_col1 {\n",
       "            background-color:  #023858;\n",
       "            color:  #f1f1f1;\n",
       "        }    #T_dc3fdc10_e91c_11e9_88d7_309c23131503row1_col2 {\n",
       "            background-color:  #f5eef6;\n",
       "            color:  #000000;\n",
       "        }    #T_dc3fdc10_e91c_11e9_88d7_309c23131503row1_col3 {\n",
       "            background-color:  #d3d4e7;\n",
       "            color:  #000000;\n",
       "        }    #T_dc3fdc10_e91c_11e9_88d7_309c23131503row1_col4 {\n",
       "            background-color:  #eee9f3;\n",
       "            color:  #000000;\n",
       "        }    #T_dc3fdc10_e91c_11e9_88d7_309c23131503row1_col5 {\n",
       "            background-color:  #a7bddb;\n",
       "            color:  #000000;\n",
       "        }    #T_dc3fdc10_e91c_11e9_88d7_309c23131503row1_col6 {\n",
       "            background-color:  #83afd3;\n",
       "            color:  #000000;\n",
       "        }    #T_dc3fdc10_e91c_11e9_88d7_309c23131503row1_col7 {\n",
       "            background-color:  #a4bcda;\n",
       "            color:  #000000;\n",
       "        }    #T_dc3fdc10_e91c_11e9_88d7_309c23131503row1_col8 {\n",
       "            background-color:  #9cb9d9;\n",
       "            color:  #000000;\n",
       "        }    #T_dc3fdc10_e91c_11e9_88d7_309c23131503row1_col9 {\n",
       "            background-color:  #b0c2de;\n",
       "            color:  #000000;\n",
       "        }    #T_dc3fdc10_e91c_11e9_88d7_309c23131503row2_col0 {\n",
       "            background-color:  #cdd0e5;\n",
       "            color:  #000000;\n",
       "        }    #T_dc3fdc10_e91c_11e9_88d7_309c23131503row2_col1 {\n",
       "            background-color:  #fff7fb;\n",
       "            color:  #000000;\n",
       "        }    #T_dc3fdc10_e91c_11e9_88d7_309c23131503row2_col2 {\n",
       "            background-color:  #023858;\n",
       "            color:  #f1f1f1;\n",
       "        }    #T_dc3fdc10_e91c_11e9_88d7_309c23131503row2_col3 {\n",
       "            background-color:  #dedcec;\n",
       "            color:  #000000;\n",
       "        }    #T_dc3fdc10_e91c_11e9_88d7_309c23131503row2_col4 {\n",
       "            background-color:  #f1ebf5;\n",
       "            color:  #000000;\n",
       "        }    #T_dc3fdc10_e91c_11e9_88d7_309c23131503row2_col5 {\n",
       "            background-color:  #fff7fb;\n",
       "            color:  #000000;\n",
       "        }    #T_dc3fdc10_e91c_11e9_88d7_309c23131503row2_col6 {\n",
       "            background-color:  #fef6fb;\n",
       "            color:  #000000;\n",
       "        }    #T_dc3fdc10_e91c_11e9_88d7_309c23131503row2_col7 {\n",
       "            background-color:  #fbf3f9;\n",
       "            color:  #000000;\n",
       "        }    #T_dc3fdc10_e91c_11e9_88d7_309c23131503row2_col8 {\n",
       "            background-color:  #c2cbe2;\n",
       "            color:  #000000;\n",
       "        }    #T_dc3fdc10_e91c_11e9_88d7_309c23131503row2_col9 {\n",
       "            background-color:  #d9d8ea;\n",
       "            color:  #000000;\n",
       "        }    #T_dc3fdc10_e91c_11e9_88d7_309c23131503row3_col0 {\n",
       "            background-color:  #eee8f3;\n",
       "            color:  #000000;\n",
       "        }    #T_dc3fdc10_e91c_11e9_88d7_309c23131503row3_col1 {\n",
       "            background-color:  #f1ebf4;\n",
       "            color:  #000000;\n",
       "        }    #T_dc3fdc10_e91c_11e9_88d7_309c23131503row3_col2 {\n",
       "            background-color:  #efe9f3;\n",
       "            color:  #000000;\n",
       "        }    #T_dc3fdc10_e91c_11e9_88d7_309c23131503row3_col3 {\n",
       "            background-color:  #023858;\n",
       "            color:  #f1f1f1;\n",
       "        }    #T_dc3fdc10_e91c_11e9_88d7_309c23131503row3_col4 {\n",
       "            background-color:  #faf3f9;\n",
       "            color:  #000000;\n",
       "        }    #T_dc3fdc10_e91c_11e9_88d7_309c23131503row3_col5 {\n",
       "            background-color:  #e7e3f0;\n",
       "            color:  #000000;\n",
       "        }    #T_dc3fdc10_e91c_11e9_88d7_309c23131503row3_col6 {\n",
       "            background-color:  #fff7fb;\n",
       "            color:  #000000;\n",
       "        }    #T_dc3fdc10_e91c_11e9_88d7_309c23131503row3_col7 {\n",
       "            background-color:  #fff7fb;\n",
       "            color:  #000000;\n",
       "        }    #T_dc3fdc10_e91c_11e9_88d7_309c23131503row3_col8 {\n",
       "            background-color:  #fff7fb;\n",
       "            color:  #000000;\n",
       "        }    #T_dc3fdc10_e91c_11e9_88d7_309c23131503row3_col9 {\n",
       "            background-color:  #fff7fb;\n",
       "            color:  #000000;\n",
       "        }    #T_dc3fdc10_e91c_11e9_88d7_309c23131503row4_col0 {\n",
       "            background-color:  #ece7f2;\n",
       "            color:  #000000;\n",
       "        }    #T_dc3fdc10_e91c_11e9_88d7_309c23131503row4_col1 {\n",
       "            background-color:  #e4e1ef;\n",
       "            color:  #000000;\n",
       "        }    #T_dc3fdc10_e91c_11e9_88d7_309c23131503row4_col2 {\n",
       "            background-color:  #dbdaeb;\n",
       "            color:  #000000;\n",
       "        }    #T_dc3fdc10_e91c_11e9_88d7_309c23131503row4_col3 {\n",
       "            background-color:  #d4d4e8;\n",
       "            color:  #000000;\n",
       "        }    #T_dc3fdc10_e91c_11e9_88d7_309c23131503row4_col4 {\n",
       "            background-color:  #023858;\n",
       "            color:  #f1f1f1;\n",
       "        }    #T_dc3fdc10_e91c_11e9_88d7_309c23131503row4_col5 {\n",
       "            background-color:  #b9c6e0;\n",
       "            color:  #000000;\n",
       "        }    #T_dc3fdc10_e91c_11e9_88d7_309c23131503row4_col6 {\n",
       "            background-color:  #c0c9e2;\n",
       "            color:  #000000;\n",
       "        }    #T_dc3fdc10_e91c_11e9_88d7_309c23131503row4_col7 {\n",
       "            background-color:  #e7e3f0;\n",
       "            color:  #000000;\n",
       "        }    #T_dc3fdc10_e91c_11e9_88d7_309c23131503row4_col8 {\n",
       "            background-color:  #8fb4d6;\n",
       "            color:  #000000;\n",
       "        }    #T_dc3fdc10_e91c_11e9_88d7_309c23131503row4_col9 {\n",
       "            background-color:  #eee8f3;\n",
       "            color:  #000000;\n",
       "        }    #T_dc3fdc10_e91c_11e9_88d7_309c23131503row5_col0 {\n",
       "            background-color:  #fbf4f9;\n",
       "            color:  #000000;\n",
       "        }    #T_dc3fdc10_e91c_11e9_88d7_309c23131503row5_col1 {\n",
       "            background-color:  #b7c5df;\n",
       "            color:  #000000;\n",
       "        }    #T_dc3fdc10_e91c_11e9_88d7_309c23131503row5_col2 {\n",
       "            background-color:  #fff7fb;\n",
       "            color:  #000000;\n",
       "        }    #T_dc3fdc10_e91c_11e9_88d7_309c23131503row5_col3 {\n",
       "            background-color:  #d4d4e8;\n",
       "            color:  #000000;\n",
       "        }    #T_dc3fdc10_e91c_11e9_88d7_309c23131503row5_col4 {\n",
       "            background-color:  #d6d6e9;\n",
       "            color:  #000000;\n",
       "        }    #T_dc3fdc10_e91c_11e9_88d7_309c23131503row5_col5 {\n",
       "            background-color:  #023858;\n",
       "            color:  #f1f1f1;\n",
       "        }    #T_dc3fdc10_e91c_11e9_88d7_309c23131503row5_col6 {\n",
       "            background-color:  #5c9fc9;\n",
       "            color:  #000000;\n",
       "        }    #T_dc3fdc10_e91c_11e9_88d7_309c23131503row5_col7 {\n",
       "            background-color:  #b0c2de;\n",
       "            color:  #000000;\n",
       "        }    #T_dc3fdc10_e91c_11e9_88d7_309c23131503row5_col8 {\n",
       "            background-color:  #60a1ca;\n",
       "            color:  #000000;\n",
       "        }    #T_dc3fdc10_e91c_11e9_88d7_309c23131503row5_col9 {\n",
       "            background-color:  #d3d4e7;\n",
       "            color:  #000000;\n",
       "        }    #T_dc3fdc10_e91c_11e9_88d7_309c23131503row6_col0 {\n",
       "            background-color:  #f4edf6;\n",
       "            color:  #000000;\n",
       "        }    #T_dc3fdc10_e91c_11e9_88d7_309c23131503row6_col1 {\n",
       "            background-color:  #93b5d6;\n",
       "            color:  #000000;\n",
       "        }    #T_dc3fdc10_e91c_11e9_88d7_309c23131503row6_col2 {\n",
       "            background-color:  #fff7fb;\n",
       "            color:  #000000;\n",
       "        }    #T_dc3fdc10_e91c_11e9_88d7_309c23131503row6_col3 {\n",
       "            background-color:  #f1ebf5;\n",
       "            color:  #000000;\n",
       "        }    #T_dc3fdc10_e91c_11e9_88d7_309c23131503row6_col4 {\n",
       "            background-color:  #dbdaeb;\n",
       "            color:  #000000;\n",
       "        }    #T_dc3fdc10_e91c_11e9_88d7_309c23131503row6_col5 {\n",
       "            background-color:  #5ea0ca;\n",
       "            color:  #000000;\n",
       "        }    #T_dc3fdc10_e91c_11e9_88d7_309c23131503row6_col6 {\n",
       "            background-color:  #023858;\n",
       "            color:  #f1f1f1;\n",
       "        }    #T_dc3fdc10_e91c_11e9_88d7_309c23131503row6_col7 {\n",
       "            background-color:  #5c9fc9;\n",
       "            color:  #000000;\n",
       "        }    #T_dc3fdc10_e91c_11e9_88d7_309c23131503row6_col8 {\n",
       "            background-color:  #3f93c2;\n",
       "            color:  #000000;\n",
       "        }    #T_dc3fdc10_e91c_11e9_88d7_309c23131503row6_col9 {\n",
       "            background-color:  #a2bcda;\n",
       "            color:  #000000;\n",
       "        }    #T_dc3fdc10_e91c_11e9_88d7_309c23131503row7_col0 {\n",
       "            background-color:  #f7f0f7;\n",
       "            color:  #000000;\n",
       "        }    #T_dc3fdc10_e91c_11e9_88d7_309c23131503row7_col1 {\n",
       "            background-color:  #a8bedc;\n",
       "            color:  #000000;\n",
       "        }    #T_dc3fdc10_e91c_11e9_88d7_309c23131503row7_col2 {\n",
       "            background-color:  #f4edf6;\n",
       "            color:  #000000;\n",
       "        }    #T_dc3fdc10_e91c_11e9_88d7_309c23131503row7_col3 {\n",
       "            background-color:  #e9e5f1;\n",
       "            color:  #000000;\n",
       "        }    #T_dc3fdc10_e91c_11e9_88d7_309c23131503row7_col4 {\n",
       "            background-color:  #f3edf5;\n",
       "            color:  #000000;\n",
       "        }    #T_dc3fdc10_e91c_11e9_88d7_309c23131503row7_col5 {\n",
       "            background-color:  #a5bddb;\n",
       "            color:  #000000;\n",
       "        }    #T_dc3fdc10_e91c_11e9_88d7_309c23131503row7_col6 {\n",
       "            background-color:  #509ac6;\n",
       "            color:  #000000;\n",
       "        }    #T_dc3fdc10_e91c_11e9_88d7_309c23131503row7_col7 {\n",
       "            background-color:  #023858;\n",
       "            color:  #f1f1f1;\n",
       "        }    #T_dc3fdc10_e91c_11e9_88d7_309c23131503row7_col8 {\n",
       "            background-color:  #7bacd1;\n",
       "            color:  #000000;\n",
       "        }    #T_dc3fdc10_e91c_11e9_88d7_309c23131503row7_col9 {\n",
       "            background-color:  #b4c4df;\n",
       "            color:  #000000;\n",
       "        }    #T_dc3fdc10_e91c_11e9_88d7_309c23131503row8_col0 {\n",
       "            background-color:  #dedcec;\n",
       "            color:  #000000;\n",
       "        }    #T_dc3fdc10_e91c_11e9_88d7_309c23131503row8_col1 {\n",
       "            background-color:  #c4cbe3;\n",
       "            color:  #000000;\n",
       "        }    #T_dc3fdc10_e91c_11e9_88d7_309c23131503row8_col2 {\n",
       "            background-color:  #d8d7e9;\n",
       "            color:  #000000;\n",
       "        }    #T_dc3fdc10_e91c_11e9_88d7_309c23131503row8_col3 {\n",
       "            background-color:  #fff7fb;\n",
       "            color:  #000000;\n",
       "        }    #T_dc3fdc10_e91c_11e9_88d7_309c23131503row8_col4 {\n",
       "            background-color:  #c4cbe3;\n",
       "            color:  #000000;\n",
       "        }    #T_dc3fdc10_e91c_11e9_88d7_309c23131503row8_col5 {\n",
       "            background-color:  #76aad0;\n",
       "            color:  #000000;\n",
       "        }    #T_dc3fdc10_e91c_11e9_88d7_309c23131503row8_col6 {\n",
       "            background-color:  #529bc7;\n",
       "            color:  #000000;\n",
       "        }    #T_dc3fdc10_e91c_11e9_88d7_309c23131503row8_col7 {\n",
       "            background-color:  #9cb9d9;\n",
       "            color:  #000000;\n",
       "        }    #T_dc3fdc10_e91c_11e9_88d7_309c23131503row8_col8 {\n",
       "            background-color:  #023858;\n",
       "            color:  #f1f1f1;\n",
       "        }    #T_dc3fdc10_e91c_11e9_88d7_309c23131503row8_col9 {\n",
       "            background-color:  #a5bddb;\n",
       "            color:  #000000;\n",
       "        }    #T_dc3fdc10_e91c_11e9_88d7_309c23131503row9_col0 {\n",
       "            background-color:  #ece7f2;\n",
       "            color:  #000000;\n",
       "        }    #T_dc3fdc10_e91c_11e9_88d7_309c23131503row9_col1 {\n",
       "            background-color:  #bfc9e1;\n",
       "            color:  #000000;\n",
       "        }    #T_dc3fdc10_e91c_11e9_88d7_309c23131503row9_col2 {\n",
       "            background-color:  #d7d6e9;\n",
       "            color:  #000000;\n",
       "        }    #T_dc3fdc10_e91c_11e9_88d7_309c23131503row9_col3 {\n",
       "            background-color:  #f0eaf4;\n",
       "            color:  #000000;\n",
       "        }    #T_dc3fdc10_e91c_11e9_88d7_309c23131503row9_col4 {\n",
       "            background-color:  #fff7fb;\n",
       "            color:  #000000;\n",
       "        }    #T_dc3fdc10_e91c_11e9_88d7_309c23131503row9_col5 {\n",
       "            background-color:  #d2d3e7;\n",
       "            color:  #000000;\n",
       "        }    #T_dc3fdc10_e91c_11e9_88d7_309c23131503row9_col6 {\n",
       "            background-color:  #a1bbda;\n",
       "            color:  #000000;\n",
       "        }    #T_dc3fdc10_e91c_11e9_88d7_309c23131503row9_col7 {\n",
       "            background-color:  #bdc8e1;\n",
       "            color:  #000000;\n",
       "        }    #T_dc3fdc10_e91c_11e9_88d7_309c23131503row9_col8 {\n",
       "            background-color:  #8cb3d5;\n",
       "            color:  #000000;\n",
       "        }    #T_dc3fdc10_e91c_11e9_88d7_309c23131503row9_col9 {\n",
       "            background-color:  #023858;\n",
       "            color:  #f1f1f1;\n",
       "        }</style><table id=\"T_dc3fdc10_e91c_11e9_88d7_309c23131503\" ><thead>    <tr>        <th class=\"blank level0\" ></th>        <th class=\"col_heading level0 col0\" >row.labels</th>        <th class=\"col_heading level0 col1\" >totalprice</th>        <th class=\"col_heading level0 col2\" >area</th>        <th class=\"col_heading level0 col3\" >age</th>        <th class=\"col_heading level0 col4\" >floor</th>        <th class=\"col_heading level0 col5\" >rooms</th>        <th class=\"col_heading level0 col6\" >toilets</th>        <th class=\"col_heading level0 col7\" >garage</th>        <th class=\"col_heading level0 col8\" >elevator</th>        <th class=\"col_heading level0 col9\" >tras</th>    </tr></thead><tbody>\n",
       "                <tr>\n",
       "                        <th id=\"T_dc3fdc10_e91c_11e9_88d7_309c23131503level0_row0\" class=\"row_heading level0 row0\" >row.labels</th>\n",
       "                        <td id=\"T_dc3fdc10_e91c_11e9_88d7_309c23131503row0_col0\" class=\"data row0 col0\" >1</td>\n",
       "                        <td id=\"T_dc3fdc10_e91c_11e9_88d7_309c23131503row0_col1\" class=\"data row0 col1\" >-0.15</td>\n",
       "                        <td id=\"T_dc3fdc10_e91c_11e9_88d7_309c23131503row0_col2\" class=\"data row0 col2\" >0.15</td>\n",
       "                        <td id=\"T_dc3fdc10_e91c_11e9_88d7_309c23131503row0_col3\" class=\"data row0 col3\" >-0.018</td>\n",
       "                        <td id=\"T_dc3fdc10_e91c_11e9_88d7_309c23131503row0_col4\" class=\"data row0 col4\" >-0.0067</td>\n",
       "                        <td id=\"T_dc3fdc10_e91c_11e9_88d7_309c23131503row0_col5\" class=\"data row0 col5\" >-0.12</td>\n",
       "                        <td id=\"T_dc3fdc10_e91c_11e9_88d7_309c23131503row0_col6\" class=\"data row0 col6\" >-0.066</td>\n",
       "                        <td id=\"T_dc3fdc10_e91c_11e9_88d7_309c23131503row0_col7\" class=\"data row0 col7\" >-0.085</td>\n",
       "                        <td id=\"T_dc3fdc10_e91c_11e9_88d7_309c23131503row0_col8\" class=\"data row0 col8\" >0.068</td>\n",
       "                        <td id=\"T_dc3fdc10_e91c_11e9_88d7_309c23131503row0_col9\" class=\"data row0 col9\" >-0.0066</td>\n",
       "            </tr>\n",
       "            <tr>\n",
       "                        <th id=\"T_dc3fdc10_e91c_11e9_88d7_309c23131503level0_row1\" class=\"row_heading level0 row1\" >totalprice</th>\n",
       "                        <td id=\"T_dc3fdc10_e91c_11e9_88d7_309c23131503row1_col0\" class=\"data row1 col0\" >-0.15</td>\n",
       "                        <td id=\"T_dc3fdc10_e91c_11e9_88d7_309c23131503row1_col1\" class=\"data row1 col1\" >1</td>\n",
       "                        <td id=\"T_dc3fdc10_e91c_11e9_88d7_309c23131503row1_col2\" class=\"data row1 col2\" >-0.19</td>\n",
       "                        <td id=\"T_dc3fdc10_e91c_11e9_88d7_309c23131503row1_col3\" class=\"data row1 col3\" >-0.075</td>\n",
       "                        <td id=\"T_dc3fdc10_e91c_11e9_88d7_309c23131503row1_col4\" class=\"data row1 col4\" >0.0031</td>\n",
       "                        <td id=\"T_dc3fdc10_e91c_11e9_88d7_309c23131503row1_col5\" class=\"data row1 col5\" >0.2</td>\n",
       "                        <td id=\"T_dc3fdc10_e91c_11e9_88d7_309c23131503row1_col6\" class=\"data row1 col6\" >0.31</td>\n",
       "                        <td id=\"T_dc3fdc10_e91c_11e9_88d7_309c23131503row1_col7\" class=\"data row1 col7\" >0.25</td>\n",
       "                        <td id=\"T_dc3fdc10_e91c_11e9_88d7_309c23131503row1_col8\" class=\"data row1 col8\" >0.15</td>\n",
       "                        <td id=\"T_dc3fdc10_e91c_11e9_88d7_309c23131503row1_col9\" class=\"data row1 col9\" >0.17</td>\n",
       "            </tr>\n",
       "            <tr>\n",
       "                        <th id=\"T_dc3fdc10_e91c_11e9_88d7_309c23131503level0_row2\" class=\"row_heading level0 row2\" >area</th>\n",
       "                        <td id=\"T_dc3fdc10_e91c_11e9_88d7_309c23131503row2_col0\" class=\"data row2 col0\" >0.15</td>\n",
       "                        <td id=\"T_dc3fdc10_e91c_11e9_88d7_309c23131503row2_col1\" class=\"data row2 col1\" >-0.19</td>\n",
       "                        <td id=\"T_dc3fdc10_e91c_11e9_88d7_309c23131503row2_col2\" class=\"data row2 col2\" >1</td>\n",
       "                        <td id=\"T_dc3fdc10_e91c_11e9_88d7_309c23131503row2_col3\" class=\"data row2 col3\" >-0.14</td>\n",
       "                        <td id=\"T_dc3fdc10_e91c_11e9_88d7_309c23131503row2_col4\" class=\"data row2 col4\" >-0.018</td>\n",
       "                        <td id=\"T_dc3fdc10_e91c_11e9_88d7_309c23131503row2_col5\" class=\"data row2 col5\" >-0.28</td>\n",
       "                        <td id=\"T_dc3fdc10_e91c_11e9_88d7_309c23131503row2_col6\" class=\"data row2 col6\" >-0.28</td>\n",
       "                        <td id=\"T_dc3fdc10_e91c_11e9_88d7_309c23131503row2_col7\" class=\"data row2 col7\" >-0.18</td>\n",
       "                        <td id=\"T_dc3fdc10_e91c_11e9_88d7_309c23131503row2_col8\" class=\"data row2 col8\" >-3.2e-05</td>\n",
       "                        <td id=\"T_dc3fdc10_e91c_11e9_88d7_309c23131503row2_col9\" class=\"data row2 col9\" >0.0038</td>\n",
       "            </tr>\n",
       "            <tr>\n",
       "                        <th id=\"T_dc3fdc10_e91c_11e9_88d7_309c23131503level0_row3\" class=\"row_heading level0 row3\" >age</th>\n",
       "                        <td id=\"T_dc3fdc10_e91c_11e9_88d7_309c23131503row3_col0\" class=\"data row3 col0\" >-0.018</td>\n",
       "                        <td id=\"T_dc3fdc10_e91c_11e9_88d7_309c23131503row3_col1\" class=\"data row3 col1\" >-0.075</td>\n",
       "                        <td id=\"T_dc3fdc10_e91c_11e9_88d7_309c23131503row3_col2\" class=\"data row3 col2\" >-0.14</td>\n",
       "                        <td id=\"T_dc3fdc10_e91c_11e9_88d7_309c23131503row3_col3\" class=\"data row3 col3\" >1</td>\n",
       "                        <td id=\"T_dc3fdc10_e91c_11e9_88d7_309c23131503row3_col4\" class=\"data row3 col4\" >-0.081</td>\n",
       "                        <td id=\"T_dc3fdc10_e91c_11e9_88d7_309c23131503row3_col5\" class=\"data row3 col5\" >-0.083</td>\n",
       "                        <td id=\"T_dc3fdc10_e91c_11e9_88d7_309c23131503row3_col6\" class=\"data row3 col6\" >-0.28</td>\n",
       "                        <td id=\"T_dc3fdc10_e91c_11e9_88d7_309c23131503row3_col7\" class=\"data row3 col7\" >-0.21</td>\n",
       "                        <td id=\"T_dc3fdc10_e91c_11e9_88d7_309c23131503row3_col8\" class=\"data row3 col8\" >-0.41</td>\n",
       "                        <td id=\"T_dc3fdc10_e91c_11e9_88d7_309c23131503row3_col9\" class=\"data row3 col9\" >-0.27</td>\n",
       "            </tr>\n",
       "            <tr>\n",
       "                        <th id=\"T_dc3fdc10_e91c_11e9_88d7_309c23131503level0_row4\" class=\"row_heading level0 row4\" >floor</th>\n",
       "                        <td id=\"T_dc3fdc10_e91c_11e9_88d7_309c23131503row4_col0\" class=\"data row4 col0\" >-0.0067</td>\n",
       "                        <td id=\"T_dc3fdc10_e91c_11e9_88d7_309c23131503row4_col1\" class=\"data row4 col1\" >0.0031</td>\n",
       "                        <td id=\"T_dc3fdc10_e91c_11e9_88d7_309c23131503row4_col2\" class=\"data row4 col2\" >-0.018</td>\n",
       "                        <td id=\"T_dc3fdc10_e91c_11e9_88d7_309c23131503row4_col3\" class=\"data row4 col3\" >-0.081</td>\n",
       "                        <td id=\"T_dc3fdc10_e91c_11e9_88d7_309c23131503row4_col4\" class=\"data row4 col4\" >1</td>\n",
       "                        <td id=\"T_dc3fdc10_e91c_11e9_88d7_309c23131503row4_col5\" class=\"data row4 col5\" >0.13</td>\n",
       "                        <td id=\"T_dc3fdc10_e91c_11e9_88d7_309c23131503row4_col6\" class=\"data row4 col6\" >0.1</td>\n",
       "                        <td id=\"T_dc3fdc10_e91c_11e9_88d7_309c23131503row4_col7\" class=\"data row4 col7\" >-0.03</td>\n",
       "                        <td id=\"T_dc3fdc10_e91c_11e9_88d7_309c23131503row4_col8\" class=\"data row4 col8\" >0.2</td>\n",
       "                        <td id=\"T_dc3fdc10_e91c_11e9_88d7_309c23131503row4_col9\" class=\"data row4 col9\" >-0.12</td>\n",
       "            </tr>\n",
       "            <tr>\n",
       "                        <th id=\"T_dc3fdc10_e91c_11e9_88d7_309c23131503level0_row5\" class=\"row_heading level0 row5\" >rooms</th>\n",
       "                        <td id=\"T_dc3fdc10_e91c_11e9_88d7_309c23131503row5_col0\" class=\"data row5 col0\" >-0.12</td>\n",
       "                        <td id=\"T_dc3fdc10_e91c_11e9_88d7_309c23131503row5_col1\" class=\"data row5 col1\" >0.2</td>\n",
       "                        <td id=\"T_dc3fdc10_e91c_11e9_88d7_309c23131503row5_col2\" class=\"data row5 col2\" >-0.28</td>\n",
       "                        <td id=\"T_dc3fdc10_e91c_11e9_88d7_309c23131503row5_col3\" class=\"data row5 col3\" >-0.083</td>\n",
       "                        <td id=\"T_dc3fdc10_e91c_11e9_88d7_309c23131503row5_col4\" class=\"data row5 col4\" >0.13</td>\n",
       "                        <td id=\"T_dc3fdc10_e91c_11e9_88d7_309c23131503row5_col5\" class=\"data row5 col5\" >1</td>\n",
       "                        <td id=\"T_dc3fdc10_e91c_11e9_88d7_309c23131503row5_col6\" class=\"data row5 col6\" >0.42</td>\n",
       "                        <td id=\"T_dc3fdc10_e91c_11e9_88d7_309c23131503row5_col7\" class=\"data row5 col7\" >0.21</td>\n",
       "                        <td id=\"T_dc3fdc10_e91c_11e9_88d7_309c23131503row5_col8\" class=\"data row5 col8\" >0.35</td>\n",
       "                        <td id=\"T_dc3fdc10_e91c_11e9_88d7_309c23131503row5_col9\" class=\"data row5 col9\" >0.033</td>\n",
       "            </tr>\n",
       "            <tr>\n",
       "                        <th id=\"T_dc3fdc10_e91c_11e9_88d7_309c23131503level0_row6\" class=\"row_heading level0 row6\" >toilets</th>\n",
       "                        <td id=\"T_dc3fdc10_e91c_11e9_88d7_309c23131503row6_col0\" class=\"data row6 col0\" >-0.066</td>\n",
       "                        <td id=\"T_dc3fdc10_e91c_11e9_88d7_309c23131503row6_col1\" class=\"data row6 col1\" >0.31</td>\n",
       "                        <td id=\"T_dc3fdc10_e91c_11e9_88d7_309c23131503row6_col2\" class=\"data row6 col2\" >-0.28</td>\n",
       "                        <td id=\"T_dc3fdc10_e91c_11e9_88d7_309c23131503row6_col3\" class=\"data row6 col3\" >-0.28</td>\n",
       "                        <td id=\"T_dc3fdc10_e91c_11e9_88d7_309c23131503row6_col4\" class=\"data row6 col4\" >0.1</td>\n",
       "                        <td id=\"T_dc3fdc10_e91c_11e9_88d7_309c23131503row6_col5\" class=\"data row6 col5\" >0.42</td>\n",
       "                        <td id=\"T_dc3fdc10_e91c_11e9_88d7_309c23131503row6_col6\" class=\"data row6 col6\" >1</td>\n",
       "                        <td id=\"T_dc3fdc10_e91c_11e9_88d7_309c23131503row6_col7\" class=\"data row6 col7\" >0.45</td>\n",
       "                        <td id=\"T_dc3fdc10_e91c_11e9_88d7_309c23131503row6_col8\" class=\"data row6 col8\" >0.45</td>\n",
       "                        <td id=\"T_dc3fdc10_e91c_11e9_88d7_309c23131503row6_col9\" class=\"data row6 col9\" >0.22</td>\n",
       "            </tr>\n",
       "            <tr>\n",
       "                        <th id=\"T_dc3fdc10_e91c_11e9_88d7_309c23131503level0_row7\" class=\"row_heading level0 row7\" >garage</th>\n",
       "                        <td id=\"T_dc3fdc10_e91c_11e9_88d7_309c23131503row7_col0\" class=\"data row7 col0\" >-0.085</td>\n",
       "                        <td id=\"T_dc3fdc10_e91c_11e9_88d7_309c23131503row7_col1\" class=\"data row7 col1\" >0.25</td>\n",
       "                        <td id=\"T_dc3fdc10_e91c_11e9_88d7_309c23131503row7_col2\" class=\"data row7 col2\" >-0.18</td>\n",
       "                        <td id=\"T_dc3fdc10_e91c_11e9_88d7_309c23131503row7_col3\" class=\"data row7 col3\" >-0.21</td>\n",
       "                        <td id=\"T_dc3fdc10_e91c_11e9_88d7_309c23131503row7_col4\" class=\"data row7 col4\" >-0.03</td>\n",
       "                        <td id=\"T_dc3fdc10_e91c_11e9_88d7_309c23131503row7_col5\" class=\"data row7 col5\" >0.21</td>\n",
       "                        <td id=\"T_dc3fdc10_e91c_11e9_88d7_309c23131503row7_col6\" class=\"data row7 col6\" >0.45</td>\n",
       "                        <td id=\"T_dc3fdc10_e91c_11e9_88d7_309c23131503row7_col7\" class=\"data row7 col7\" >1</td>\n",
       "                        <td id=\"T_dc3fdc10_e91c_11e9_88d7_309c23131503row7_col8\" class=\"data row7 col8\" >0.27</td>\n",
       "                        <td id=\"T_dc3fdc10_e91c_11e9_88d7_309c23131503row7_col9\" class=\"data row7 col9\" >0.16</td>\n",
       "            </tr>\n",
       "            <tr>\n",
       "                        <th id=\"T_dc3fdc10_e91c_11e9_88d7_309c23131503level0_row8\" class=\"row_heading level0 row8\" >elevator</th>\n",
       "                        <td id=\"T_dc3fdc10_e91c_11e9_88d7_309c23131503row8_col0\" class=\"data row8 col0\" >0.068</td>\n",
       "                        <td id=\"T_dc3fdc10_e91c_11e9_88d7_309c23131503row8_col1\" class=\"data row8 col1\" >0.15</td>\n",
       "                        <td id=\"T_dc3fdc10_e91c_11e9_88d7_309c23131503row8_col2\" class=\"data row8 col2\" >-3.2e-05</td>\n",
       "                        <td id=\"T_dc3fdc10_e91c_11e9_88d7_309c23131503row8_col3\" class=\"data row8 col3\" >-0.41</td>\n",
       "                        <td id=\"T_dc3fdc10_e91c_11e9_88d7_309c23131503row8_col4\" class=\"data row8 col4\" >0.2</td>\n",
       "                        <td id=\"T_dc3fdc10_e91c_11e9_88d7_309c23131503row8_col5\" class=\"data row8 col5\" >0.35</td>\n",
       "                        <td id=\"T_dc3fdc10_e91c_11e9_88d7_309c23131503row8_col6\" class=\"data row8 col6\" >0.45</td>\n",
       "                        <td id=\"T_dc3fdc10_e91c_11e9_88d7_309c23131503row8_col7\" class=\"data row8 col7\" >0.27</td>\n",
       "                        <td id=\"T_dc3fdc10_e91c_11e9_88d7_309c23131503row8_col8\" class=\"data row8 col8\" >1</td>\n",
       "                        <td id=\"T_dc3fdc10_e91c_11e9_88d7_309c23131503row8_col9\" class=\"data row8 col9\" >0.21</td>\n",
       "            </tr>\n",
       "            <tr>\n",
       "                        <th id=\"T_dc3fdc10_e91c_11e9_88d7_309c23131503level0_row9\" class=\"row_heading level0 row9\" >tras</th>\n",
       "                        <td id=\"T_dc3fdc10_e91c_11e9_88d7_309c23131503row9_col0\" class=\"data row9 col0\" >-0.0066</td>\n",
       "                        <td id=\"T_dc3fdc10_e91c_11e9_88d7_309c23131503row9_col1\" class=\"data row9 col1\" >0.17</td>\n",
       "                        <td id=\"T_dc3fdc10_e91c_11e9_88d7_309c23131503row9_col2\" class=\"data row9 col2\" >0.0038</td>\n",
       "                        <td id=\"T_dc3fdc10_e91c_11e9_88d7_309c23131503row9_col3\" class=\"data row9 col3\" >-0.27</td>\n",
       "                        <td id=\"T_dc3fdc10_e91c_11e9_88d7_309c23131503row9_col4\" class=\"data row9 col4\" >-0.12</td>\n",
       "                        <td id=\"T_dc3fdc10_e91c_11e9_88d7_309c23131503row9_col5\" class=\"data row9 col5\" >0.033</td>\n",
       "                        <td id=\"T_dc3fdc10_e91c_11e9_88d7_309c23131503row9_col6\" class=\"data row9 col6\" >0.22</td>\n",
       "                        <td id=\"T_dc3fdc10_e91c_11e9_88d7_309c23131503row9_col7\" class=\"data row9 col7\" >0.16</td>\n",
       "                        <td id=\"T_dc3fdc10_e91c_11e9_88d7_309c23131503row9_col8\" class=\"data row9 col8\" >0.21</td>\n",
       "                        <td id=\"T_dc3fdc10_e91c_11e9_88d7_309c23131503row9_col9\" class=\"data row9 col9\" >1</td>\n",
       "            </tr>\n",
       "    </tbody></table>"
      ],
      "text/plain": [
       "<pandas.io.formats.style.Styler at 0x1ab56285e80>"
      ]
     },
     "execution_count": 22,
     "metadata": {},
     "output_type": "execute_result"
    }
   ],
   "source": [
    "#Mencari korelasi antar features\n",
    "df.corr().style.background_gradient().set_precision(2)"
   ]
  },
  {
   "cell_type": "markdown",
   "metadata": {},
   "source": [
    "- Korelasi totalprice dan toilets cukup kuat yaitu 0.31.\n",
    "- Sedangkan korelasi totalprice dan garage yaitu 0.25."
   ]
  },
  {
   "cell_type": "code",
   "execution_count": 29,
   "metadata": {},
   "outputs": [
    {
     "data": {
      "text/plain": [
       "<matplotlib.axes._subplots.AxesSubplot at 0x1ab567b7128>"
      ]
     },
     "execution_count": 29,
     "metadata": {},
     "output_type": "execute_result"
    },
    {
     "data": {
      "image/png": "[encoded data removed]",
      "text/plain": [
       "<Figure size 432x288 with 1 Axes>"
      ]
     },
     "metadata": {
      "needs_background": "light"
     },
     "output_type": "display_data"
    }
   ],
   "source": [
    "#Bivariate Analysis antara totalprice dan toilets\n",
    "sns.barplot(data=df, x=df['toilets'], y=df['totalprice'], color='blue')"
   ]
  },
  {
   "cell_type": "markdown",
   "metadata": {},
   "source": [
    "- Dapat dilihat bahwa semakin banyak toilets maka akan memberi dampak semakin mahal sebuah apartment."
   ]
  },
  {
   "cell_type": "code",
   "execution_count": 30,
   "metadata": {},
   "outputs": [
    {
     "data": {
      "text/plain": [
       "<matplotlib.axes._subplots.AxesSubplot at 0x1ab567f9198>"
      ]
     },
     "execution_count": 30,
     "metadata": {},
     "output_type": "execute_result"
    },
    {
     "data": {
      "image/png": "[encoded data removed]",
      "text/plain": [
       "<Figure size 432x288 with 1 Axes>"
      ]
     },
     "metadata": {
      "needs_background": "light"
     },
     "output_type": "display_data"
    }
   ],
   "source": [
    "#Bivariate Analysis antara totalprice dan toilets\n",
    "sns.barplot(data=df, x=df['rooms'], y=df['totalprice'], color='green')"
   ]
  },
  {
   "cell_type": "markdown",
   "metadata": {},
   "source": [
    "- Semakin banyak rooms maka semakin mahal sebuah apartment"
   ]
  },
  {
   "cell_type": "markdown",
   "metadata": {},
   "source": [
    "## 4. Feature Selection"
   ]
  },
  {
   "cell_type": "markdown",
   "metadata": {},
   "source": [
    "- Saya akan memilih variabel dengan type data numerik karena model machine learning hanya menerima type data yang berbentuk numerik.\n",
    "- Terkecuali conservation yang akan saya rubah ke dalam bentuk numerikal."
   ]
  },
  {
   "cell_type": "code",
   "execution_count": 36,
   "metadata": {},
   "outputs": [],
   "source": [
    "#Mengubah nilai conservation\n",
    "dicti = {\n",
    "    '2B':3,\n",
    "    '3A':3,\n",
    "    '2A':2,\n",
    "    '1A':1\n",
    "}\n",
    "df['conservation'] = df['conservation'].replace(dicti)"
   ]
  },
  {
   "cell_type": "code",
   "execution_count": 42,
   "metadata": {},
   "outputs": [],
   "source": [
    "new_df = df.copy()"
   ]
  },
  {
   "cell_type": "code",
   "execution_count": 46,
   "metadata": {},
   "outputs": [],
   "source": [
    "#Menghapus kolom yang tidak perlu\n",
    "drop = ['zone', 'category', 'out', 'streetcategory', 'heating']\n",
    "new_df.drop(columns=drop, inplace=True)"
   ]
  },
  {
   "cell_type": "code",
   "execution_count": 52,
   "metadata": {},
   "outputs": [],
   "source": [
    "#Membuat one hot encoding\n",
    "new_df['conservation'] = pd.Categorical(new_df['conservation'])\n",
    "new_df = pd.get_dummies(new_df)"
   ]
  },
  {
   "cell_type": "markdown",
   "metadata": {},
   "source": [
    "## 5. Modelling"
   ]
  },
  {
   "cell_type": "code",
   "execution_count": 56,
   "metadata": {},
   "outputs": [],
   "source": [
    "#Memakai Linear regression\n",
    "lin_reg = LinearRegression()"
   ]
  },
  {
   "cell_type": "code",
   "execution_count": 59,
   "metadata": {},
   "outputs": [],
   "source": [
    "#membuat variabel x dan y\n",
    "x = new_df.drop(columns = ['totalprice'])\n",
    "y = new_df['totalprice']"
   ]
  },
  {
   "cell_type": "code",
   "execution_count": 62,
   "metadata": {},
   "outputs": [],
   "source": [
    "#split data\n",
    "x_train, x_test, y_train, y_test = train_test_split(x, y, test_size=0.2)"
   ]
  },
  {
   "cell_type": "code",
   "execution_count": 63,
   "metadata": {},
   "outputs": [
    {
     "data": {
      "text/plain": [
       "LinearRegression(copy_X=True, fit_intercept=True, n_jobs=None, normalize=False)"
      ]
     },
     "execution_count": 63,
     "metadata": {},
     "output_type": "execute_result"
    }
   ],
   "source": [
    "#training model\n",
    "lin_reg.fit(x_train, y_train)"
   ]
  },
  {
   "cell_type": "code",
   "execution_count": 64,
   "metadata": {},
   "outputs": [],
   "source": [
    "#melakukan prediksi\n",
    "y_pred = lin_reg.predict(x_test)"
   ]
  },
  {
   "cell_type": "code",
   "execution_count": 72,
   "metadata": {},
   "outputs": [],
   "source": [
    "def mean_absolute_percentage_error(y_true, y_pred): \n",
    "    y_true, y_pred = np.array(y_true), np.array(y_pred)\n",
    "    return np.mean(np.abs((y_true - y_pred) / y_true)) * 100"
   ]
  },
  {
   "cell_type": "code",
   "execution_count": 73,
   "metadata": {},
   "outputs": [
    {
     "name": "stdout",
     "output_type": "stream",
     "text": [
      "Nilai MAE 33615.3649038535\n",
      "Nilai MAPE 12.145438875611934)\n"
     ]
    }
   ],
   "source": [
    "#check error\n",
    "print(f'Nilai MAE {mean_absolute_error(y_pred, y_test)}')\n",
    "print(f'Nilai MAPE {mean_absolute_percentage_error(y_test, y_pred)})')"
   ]
  },
  {
   "cell_type": "markdown",
   "metadata": {},
   "source": [
    "- Harga memiliki error sebesar 33 ribu dengan nilai MAPE sebesar 12%"
   ]
  },
  {
   "cell_type": "code",
   "execution_count": null,
   "metadata": {},
   "outputs": [],
   "source": []
  }
 ],
 "metadata": {
  "kernelspec": {
   "display_name": "Python 3",
   "language": "python",
   "name": "python3"
  },
  "language_info": {
   "codemirror_mode": {
    "name": "ipython",
    "version": 3
   },
   "file_extension": ".py",
   "mimetype": "text/x-python",
   "name": "python",
   "nbconvert_exporter": "python",
   "pygments_lexer": "ipython3",
   "version": "3.6.4"
  }
 },
 "nbformat": 4,
 "nbformat_minor": 2
}
